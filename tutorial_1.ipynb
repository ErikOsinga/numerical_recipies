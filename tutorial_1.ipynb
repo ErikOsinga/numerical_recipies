{
 "cells": [
  {
   "cell_type": "code",
   "execution_count": 1,
   "metadata": {},
   "outputs": [],
   "source": [
    "def arange(begin,end,steps):\n",
    "    \"\"\"\n",
    "    Return a list from begin to end with interval steps\n",
    "    \"\"\"\n",
    "    a = []\n",
    "    for i in range(end-begin):\n",
    "        a.append(begin+i*steps)\n",
    "    return a"
   ]
  },
  {
   "cell_type": "code",
   "execution_count": 2,
   "metadata": {},
   "outputs": [],
   "source": [
    "a = arange(1,101,1)"
   ]
  },
  {
   "cell_type": "code",
   "execution_count": 3,
   "metadata": {},
   "outputs": [
    {
     "name": "stdout",
     "output_type": "stream",
     "text": [
      "[1, 2, 3, 4, 5, 6, 7, 8, 9, 10, 11, 12, 13, 14, 15, 16, 17, 18, 19, 20, 21, 22, 23, 24, 25, 26, 27, 28, 29, 30, 31, 32, 33, 34, 35, 36, 37, 38, 39, 40, 41, 42, 43, 44, 45, 46, 47, 48, 49, 50, 51, 52, 53, 54, 55, 56, 57, 58, 59, 60, 61, 62, 63, 64, 65, 66, 67, 68, 69, 70, 71, 72, 73, 74, 75, 76, 77, 78, 79, 80, 81, 82, 83, 84, 85, 86, 87, 88, 89, 90, 91, 92, 93, 94, 95, 96, 97, 98, 99, 100]\n"
     ]
    }
   ],
   "source": [
    "print (a)"
   ]
  },
  {
   "cell_type": "code",
   "execution_count": 4,
   "metadata": {},
   "outputs": [],
   "source": [
    "def avg(list):\n",
    "    \"\"\"\n",
    "    Return the average of a list\n",
    "    \"\"\"\n",
    "    sum = 0.\n",
    "    for i in range(len(list)):\n",
    "        sum += list[i]\n",
    "    return sum/len(list)\n",
    "    "
   ]
  },
  {
   "cell_type": "code",
   "execution_count": 5,
   "metadata": {},
   "outputs": [
    {
     "name": "stdout",
     "output_type": "stream",
     "text": [
      "Average: 50.5\n"
     ]
    }
   ],
   "source": [
    "print (\"Average:\", avg(a))"
   ]
  },
  {
   "cell_type": "code",
   "execution_count": 6,
   "metadata": {},
   "outputs": [],
   "source": [
    "def std(list):\n",
    "    average = avg(list)\n",
    "    sum = 0.\n",
    "    for i in range(len(list)):\n",
    "        sum += (list[i] - average)**2\n",
    "    sum /= len(list)\n",
    "    return sum**0.5    \n",
    "    "
   ]
  },
  {
   "cell_type": "code",
   "execution_count": 7,
   "metadata": {},
   "outputs": [
    {
     "name": "stdout",
     "output_type": "stream",
     "text": [
      "Standard deviation 28.86607004772212\n"
     ]
    }
   ],
   "source": [
    "print (\"Standard deviation\", std(a))"
   ]
  },
  {
   "cell_type": "code",
   "execution_count": 8,
   "metadata": {},
   "outputs": [],
   "source": [
    "def avg_even_odd(list):\n",
    "    \"\"\"\n",
    "    For even or odd separately\n",
    "    \"\"\"   \n",
    "    sum_even = 0.\n",
    "    sum_odd = 0.\n",
    "    length_even = 0\n",
    "    length_odd = 0\n",
    "    for i in range(len(list)):\n",
    "        if i % 2 == 0: \n",
    "            sum_even += list[i]\n",
    "            length_even += 1\n",
    "        else:\n",
    "            sum_odd += list[i]\n",
    "            length_odd += 1\n",
    "    return sum_even/length_even, sum_odd/length_odd\n",
    "    \n",
    "\n",
    "def std_even_odd(list):\n",
    "    \"\"\"\n",
    "    For even or odd separately\n",
    "    \"\"\"\n",
    "    average_even, average_odd = avg_even_odd(list)\n",
    "    \n",
    "    sum_even = 0.\n",
    "    sum_odd = 0.\n",
    "    \n",
    "    length_even = 0\n",
    "    length_odd = 0\n",
    "    \n",
    "    for i in range(len(list)):\n",
    "        if list[i]%2 == 0:\n",
    "            sum_even += (list[i] - average_even)**2\n",
    "            length_even +=1\n",
    "        \n",
    "        else:\n",
    "            sum_odd += (list[i] - average_odd)**2\n",
    "            length_odd +=1\n",
    "            \n",
    "    sum_even /= length_even\n",
    "    sum_odd /= length_odd\n",
    "    return sum_even**0.5, sum_odd**0.5  \n",
    "\n",
    "\n",
    "\n",
    "\n",
    "    "
   ]
  },
  {
   "cell_type": "code",
   "execution_count": 9,
   "metadata": {},
   "outputs": [],
   "source": [
    "avg_even, avg_odd = avg_even_odd(a)\n",
    "std_even, std_odd = std_even_odd(a)"
   ]
  },
  {
   "cell_type": "code",
   "execution_count": 10,
   "metadata": {},
   "outputs": [
    {
     "name": "stdout",
     "output_type": "stream",
     "text": [
      "50.0 28.879058156387302\n",
      "51.0 28.879058156387302\n"
     ]
    }
   ],
   "source": [
    "print (avg_even, std_even)\n",
    "print (avg_odd, std_odd)"
   ]
  },
  {
   "cell_type": "code",
   "execution_count": 11,
   "metadata": {},
   "outputs": [],
   "source": [
    "def question_c(a):\n",
    "    not_use = list(range(0,10)) + list(range(45,57))\n",
    "    new_list = []\n",
    "    for i in range(len(a)):\n",
    "        if a[i] not in not_use:\n",
    "            new_list.append(a[i])\n",
    "    return avg(new_list), std(new_list)\n",
    "        \n",
    "    "
   ]
  },
  {
   "cell_type": "code",
   "execution_count": 12,
   "metadata": {},
   "outputs": [
    {
     "name": "stdout",
     "output_type": "stream",
     "text": [
      "(55.68354430379747, 28.097274206186928)\n"
     ]
    }
   ],
   "source": [
    "print (question_c(a))"
   ]
  },
  {
   "cell_type": "code",
   "execution_count": null,
   "metadata": {},
   "outputs": [],
   "source": []
  }
 ],
 "metadata": {
  "kernelspec": {
   "display_name": "Python 3",
   "language": "python",
   "name": "python3"
  },
  "language_info": {
   "codemirror_mode": {
    "name": "ipython",
    "version": 3
   },
   "file_extension": ".py",
   "mimetype": "text/x-python",
   "name": "python",
   "nbconvert_exporter": "python",
   "pygments_lexer": "ipython3",
   "version": "3.6.6"
  }
 },
 "nbformat": 4,
 "nbformat_minor": 2
}
