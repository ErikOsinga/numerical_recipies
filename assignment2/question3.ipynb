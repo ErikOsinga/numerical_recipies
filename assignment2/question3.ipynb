{
 "cells": [
  {
   "cell_type": "code",
   "execution_count": 1,
   "metadata": {},
   "outputs": [],
   "source": [
    "import numpy as np\n",
    "import matplotlib.pyplot as plt\n",
    "import some_routines as sr"
   ]
  },
  {
   "cell_type": "markdown",
   "metadata": {},
   "source": [
    "# 3. Linear structure growth"
   ]
  },
  {
   "cell_type": "markdown",
   "metadata": {},
   "source": [
    "#### Write down the linearized density growth equation for an Einstein-de Sitter Universe and calculate the numerical solution with the following initial conditions"
   ]
  },
  {
   "cell_type": "markdown",
   "metadata": {},
   "source": [
    "The partial differential equation is\n",
    "\\begin{equation}\n",
    "\\frac{d^2D}{dt^2} + 2\\frac{\\dot{a}}{a} \\frac{dD}{dt} = \\frac{3}{2} \\Omega_o H_0^2 \\frac{1}{a^3}D\n",
    "\\end{equation}\n"
   ]
  },
  {
   "cell_type": "markdown",
   "metadata": {},
   "source": [
    "With \n",
    "\\begin{equation}\n",
    "a(t) = \\left(\\frac{3}{2}H_0t \\right)^{2/3}\n",
    "\\end{equation}\n",
    "We have \n",
    "\\begin{equation}\n",
    "\\dot{a}(t) = \\left(\\frac{3}{2}H_0 \\right)^{2/3} \\frac{2}{3}t^{-1/3}\n",
    "\\end{equation}\n",
    "Thus\n",
    "\n",
    "\\begin{equation}\n",
    "\\frac{\\dot{a}(t)}{a(t)} = \\frac{2}{3t}\n",
    "\\end{equation}\n",
    "\n",
    "and the term on the right-hand side can be written as\n",
    "\\begin{equation}\n",
    "\\frac{3}{2} \\Omega_0 H_0^2 \\frac{1}{a^3} = \\frac{2}{3t^2}\n",
    "\\end{equation}\n",
    "since $\\Omega_0 = \\Omega_M = 1$ in an Einstein-de Sitter Universe.\n",
    "\n",
    "Filling in these terms, we get the following partial differential equation:\n",
    "\\begin{equation}\\label{eq:ODE}\n",
    "\\frac{d^2D}{dt^2} + \\frac{4}{3t} \\frac{dD}{dt} = \\frac{2}{3t^2} D\n",
    "\\end{equation}"
   ]
  },
  {
   "cell_type": "markdown",
   "metadata": {},
   "source": [
    "We write this as two first order differential equations by setting $D=z_1(t)$, $\\frac{dD}{dt} = z_2(t)$ and $\\frac{d^2D}{dt^2} = \\frac{d}{dt}z_2(t)$. This gives us the equations\n",
    "\\begin{equation}\n",
    "\\begin{split}\n",
    "\\frac{dz_1(t)}{dt} = z_2(t) \\\\\n",
    "\\frac{dz_2(t)}{dt} = \\frac{2}{3t^2} - \\frac{4}{3t} z_2(t)\n",
    "\\end{split}\n",
    "\\end{equation}\n",
    "\n",
    "We use the 4-th order Runge-Kutta method to solve these two first order ODEs numerically. \n"
   ]
  },
  {
   "cell_type": "markdown",
   "metadata": {},
   "source": [
    "The analytical solution to the ODE in Equation \\ref{eq:ODE} can be found by rewriting it and making the ansatz $D(t) \\propto t^\\alpha$ based on the rewritten form:\n",
    "\\begin{equation}\n",
    "t^2\\frac{d^2D}{dt^2} + t\\frac{4}{3} \\frac{dD}{dt} = \\frac{2}{3} D\n",
    "\\end{equation}\n",
    "Plugging in this ansatz gives us\n",
    "\\begin{equation}\n",
    "\\begin{split}\n",
    "\\alpha(\\alpha-1)t^{\\alpha-2}t^2 + \\frac{4}{3}\\alpha t^{\\alpha-1}t -\\frac{2}{3}t^\\alpha = 0 \\\\\n",
    "\\alpha(\\alpha-1) + \\frac{4}{3}\\alpha -\\frac{2}{3} = 0 \\\\\n",
    "\\alpha^2+\\frac{1}{3}\\alpha -\\frac{2}{3} = 0 \\\\\n",
    "\\end{split}\n",
    "\\end{equation}"
   ]
  },
  {
   "cell_type": "markdown",
   "metadata": {},
   "source": [
    "Which has solutions\n",
    "\\begin{equation}\n",
    "\\begin{split}\n",
    "\\alpha = \\frac{-\\frac{1}{3} \\pm \\sqrt{\\frac{1}{9}+4\\times\\frac{2}{3}}}{2} \\\\\n",
    "\\alpha = -1 \\mathrm{\\, or \\,} \\frac{2}{3}\n",
    "\\end{split}\n",
    "\\end{equation}"
   ]
  },
  {
   "cell_type": "markdown",
   "metadata": {},
   "source": [
    "The solution $D_1 \\propto t^{-1}$ is called the decaying mode, as the density fluctuation will decrease with time. The solution $D_2 \\propto t^{\\frac{2}{3}}$ is then called the growing mode solution. The general solution is thus\n",
    "\\begin{equation}\n",
    "D(t) = A t^{2/3} + B t^{-1}\n",
    "\\end{equation}\n",
    "Where $A$ and $B$ are constants given by the initial conditions. In this case we are given $D(1)$ and $D'(1)$, so we also need\n",
    "\\begin{equation}\n",
    "D'(t) = \\frac{2}{3} A t^{-1/3} - B t^{-2} \\\\\n",
    "\\end{equation}\n",
    "As such, in the case we are given the initial conditions at $t=1$, we can find $A$ and $B$ from\n",
    "\\begin{equation}\n",
    "\\begin{split}\n",
    "%D(1) + D'(1) = \\frac{5}{3} A \\\\\n",
    "A = \\frac{3}{5} (D(1) + D'(1)) \\\\\n",
    "B = D(1) - A\n",
    "\\end{split}\n",
    "\\end{equation}"
   ]
  },
  {
   "cell_type": "code",
   "execution_count": 2,
   "metadata": {},
   "outputs": [],
   "source": [
    "def f1(z1, z2, t):\n",
    "    \"\"\"returns dz1/dt = dD/dt\"\"\"\n",
    "    return z2\n",
    "\n",
    "def f2(z1, z2, t):\n",
    "    \"\"\"returns dz2/dt = d^2D/dt^2\"\"\"\n",
    "    return 2/(3*t**2)*z1 - 4/(3*t)*z2\n",
    "\n",
    "def rungekutta(func1, func2, h, endpoint, initial_t, initial_y\n",
    "               ,initial_y1):\n",
    "    \"\"\"\n",
    "    Solve a second order ODE with 4th order Runge Kutta\n",
    "    \n",
    "    func1      -- function that returns dz1/dt given y\n",
    "    func2      -- function that returns dz2/dt given y\n",
    "    h          -- stepsize\n",
    "    endpoint   -- end point \n",
    "    initial_t  -- initial value of dependent parameter\n",
    "    initial_y  -- initial value of function\n",
    "    initial_y1  -- initial value of derivative of function\n",
    "    \n",
    "    \"\"\"\n",
    "    t = [initial_t]\n",
    "    y = [initial_y]\n",
    "    y1 = [initial_y1] \n",
    "        \n",
    "    amount_steps = int((endpoint-initial_t)/h + 0.5)\n",
    "    for i in range(0,amount_steps):\n",
    "        # Four function evaluations to evaluate the new position\n",
    "        # And four function evaluations to evaluate the new derivative\n",
    "        k11 = h*func1(y[-1],y1[-1],t[-1]) \n",
    "        k21 = h*func2(y[-1],y1[-1],t[-1])\n",
    "        k12 = h*func1(y[-1]+0.5*k11,y1[-1]+0.5*k21,t[-1]+0.5*h)\n",
    "        k22 = h*func2(y[-1]+0.5*k11,y1[-1]+0.5*k21,t[-1]+0.5*h)\n",
    "        k13 = h*func1(y[-1]+0.5*k12,y1[-1]+0.5*k22,t[-1]+0.5*h)\n",
    "        k23 = h*func2(y[-1]+0.5*k12,y1[-1]+0.5*k22,t[-1]+0.5*h)\n",
    "        k14 = h*func1(y[-1]+0.5*k13,y1[-1]+0.5*k23,t[-1]+h)\n",
    "        k24 = h*func2(y[-1]+0.5*k13,y1[-1]+0.5*k23,t[-1]+h)\n",
    "        \n",
    "        y.append(y[-1]+(k11+2*k12+2*k13+k14)/6)\n",
    "        y1.append(y1[-1]+(k21+2*k22+2*k23+k24)/6)   \n",
    "        t.append(t[-1]+h)\n",
    "\n",
    "        \n",
    "    return np.array(t), np.array(y), np.array(y1)\n",
    "    \n",
    "    "
   ]
  },
  {
   "cell_type": "code",
   "execution_count": 3,
   "metadata": {},
   "outputs": [],
   "source": [
    "def analyticalD(D1,Ddt1,t):\n",
    "    \"\"\"\n",
    "    Given initial conditions D(1) and D'(1), returns the analytical\n",
    "    solution of the linearized density growth equation evaluated at 't'\n",
    "    \"\"\"\n",
    "    A = 3/5 * (D1+Ddt1)\n",
    "    B = D1 - A\n",
    "    return A*t**(2/3) + B*t**(-1)\n"
   ]
  },
  {
   "cell_type": "code",
   "execution_count": 8,
   "metadata": {},
   "outputs": [
    {
     "data": {
      "image/png": "[encoded data removed]",
      "text/plain": [
       "<Figure size 432x288 with 1 Axes>"
      ]
     },
     "metadata": {
      "needs_background": "light"
     },
     "output_type": "display_data"
    },
    {
     "data": {
      "image/png": "[encoded data removed]",
      "text/plain": [
       "<Figure size 432x288 with 1 Axes>"
      ]
     },
     "metadata": {
      "needs_background": "light"
     },
     "output_type": "display_data"
    },
    {
     "data": {
      "image/png": "[encoded data removed]",
      "text/plain": [
       "<Figure size 432x288 with 1 Axes>"
      ]
     },
     "metadata": {
      "needs_background": "light"
     },
     "output_type": "display_data"
    }
   ],
   "source": [
    "# Initial values\n",
    "all_D = [3,10,5]\n",
    "all_dD = [2,-10,0]\n",
    "\n",
    "# For Case 1, B=0, so there is only a growing mode.\n",
    "# For Case 2, A=0, so there is only a decaying mode\n",
    "# For Case 3, Both modes are present\n",
    "for i in range(3):\n",
    "    t, D, dDdt = rungekutta(f1,f2,0.001,1000,1,all_D[i],all_dD[i])\n",
    "    plt.loglog(t,analyticalD(all_D[i],all_dD[i],t)\n",
    "               ,alpha=0.5,label='Analytical')\n",
    "    plt.loglog(t,D\n",
    "               ,alpha=0.5,label='Runge-Kutta',ls='dashed')\n",
    "    plt.legend(frameon=False)\n",
    "    plt.xlabel('$t$',fontsize=14)\n",
    "    plt.ylabel('$D(t)$',fontsize=14)\n",
    "    plt.title(f\"Case {i+1}\")\n",
    "    plt.show()\n"
   ]
  },
  {
   "cell_type": "markdown",
   "metadata": {},
   "source": [
    "We can see that the Runge-Kutta integrator performs very well for the first and last case, but struggles to find the correct solution for the second case. We found that very small timesteps make the ODE solver perform better, but as time increases, an increasingly small number of timesteps was needed to perform well. This required too much computation time for a final plot."
   ]
  },
  {
   "cell_type": "code",
   "execution_count": null,
   "metadata": {},
   "outputs": [],
   "source": []
  }
 ],
 "metadata": {
  "kernelspec": {
   "display_name": "Python 3",
   "language": "python",
   "name": "python3"
  },
  "language_info": {
   "codemirror_mode": {
    "name": "ipython",
    "version": 3
   },
   "file_extension": ".py",
   "mimetype": "text/x-python",
   "name": "python",
   "nbconvert_exporter": "python",
   "pygments_lexer": "ipython3",
   "version": "3.6.6"
  }
 },
 "nbformat": 4,
 "nbformat_minor": 2
}
