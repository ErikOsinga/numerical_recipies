{
 "cells": [
  {
   "cell_type": "code",
   "execution_count": 1,
   "metadata": {},
   "outputs": [],
   "source": [
    "import numpy as np\n",
    "import matplotlib.pyplot as plt\n",
    "\n",
    "# Just for in this notebook\n",
    "import sys\n",
    "sys.path.append('../assignment1/to_hand_in/')\n",
    "\n",
    "import some_routines as sr\n",
    "from tqdm import tqdm_notebook as tqdm"
   ]
  },
  {
   "cell_type": "markdown",
   "metadata": {},
   "source": [
    "# 6. Classifying $\\gamma$-ray bursts"
   ]
  },
  {
   "cell_type": "markdown",
   "metadata": {},
   "source": [
    "#### GRBs are classified as short or long based on their time scale. Here we classify a GRB as long if $T_{90}$ (the time within which the detector receives 90% of the $\\gamma$-rays) is above 10 seconds and short otherwise."
   ]
  },
  {
   "cell_type": "markdown",
   "metadata": {},
   "source": [
    "#### Values that are -1.0 correspond to non-determined variables. Use logistic regression to make a model of the data, using binary classification for short (0) or long (1). Feel free to break the data up into a training, validation and test set, but it's not required. \n",
    "\n",
    "#### Explain which properties your model uses to predict whether a GRB is short or long, and how you handle missing data. Plot a hisotgram of the class 0,1 of the GRB and overplot the actual class based on the value of T90. Can choose hyperparameters manually. Don't overfit!"
   ]
  },
  {
   "cell_type": "code",
   "execution_count": 20,
   "metadata": {},
   "outputs": [],
   "source": [
    "# Use only all except first 2 columns, those contain GRB and some index\n",
    "data = np.loadtxt('./GRBs.txt', comments='#', usecols=(2,3,4,5,6,7,8))\n",
    "# The columns indicate\n",
    "# redshift, T90, log(M*/Msun), SFR, log(Z/Zsun), SSFR, AV\n",
    "\n",
    "# Features are all things that are not T90\n",
    "features = np.copy(data[:,[0,2,3,4,5,6]]) # shape (235,6)\n",
    "# Labels are T90 values\n",
    "labels = np.copy(data[:,1]) # shape (235,)"
   ]
  },
  {
   "cell_type": "code",
   "execution_count": 22,
   "metadata": {},
   "outputs": [],
   "source": [
    "def sigmoid(X):\n",
    "    \"\"\"\n",
    "    Calculate the sigmoid function for vector X\n",
    "    \"\"\"\n",
    "    return 1/(1+np.exp(-X))"
   ]
  },
  {
   "cell_type": "code",
   "execution_count": null,
   "metadata": {},
   "outputs": [],
   "source": [
    "def logistic_regression():\n",
    "    "
   ]
  },
  {
   "cell_type": "code",
   "execution_count": null,
   "metadata": {},
   "outputs": [],
   "source": []
  },
  {
   "cell_type": "code",
   "execution_count": null,
   "metadata": {},
   "outputs": [],
   "source": []
  }
 ],
 "metadata": {
  "kernelspec": {
   "display_name": "Python 3",
   "language": "python",
   "name": "python3"
  },
  "language_info": {
   "codemirror_mode": {
    "name": "ipython",
    "version": 3
   },
   "file_extension": ".py",
   "mimetype": "text/x-python",
   "name": "python",
   "nbconvert_exporter": "python",
   "pygments_lexer": "ipython3",
   "version": "3.6.6"
  }
 },
 "nbformat": 4,
 "nbformat_minor": 2
}
