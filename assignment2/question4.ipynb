{
 "cells": [
  {
   "cell_type": "code",
   "execution_count": 1,
   "metadata": {},
   "outputs": [],
   "source": [
    "import numpy as np\n",
    "import matplotlib.pyplot as plt\n",
    "import scipy.fftpack\n",
    "\n",
    "\n",
    "# Just for in this notebook\n",
    "import sys\n",
    "sys.path.append('../assignment1/to_hand_in/')\n",
    "\n",
    "import some_routines as sr\n",
    "from tqdm import tqdm_notebook as tqdm"
   ]
  },
  {
   "cell_type": "code",
   "execution_count": 2,
   "metadata": {},
   "outputs": [],
   "source": [
    "def romberg(func, lbound, ubound, order=6, relacc=1e-14):\n",
    "    \"\"\"\n",
    "    Calculate the integral of a function using Romberg's method\n",
    "    with equal spaced abscissae\n",
    "    \n",
    "    func   -- function which gives the y values\n",
    "    lbound -- lower bound of integral\n",
    "    ubound -- upper bound of integral\n",
    "    order  -- Amount of steps combining trapezoids, \n",
    "    \t\t  final step will have 2**order intervals\n",
    "    relacc -- target relative accuracy\n",
    "    \n",
    "    Returns \n",
    "    Value of the integral\n",
    "    Error estimates at every step\n",
    "     \n",
    "    The error estimate is given as the difference between last 2 orders\n",
    "    \"\"\"\n",
    "    \n",
    "    # for saving the relative error\n",
    "    relerror = [] # one value per column of the Romberg table\n",
    "    # for saving S_i,j's\n",
    "    all_S = np.zeros((order,order))\n",
    "    \n",
    "    i = 0\n",
    "    delta_x = (ubound-lbound)\n",
    "    points = sr.linspace(lbound,ubound,2**i+1)\n",
    "    integral = delta_x/2 * np.sum(func(points))\n",
    "    all_S[0,0] = integral\n",
    "    \n",
    "    # Calculate the first column (S_{i,0})\n",
    "    for i in range(1,order):\n",
    "        delta_x /= 2\n",
    "        # add points in the middle\n",
    "        points = sr.linspace(lbound,ubound,2**i+1)\n",
    "        # add new points to the integral (use slicing to alternate)\n",
    "        integral = 0.5*integral + delta_x * np.sum(func(points[1::2]))\n",
    "        \n",
    "        all_S[i,0] = integral\n",
    "    \n",
    "    # Calculate all others by combining\n",
    "    for j in range(1,order): # column of Romberg table\n",
    "        for i in range(j,order): # row of Romberg table\n",
    "            all_S[i,j] = (4**j*all_S[i,j-1] - all_S[i-1,j-1]) / (\n",
    "                           4**j - 1)\n",
    "        # Relative error estimate is difference between last \n",
    "        # two estimates divided by the estimate \n",
    "        relerror.append(np.abs(1 - all_S[i,j-1]/all_S[i,j]) )\n",
    "        if relerror[-1] < relacc:\n",
    "#             print (f\"Target relative error of {relacc} reached at S_{i,j}\")\n",
    "            # Target error reached, can stop\n",
    "            return all_S[i,j], relerror\n",
    "        \n",
    "        if len(relerror) > 2:\n",
    "            if relerror[-1] > relerror[-2]:\n",
    "#                 print (f\"Error increased at at S_{i,j}\")\n",
    "                # error increased, should stop\n",
    "                return all_S[i,j,:],relerror        \n",
    "    \n",
    "    return all_S[order-1,order-1], relerror"
   ]
  },
  {
   "cell_type": "markdown",
   "metadata": {},
   "source": [
    "# 4. Zeldovich approximation."
   ]
  },
  {
   "cell_type": "markdown",
   "metadata": {},
   "source": [
    "#### In this part we will set up the initial conditions using something called the Zeldovich approximation. The Zeldovich approximation is a first order linear Lagrangian structure formation model that can be used to set up initial conditions for a cosmological simulation. In its simplest form the Zeldovich approximation is given by \n",
    "\n",
    "$$ {\\bf x}(t) = {\\bf q} + D(t) {\\bf S}({\\bf q})$$\n",
    "\n",
    "#### At first this may look complicated, but this equation can basically be described as ${\\bf x}(t) = {\\bf x_0} + {\\bf v}t$ with constant ${\\bf v}$.  This means that ${\\bf q}$ is the initial position of a matter particle, ${\\bf x}(t)$ is the position at time $t$, $D(t)$ is the linear growth function and ${\\bf S}({\\bf q})$ is a time independent displacement vector. In this exercise we will use the scale factor $a$, redshift $z$ and time interchangeable as time variable. \n",
    "\n"
   ]
  },
  {
   "cell_type": "markdown",
   "metadata": {},
   "source": [
    "#### Then a lot of formulas which I wont repeat here. "
   ]
  },
  {
   "cell_type": "markdown",
   "metadata": {},
   "source": [
    "#### During this exercise we will assume periodic boundary conditions. This means that when a particle moves outside of the simulation box it should enter through the other side of the box"
   ]
  },
  {
   "cell_type": "markdown",
   "metadata": {},
   "source": [
    "#### a) Calculate the growth factor at z=50 numerically with a relative accuracy of $10^-5$. "
   ]
  },
  {
   "cell_type": "markdown",
   "metadata": {},
   "source": [
    "The growth factor in terms of z is given by\n",
    "\\begin{equation}\n",
    "D(z) = \\frac{5\\Omega_m H_0^2}{2} H(z) \\int_z^\\infty \\frac{1+z'}{H^3(z')} dz'.\n",
    "\\end{equation}\n",
    "\n",
    "With $a = 1/(1+z)$ we have \n",
    "\\begin{equation}\n",
    "\\frac{dz}{da} = -1/a^2\n",
    "\\end{equation}\n",
    "\n",
    "Switching coordinates to $a$ thus gives us the following integral:\n",
    "\\begin{equation}\n",
    "D(a) = \\frac{5\\Omega_m H_0^2}{2} H(z=1/a-1) \\int_0^{a} \\frac{1}{a'^{3} H^3(z'=1/a'-1)} da'.\n",
    "\\end{equation}\n",
    "Where the integral bounds have switched due to the negative sign of the Jacobian. \n",
    "\n",
    "With \n",
    "\\begin{equation}\n",
    "H(z)^2 = H_0^2 \\left(\\Omega_m(1+z)^3+\\Omega_\\Lambda \\right),\n",
    "\\end{equation}\n",
    "we can rewrite this as\n",
    "\\begin{equation}\n",
    "D(a) = \\frac{5\\Omega_m H_0^3}{2} \\sqrt{\\Omega_m a^{-3}+\\Omega_\\Lambda} \\int_0^{1/(1+z)} \\frac{1}{a'^{3} H_0^3 \\left(\\Omega_m a'^{-3} +\\Omega_\\Lambda\\right)^{3/2}} da.\n",
    "\\end{equation}\n",
    "From which we see that the Hubble constant at $z=0$ drops out. Simplifying the integral, we get\n",
    "\\begin{equation}\n",
    "D(a) = \\frac{5\\Omega_m}{2} \\sqrt{\\Omega_m a^{-3}+\\Omega_\\Lambda} \\int_0^{1/(1+z)} \\frac{1}{\\left(\\Omega_m a'^{-1} +\\Omega_\\Lambda a'^2 \\right)^{3/2}} da.\n",
    "\\end{equation}\n",
    "Since the function has an integrable singularity at the limit $a=0$ we can use extended midpoint Romberg integration to integrate this function. However, it is simpler to simply evaluate the limit\n",
    "\\begin{equation}\n",
    "\\begin{split}\n",
    "\\lim_{a \\to 0} \\left( \\frac{1}{\\Omega_m a^{-1} + \\Omega_\\Lambda a^2} \\right) = \\\\\n",
    "\\lim_{a \\to 0} \\left( \\frac{1}{\\Omega_m a^{-1}} \\right) = \\\\\n",
    "\\lim_{a \\to 0} \\left( \\frac{a}{\\Omega_m} \\right) = 0\n",
    "\\end{split}\n",
    "\\end{equation}\n",
    "Thus we can simply set the function to 0 whenever we evaluate the function inside the integral at $a=0$\n"
   ]
  },
  {
   "cell_type": "code",
   "execution_count": 3,
   "metadata": {},
   "outputs": [],
   "source": [
    "def Hubbleparam(z, Omega_m, Omega_Lamb):\n",
    "    \"\"\"\n",
    "    Return the Hubble parameter H(z) in terms of H0\n",
    "    given current cosmological constants \n",
    "    \"\"\"\n",
    "    return np.sqrt(Omega_m*(1+z)**3+Omega_Lamb)"
   ]
  },
  {
   "cell_type": "code",
   "execution_count": 4,
   "metadata": {},
   "outputs": [],
   "source": [
    "def integrand(a, Omega_m, Omega_Lamb):\n",
    "    \"\"\"\n",
    "    Return the function inside the integral as a function of a\n",
    "    \"\"\"\n",
    "    # The integrand goes to 0 for a=0, \n",
    "    # but python does not like division by zero    \n",
    "    where0 = a == 0\n",
    "    a[where0] = 1e10 # Put zeroes temporarily on some large number   \n",
    "    ans = 1/(Omega_m/a + Omega_Lamb*a**2)**(3/2)\n",
    "    ans[where0] = 0 # Make sure the function is 0 for a=0\n",
    "    return ans\n",
    "    "
   ]
  },
  {
   "cell_type": "code",
   "execution_count": 5,
   "metadata": {},
   "outputs": [
    {
     "name": "stdout",
     "output_type": "stream",
     "text": [
      "Growth factor at z=50: 0.019607862559909386\n"
     ]
    }
   ],
   "source": [
    "def growth_factor(a, Omega_m, Omega_Lamb):\n",
    "    \"\"\"\n",
    "    Return the growth factor at given scale factor.\n",
    "    Uses the functions Hubbleparam() and integrand()\n",
    "    \"\"\"\n",
    "    # Transform from a to z\n",
    "    z = 1/a - 1\n",
    "    \n",
    "    # Function that will be integrated over a\n",
    "    to_integ = lambda a: integrand(a, Omega_m, Omega_Lamb)\n",
    "\n",
    "    Dz = 5*Omega_m/2 * Hubbleparam(z,Omega_m,Omega_Lamb)\n",
    "    # save integ seperately, needed for b)\n",
    "    integ = romberg(to_integ,0,a,order=6,relacc=1e-5)[0]\n",
    "    Dz *= integ\n",
    "    \n",
    "    return Dz, integ\n",
    "    \n",
    "Omega_m, Omega_Lamb = 0.3, 0.7\n",
    "z = 50\n",
    "a = 1/(1+z)\n",
    "# Calculate growth factor at z=50\n",
    "Dz, integ = growth_factor(a, Omega_m, Omega_Lamb)\n",
    "print (\"Growth factor at z=50:\", Dz)"
   ]
  },
  {
   "cell_type": "code",
   "execution_count": 6,
   "metadata": {},
   "outputs": [],
   "source": [
    "# This is the value of the integral only, needed for b\n",
    "H0 = 70 # km/s/Mpc\n",
    "I = integ/H0**3"
   ]
  },
  {
   "cell_type": "markdown",
   "metadata": {},
   "source": [
    "#### b) We also want to calculate the derivative at z=50 in order to be able to calculate the momentum of the particles. In order to calculate the time derivative of the linear growth factor it is important to realize that we cannot easily calculate it directly, but need to calculate it indirectly as $$ \\dot{D}(t) = \\frac{dD}{da} \\dot{a},$$\n",
    "#### in which we know that $\\dot{a}(z) = H(z)a(z)$. Calculate the derivative analytically, and give its value at z=50. Bonus point if you also numerically match the analytical result within $10^{-8}$"
   ]
  },
  {
   "cell_type": "markdown",
   "metadata": {},
   "source": [
    "We start with \n",
    "\\begin{equation}\n",
    "\\begin{split}\n",
    "\\frac{dD}{da} = \\frac{d}{da} \\left( \\frac{5\\Omega_m H_0^2}{2} H(a) \\int_0^{a} \\frac{1}{a'^{3} H^3(a')} da' \\right) \\\\ \n",
    "= \\frac{5\\Omega_m H_0^2}{2} \\left(I \\frac{dH}{da} + H(z) \\frac{d}{da} \\int_0^{a} \\frac{1}{a'^{3} H^3(a')} da' \\right)\n",
    "\\end{split}\n",
    "\\end{equation}\n",
    "where $I$ now denotes the numerical value of the integral that we have used to numerically calculate the growth factor in question 4a). The derivative of the Hubble parameter is given by\n",
    "\\begin{equation}\n",
    "\\begin{split}\n",
    "\\frac{dH}{da} = \\frac{d}{da} \\left(H_0 \\sqrt{\\Omega_m a^{-3} + \\Omega_\\Lambda} \\right) \\\\\n",
    "=  \\frac{-3\\Omega_mH_0}{2a^4\\sqrt{\\Omega_m a^{-3}+\\Omega_\\Lambda}}\n",
    "\\end{split}\n",
    "\\end{equation}\n",
    "The derivative of the integral is simply the function inside the integral evaluated at the bounds. Since we have already shown this function goes to 0 for $a=0$ this results in\n",
    "\\begin{equation}\n",
    "\\frac{d}{da} \\int_0^{a} \\frac{1}{a'^{3} H^3(a')} da' = \\frac{1}{a^{3} H^3(a)}\n",
    "\\end{equation}\n",
    "\n",
    "Thus the full (semi-) analytical expression for $dD/da$ is given by\n",
    "\\begin{equation}\n",
    "\\frac{5\\Omega_m H_0^2}{2} \\left(I \\frac{-3\\Omega_mH_0}{2a^4\\sqrt{\\Omega_m a^{-3}+\\Omega_\\Lambda}} + \\frac{1}{a^{3} H^2(a)} \\right)\n",
    "\\end{equation}\n",
    "Factoring out some common terms gives\n",
    "\\begin{equation}\n",
    "\\frac{dD}{da} = \\frac{5\\Omega_m H_0^2}{2a^3 H(a)} \\left( \\frac{-3\\Omega_m H_0^2 I}{2a} + \\frac{1}{a H(a)} \\right)\n",
    "\\end{equation}\n",
    "Multiplying by $\\dot{a} = H(a)a$ gives\n",
    "\\begin{equation}\n",
    "\\frac{dD}{dt} = \\frac{5\\Omega_m H_0^2}{2a^3 H(a)} \\left( \\frac{-3\\Omega_m I H_0^2  H(a)}{2} + 1 \\right)\n",
    "\\end{equation}\n",
    "A quick dimension analysis tells us that the dimension of this derivative is $s^{-1}$ since the part in brackets is dimensionless and $H$ has dimensions $s^{-1}$.\n",
    "Finally, plugging in the values of the cosmological constants, the value of the numerical integral and $a=1/51$ we get"
   ]
  },
  {
   "cell_type": "code",
   "execution_count": 7,
   "metadata": {},
   "outputs": [],
   "source": [
    "def deriv_H(a, Omega_m, Omega_Lamb):\n",
    "    \"\"\"Not used\"\"\"\n",
    "    ans = -3*Omega_m*a**(-4)*H0\n",
    "    ans /= 2*np.sqrt(Omega_m*a**(-3)+Omega_Lamb)\n",
    "    \n",
    "    return ans\n",
    "\n",
    "def analytical_deriv(z):\n",
    "    \"\"\"return analytical derivative at z=z\"\"\"\n",
    "    a = 1/(1+z)\n",
    "    if z == 50: # use earlier computed result\n",
    "        Inum = I\n",
    "    else:\n",
    "        # use Romberg\n",
    "        to_integ = lambda a: integrand(a, Omega_m, Omega_Lamb)\n",
    "        integ = romberg(to_integ,0,a,order=6,relacc=1e-5)[0]\n",
    "        Inum = integ/H0**3\n",
    "        \n",
    "    ans = 5*Omega_m*H0**2/(2*a**3*H0\n",
    "                           *Hubbleparam(z, Omega_m, Omega_Lamb))\n",
    "    ans *= (-3*Omega_m*Inum*H0**3*Hubbleparam(z,Omega_m,Omega_Lamb)/2 + 1)\n",
    "\n",
    "    return ans"
   ]
  },
  {
   "cell_type": "code",
   "execution_count": 8,
   "metadata": {},
   "outputs": [
    {
     "name": "stdout",
     "output_type": "stream",
     "text": [
      "Analytical derivative at z=50: 34499.31530106616 s^(-1)\n"
     ]
    }
   ],
   "source": [
    "anderiv = analytical_deriv(z=50)\n",
    "print (f\"Analytical derivative at z=50: {anderiv} s^(-1)\")\n",
    "\n",
    "# a = 0.0025\n",
    "# z = 1/a - 1\n",
    "# anderiv = analytical_deriv(z)\n",
    "# print (f\"Analytical derivative at z={z}: {anderiv}\")"
   ]
  },
  {
   "cell_type": "markdown",
   "metadata": {},
   "source": [
    "#### c) Use the Zeldovich approximation to generate a movie of the evolution of a volume in two dimensions from a scale factor of 0.0025 until a scale factor of 1.0. Use 64x64 particles in a square grid. Your movie should contain at least 30 frames per seconds and should at least last 3 seconds. Also plot the position and momentum of the first 10 particles along the y-direction vs a."
   ]
  },
  {
   "cell_type": "markdown",
   "metadata": {},
   "source": [
    "So. \n",
    "First generate the $c_k$ space , then IFFT this (as function of q) to calculate the S(q). \n",
    "\n",
    "Then, all initial particle positions have vector q given by their grid coordinate (indices). All particles will have some constant over time vector S(q) that will point them to where they have to evolve. We should take small timesteps and see all particles move in some straight line dependend on their initial position only. \n",
    "\n",
    "Don't forget the periodic boundary conditions. \n"
   ]
  },
  {
   "cell_type": "markdown",
   "metadata": {},
   "source": [
    "I define an effective power spectrum $P'(k)$ from the following equation\n",
    "\\begin{equation}\n",
    "a_k = \\sqrt{\\frac{P(k)}{k^4}} \\mathrm{Gauss}(0,1) = \\sqrt{P'(k)} \\mathrm{Gauss}(0,1)\n",
    "\\end{equation}\n",
    "With $P'(k) = P(k)/k^4$. In this way I can use the same code that I used for assignment 1, but with this effective power spectrum"
   ]
  },
  {
   "cell_type": "code",
   "execution_count": 9,
   "metadata": {},
   "outputs": [],
   "source": [
    "def model_n(k, n):\n",
    "    return k**n\n",
    "\n",
    "def kvector(N,ndim):\n",
    "    \"\"\"\n",
    "    Generate NxN(xN)xndim matrix of k vector values\n",
    "    Since we need to do the IFFT of k*c_k\n",
    "    we also need this kvector array\n",
    "    \"\"\"\n",
    "    dk = 2*np.pi/N\n",
    "    ks = np.zeros(N) # aranged vector of kx modes\n",
    "    # Loop over all kx modes\n",
    "    for i in range(0,N): \n",
    "        if i <= N//2:\n",
    "            ks[i] = dk*i\n",
    "        else:\n",
    "            ks[i] = (-N+i)*dk\n",
    "                \n",
    "    # My implementation of the c_field has a different definition\n",
    "    # for the x axis than numpy, thus swap y and x from np.meshgrid\n",
    "    if ndim == 2:\n",
    "        # every particle has a 2D position\n",
    "        kvector = np.zeros((N,N,ndim))\n",
    "        # simply replaces more of the same for loops\n",
    "        ky, kx = np.meshgrid(ks,ks) # construct a grid\n",
    "        kvector[:,:,0] = kx\n",
    "        kvector[:,:,1] = ky\n",
    "    elif ndim == 3:\n",
    "        # every particle has a 3D position\n",
    "        kvector = np.zeros((N,N,N,ndim))\n",
    "        ky, kx, kz = np.meshgrid(ks,ks,ks)\n",
    "        kvector[:,:,:,0] = kx\n",
    "        kvector[:,:,:,1] = ky\n",
    "        kvector[:,:,:,2] = kz\n",
    "\n",
    "    return kvector\n",
    "\n",
    "def qvector(N, ndim):\n",
    "    \"\"\"\n",
    "    Generate NxN(xN)xndim matrix of q vector values\n",
    "    \"\"\"\n",
    "    xpos = sr.linspace(0,N-1,N)\n",
    "    if ndim == 2:\n",
    "        qvector = np.zeros((N,N,2))\n",
    "        ypos, xpos = np.meshgrid(xpos,xpos)\n",
    "        qvector[:,:,0] = xpos\n",
    "        qvector[:,:,1] = ypos\n",
    "    elif ndim == 3:\n",
    "        qvector = np.zeros((N,N,N,3))\n",
    "        ypos, xpos, zpos = np.meshgrid(xpos,xpos, xpos)\n",
    "        qvector[:,:,:,0] = xpos\n",
    "        qvector[:,:,:,1] = ypos\n",
    "        qvector[:,:,:,2] = zpos\n",
    "    \n",
    "    return qvector\n",
    "            \n",
    "\n",
    "def c_field(N, model, randgauss):\n",
    "    \"\"\"\n",
    "    Generate a real density field with mean 0\n",
    "    that follows a given power spectrum model.\n",
    "    Very similar to code in exercise 2, except that \n",
    "    the fourier modes are now generated with\n",
    "    c_k = (ak − ibk)/2\n",
    "    \n",
    "    N         -- int: size of the field\n",
    "    model     -- Power spectrum model function of k\n",
    "    randgauss -- N**2 standard normal numbers for quick construction\n",
    "    \"\"\"\n",
    "    \n",
    "    fftfield = np.zeros((N,N),dtype='complex')\n",
    "    # One step in k\n",
    "    dk = 2*np.pi/N \n",
    "    # The fourier frequencies are different for (un)even N\n",
    "    Neven = N%2 # add one to loops if N is uneven\n",
    "    \n",
    "    counter = 0\n",
    "    # Loop over all kx modes\n",
    "    for i in range(0,N): \n",
    "        if i <= N//2:\n",
    "            kx = dk*i\n",
    "        else:\n",
    "            kx = (-N+i)*dk\n",
    "            \n",
    "        # start at j=1 because we generate the kx's on the \n",
    "        # ky-axis seperately. Additionally, only generate the \n",
    "        # upper half of the fourier plane (ky>0)\n",
    "        for j in range(1,N//2+Neven):\n",
    "            ky = dk*j               \n",
    "            k = (kx**2+ky**2)**0.5\n",
    "#             Transform standard normal numbers to correct variance.\n",
    "#             Since these modes will be conjugated and put into the\n",
    "#             lower half of the Fourier plane, we have to divide the\n",
    "#             variance by 2 in order to satisfy total variance being\n",
    "#             equal to P(k) at k=k\n",
    "                                                # Note the - and /2\n",
    "            fftfield[i,j] = (randgauss[counter]*(model(k)/2)**0.5 - 1j*(\n",
    "                            randgauss[counter+1]*(model(k)/2)**0.5) )/2\n",
    "            counter += 2\n",
    "    if Neven == 0:\n",
    "        # We have an even amount of N, so do not forget the N//2\n",
    "        # column\n",
    "        ky = N//2*dk\n",
    "        for i in range(1,N//2):\n",
    "            kx = dk*i            \n",
    "            k = (kx**2+ky**2)**0.5\n",
    "            # Note again division by two of the variance.\n",
    "            # Note now also the - and /2 \n",
    "            fftfield[i,N//2] = (randgauss[counter]*(model(k)/2)**0.5 -1j*(\n",
    "                               randgauss[counter+1]*(model(k)/2)**0.5))/2\n",
    "            counter += 2\n",
    "            # Complex conjugate\n",
    "            fftfield[-i,N//2] = fftfield[i,N//2].real - 1j*(\n",
    "                                fftfield[i,N//2].imag)\n",
    "            \n",
    "        # Now some numbers are their own complex conjugate.\n",
    "        # i.e., they are real. No dividing by two of the variance.\n",
    "        k = (N//2*dk)\n",
    "        fftfield[0,N//2] = randgauss[counter+1]*model(k)**0.5 + 1j*0\n",
    "        fftfield[N//2,0] = randgauss[counter+2]*model(k)**0.5 + 1j*0\n",
    "        k *= np.sqrt(2)\n",
    "        fftfield[N//2,N//2] = randgauss[counter+3]*model(k)**0.5 + 1j*0\n",
    "        counter += 3\n",
    "        \n",
    "    # The kx-axis is conjugate symmetric in kx\n",
    "    # so we only have to generate half of this axis \n",
    "    for i in range(1,N//2+Neven):                         # - and /2\n",
    "        fftfield[i,0] = (randgauss[counter]*(model(k)/2)**0.5 - 1j*(\n",
    "                            randgauss[counter+1]*(model(k)/2)**0.5))/2\n",
    "        counter += 2\n",
    "        # complex conjugate\n",
    "        fftfield[-i,0] = fftfield[i,0].real - 1j*fftfield[i,0].imag\n",
    "        \n",
    "        \n",
    "    # Finally generate all modes below the kx axis by conjugating\n",
    "    # all modes above the kx axis \n",
    "    for i in range(0,N):\n",
    "        for j in range(N//2,N):\n",
    "            fftfield[i,j] = fftfield[-i,-j].real - 1j*fftfield[-i,-j].imag\n",
    "    \n",
    "    # Don't forget that the [0,0] component of the field has to be 0\n",
    "    fftfield[0,0] = 0 + 1j*0   \n",
    "    \n",
    "    return fftfield"
   ]
  },
  {
   "cell_type": "code",
   "execution_count": 10,
   "metadata": {},
   "outputs": [],
   "source": [
    "# The code to generate the c_k field is equivalent to the code \n",
    "# that was used in Exercise 2, except that we have to divide by k**2\n",
    "# we can effectively put this into the power spectrum\n",
    "\n",
    "# Divide the power spectrum by another factor 10, just normalization\n",
    "# (as suggested by Folkert to make the video easier to watch)\n",
    "Peff = lambda k: model_n(k, -2)/(10*k**4)\n",
    "# Another adjustment is that c_k is now (a_k - ibk) /2 instead\n",
    "# of (a_k + ib_k)\n",
    "\n",
    "# Reuse the random numbers we had earlier\n",
    "randgauss = np.load('./1MrandSN.npy')\n",
    "\n",
    "N = 64\n",
    "cfield = c_field(N,Peff,randgauss)    \n",
    "kvec = kvector(N,2)"
   ]
  },
  {
   "cell_type": "code",
   "execution_count": 11,
   "metadata": {},
   "outputs": [],
   "source": [
    "# plt.title(\"C_k.real\")\n",
    "# plt.imshow(cfield.real)\n",
    "# plt.colorbar()\n",
    "# plt.show()\n",
    "\n",
    "# plt.title(\"C_k.imag\")\n",
    "# plt.imshow(cfield.imag)\n",
    "# plt.colorbar()\n",
    "# plt.show()"
   ]
  },
  {
   "cell_type": "code",
   "execution_count": 12,
   "metadata": {},
   "outputs": [],
   "source": [
    "# Equation 9 in Handin, seperated per dimension.\n",
    "# first dimension \n",
    "Sfield0 = scipy.fftpack.ifft2(1j*cfield*kvec[:,:,0])*N**2\n",
    "# second dimension\n",
    "Sfield1 = scipy.fftpack.ifft2(1j*cfield*kvec[:,:,1])*N**2\n",
    "\n",
    "Sfield = np.zeros((N,N,2))\n",
    "Sfield[:,:,0] = Sfield0.real # x dimension\n",
    "Sfield[:,:,1] = Sfield1.real # y dimension"
   ]
  },
  {
   "cell_type": "code",
   "execution_count": 13,
   "metadata": {},
   "outputs": [
    {
     "data": {
      "image/png": "[encoded data removed]",
      "text/plain": [
       "<Figure size 432x288 with 2 Axes>"
      ]
     },
     "metadata": {
      "needs_background": "light"
     },
     "output_type": "display_data"
    },
    {
     "data": {
      "image/png": "[encoded data removed]",
      "text/plain": [
       "<Figure size 432x288 with 2 Axes>"
      ]
     },
     "metadata": {
      "needs_background": "light"
     },
     "output_type": "display_data"
    }
   ],
   "source": [
    "# TEST CELL\n",
    "plt.title(r\"${\\bf S}(q_1)$\")\n",
    "plt.imshow(Sfield0.real);plt.colorbar();plt.show()\n",
    "# plt.imshow(Sfield0.imag);plt.colorbar();plt.show()\n",
    "plt.title(r\"${\\bf S}(q_2)$\")\n",
    "plt.imshow(Sfield1.real);plt.colorbar();plt.show()\n",
    "# plt.imshow(Sfield1.imag);plt.colorbar();plt.show()"
   ]
  },
  {
   "cell_type": "code",
   "execution_count": 14,
   "metadata": {},
   "outputs": [],
   "source": [
    "def momentum(a,da):\n",
    "    \"\"\"\n",
    "    Calculate momentum of all particles at scale factor a\n",
    "    Given a and stepsize da\n",
    "    \"\"\"\n",
    "    anow = a-da/2\n",
    "    znow = 1/anow - 1\n",
    "    \n",
    "    # momentum of all  particles\n",
    "    ans = -1*anow**2 * analytical_deriv(znow)*Sfield # (64,64,2)\n",
    "                                                # or (64,64,64,3)\n",
    "    return ans"
   ]
  },
  {
   "cell_type": "code",
   "execution_count": 15,
   "metadata": {},
   "outputs": [],
   "source": [
    "# Initial positions, 64*64*2 array \n",
    "# containing x,y pos of all 64x64 particles\n",
    "qvec = qvector(N, 2)\n",
    "\n",
    "# # First plot only first 16 particles\n",
    "# plt.scatter(qvec[:4,:4,0],qvec[:4,:4,1],alpha=0.5)\n",
    "# plt.show()\n",
    "\n",
    "# a = 0.0025 is the initial timestep \n",
    "# We need at least 90 frames, so let's do 100\n",
    "all_a = sr.linspace(0.0025,1,100)\n",
    "da = all_a[1]-all_a[0]\n",
    "# positions of first 10 particles along y direction\n",
    "first_positions = np.zeros((len(all_a),10,2))\n",
    "# momentum of first 10 particles along y direction\n",
    "first_momenta = np.zeros((len(all_a),10,2))\n",
    "\n",
    "for i, a in enumerate(all_a):\n",
    "    xvec = qvec + growth_factor(a, Omega_m, Omega_Lamb)[0]*Sfield\n",
    "    # Make sure we have periodic boundary conditions\n",
    "    xvec %= N\n",
    "    \n",
    "    # Save first 10 positions\n",
    "    first_positions[i,:,:] = xvec[0,:10,:]\n",
    "    # Save first 10 momenta\n",
    "    if i>0:\n",
    "        # keep only first 10\n",
    "        p = momentum(a, da)[0,:10,:]\n",
    "        first_momenta[i,:] = p\n",
    "    \n",
    "    plt.title(f'a={a}')\n",
    "    plt.scatter(xvec[:,:,0],xvec[:,:,1],alpha=0.5)\n",
    "    plt.xlabel('$x$ (Mpc)')\n",
    "    plt.ylabel('$y$ (Mpc)')\n",
    "    plt.savefig(f'./plots/movie/4c_{i:04d}.png')\n",
    "    plt.close()"
   ]
  },
  {
   "cell_type": "code",
   "execution_count": 16,
   "metadata": {},
   "outputs": [
    {
     "data": {
      "image/png": "[encoded data removed]",
      "text/plain": [
       "<Figure size 432x288 with 1 Axes>"
      ]
     },
     "metadata": {
      "needs_background": "light"
     },
     "output_type": "display_data"
    },
    {
     "data": {
      "image/png": "[encoded data removed]",
      "text/plain": [
       "<Figure size 432x288 with 1 Axes>"
      ]
     },
     "metadata": {
      "needs_background": "light"
     },
     "output_type": "display_data"
    }
   ],
   "source": [
    "# Also plot the position and momentum of the first 10 particles\n",
    "# along the y-direction vs a\n",
    "\n",
    "# y-position\n",
    "for i in range(10):\n",
    "    plt.plot(all_a,first_positions[:,i,1]) # plot only y coordinate\n",
    "    plt.ylabel('$y$-position')\n",
    "    plt.xlabel('$a$')\n",
    "plt.show()\n",
    "\n",
    "# y-momentum\n",
    "for i in range(10):\n",
    "    plt.plot(all_a,first_momenta[:,i,1]) # plot only y coordinate\n",
    "    # Physical dimension we assigned was Mpc. \n",
    "    plt.ylabel('$y$-momentum per unit mass (Mpc/s)')\n",
    "    plt.xlabel('$a$')\n",
    "plt.show()\n",
    "\n"
   ]
  },
  {
   "cell_type": "markdown",
   "metadata": {},
   "source": [
    "#### d) Generate initial conditions for a 3D box to do an N-body simulation, make initial conditions for $64^3$ particles starting at redshift 50. Besides this make 3 seperate movies of a slice of thickness 1/64th of your box at its center, make a slice for x-y, x-z and y-z. Again make a movie of at least 3 seconds with at least 30 frames per second. Remember: slice, not projection. Finally, plot the position and momentum of the first 10 particles along the z-direction vs a"
   ]
  },
  {
   "cell_type": "code",
   "execution_count": 17,
   "metadata": {},
   "outputs": [],
   "source": [
    "# Now we repeat basically the same thing, except we start at z=50\n",
    "a = 1/51\n",
    "kvec = kvector(N,3)\n",
    "# Equation 9 again seperated per dimension\n",
    "Sfield0 = scipy.fftpack.ifft2(1j*cfield*kvec[:,:,:,0])*N**2\n",
    "Sfield1 = scipy.fftpack.ifft2(1j*cfield*kvec[:,:,:,1])*N**2\n",
    "Sfield2 = scipy.fftpack.ifft2(1j*cfield*kvec[:,:,:,2])*N**2\n",
    "Sfield = np.zeros((N,N,N,3))\n",
    "Sfield[:,:,:,0] = Sfield0.real # x dimension\n",
    "Sfield[:,:,:,1] = Sfield1.real # y dimension\n",
    "Sfield[:,:,:,2] = Sfield2.real # z dimension\n",
    "\n",
    "# 3D initial grid positions\n",
    "qvec = qvector(N, 3)\n",
    "\n",
    "all_a = sr.linspace(a,1,100)\n",
    "da = all_a[1]-all_a[0]\n",
    "# positions of first 10 particles along z direction\n",
    "first_positions = np.zeros((len(all_a),10,3))\n",
    "# momentum of first 10 particles along z direction\n",
    "first_momenta = np.zeros((len(all_a),10,3))\n"
   ]
  },
  {
   "cell_type": "code",
   "execution_count": 18,
   "metadata": {},
   "outputs": [],
   "source": [
    "for i, a in enumerate(all_a):\n",
    "    xvec = qvec + growth_factor(a, Omega_m, Omega_Lamb)[0]*Sfield\n",
    "    # Make sure we have periodic boundary conditions\n",
    "    xvec %= N\n",
    "    \n",
    "    # Save first 10 positions along z direction\n",
    "    first_positions[i,:,:] = xvec[0,0,:10,:]\n",
    "    if i>0:\n",
    "        # Save first 10 momenta\n",
    "        p = momentum(a, da)[0,0,:10,:]\n",
    "        first_momenta[i,:] = p\n",
    "    \n",
    "    plt.title(f'a={a}')\n",
    "    # slice in z of thickness 1 at the center, plot x-y\n",
    "    mask = ((xvec[:,:,:,2] > 31) & (xvec[:,:,:,2] < 32))\n",
    "    plt.scatter(xvec[:,:,:,0][mask],xvec[:,:,:,1][mask],alpha=0.5)\n",
    "    plt.xlabel('$x$ (Mpc)')\n",
    "    plt.ylabel('$y$ (Mpc)')\n",
    "    plt.savefig(f'./plots/movie/4d_xy{i:04d}.png')\n",
    "    plt.close()\n",
    "    \n",
    "    plt.title(f'a={a}')\n",
    "    # slice in y at the center, plot x-z\n",
    "    mask = ((xvec[:,:,:,1] > 31) & (xvec[:,:,:,1] < 32))\n",
    "    plt.scatter(xvec[:,:,:,0],xvec[:,:,:,2],alpha=0.5)\n",
    "    plt.xlabel('$x$ (Mpc)')\n",
    "    plt.ylabel('$z$ (Mpc)')\n",
    "    plt.savefig(f'./plots/movie/4d_xz{i:04d}.png')\n",
    "    plt.close()\n",
    "    \n",
    "        \n",
    "    plt.title(f'a={a}')\n",
    "    # slice in x at the center, plot y-z\n",
    "    mask = ((xvec[:,:,:,0] > 31) & (xvec[:,:,:,0] < 32))\n",
    "    plt.scatter(xvec[:,:,:,1],xvec[:,:,:,2],alpha=0.5)\n",
    "    plt.xlabel('$y$ (Mpc)')\n",
    "    plt.ylabel('$z$ (Mpc)')\n",
    "    plt.savefig(f'./plots/movie/4d_yz{i:04d}.png')\n",
    "    plt.close()\n",
    "    "
   ]
  },
  {
   "cell_type": "code",
   "execution_count": null,
   "metadata": {},
   "outputs": [],
   "source": []
  }
 ],
 "metadata": {
  "kernelspec": {
   "display_name": "Python 3",
   "language": "python",
   "name": "python3"
  },
  "language_info": {
   "codemirror_mode": {
    "name": "ipython",
    "version": 3
   },
   "file_extension": ".py",
   "mimetype": "text/x-python",
   "name": "python",
   "nbconvert_exporter": "python",
   "pygments_lexer": "ipython3",
   "version": "3.6.6"
  }
 },
 "nbformat": 4,
 "nbformat_minor": 2
}
