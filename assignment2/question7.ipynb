{
 "cells": [
  {
   "cell_type": "code",
   "execution_count": 33,
   "metadata": {},
   "outputs": [],
   "source": [
    "import numpy as np\n",
    "import matplotlib.pyplot as plt\n",
    "from matplotlib import patches\n",
    "import some_routines as sr"
   ]
  },
  {
   "cell_type": "markdown",
   "metadata": {},
   "source": [
    "# 7. Building a quadtree\n",
    "\n",
    "#### Download a file containing 1200 particle masses and positions, the data is in group /PartType4. Considering only the x and y coordinates of these particles (between 0 and 150), construct a quadtree with at most 12 particles per leaf node. You can treat the masses and positions as dimensionless and use G=1. You are free to use the where function and/or masks. Plot the particles and indicate which particles are in which node. Calculate the n=0 multipole moment for the leaf node containing the particle with index i=100 and that of all of its parent nodes up to and including the root node."
   ]
  },
  {
   "cell_type": "code",
   "execution_count": 34,
   "metadata": {},
   "outputs": [],
   "source": [
    "import h5py # Hopefully h5py is on the pczaal computers\n",
    "fname = 'colliding.hdf5'\n",
    "f = h5py.File(fname, 'r')\n",
    "\n",
    "# Particles we are interested in\n",
    "positions = f['PartType4/Coordinates'][:]\n",
    "# Only consider x and y coordinates\n",
    "positions = positions[:,:2] # shape (1200,2)"
   ]
  },
  {
   "cell_type": "markdown",
   "metadata": {},
   "source": [
    "The setup of the Quad Tree implementation in Python uses three classes: \\textit{Point}, \\textit{Node} and \\textit{QuadTree}. This setup is inspired from the following blogpost: \\url{https://kpully.github.io/Quadtrees/}.\n",
    "\n",
    "The \\textit{Point} is simply a class that has the x and y position of the points. The \\textit{Node} is a class that contains points and may contain (4) children (also nodes). The \\textit{QuadTree} class then contains the points and nodes, and a method to subdivide the rootnode, which contains all points, into multiple nodes which contain only some threshold amount of points."
   ]
  },
  {
   "cell_type": "code",
   "execution_count": 35,
   "metadata": {},
   "outputs": [],
   "source": [
    "# Create 3 classes, Point, Node and QuadTree\n",
    "# The QuadTree starts with a rootnode, which starts with all points\n",
    "# Subdivide a node when threshold amount of points is met\n",
    "\n",
    "# This setup is inspired from the following blogpost:\n",
    "# https://kpully.github.io/Quadtrees/. \n",
    "\n",
    "class Point():\n",
    "    \"\"\"\n",
    "    Holds positions of particles\n",
    "    \"\"\"\n",
    "    def __init__(self, x, y):\n",
    "        self.x = x\n",
    "        self.y = y\n",
    "class Node():\n",
    "    \"\"\" \n",
    "    Every node defines a box in 2D.\n",
    "    The box is defined from the lower left corner x0,y0 with a \n",
    "    certain width and height. \n",
    "    \n",
    "    Every node contains points. Some nodes contain children.\n",
    "    Every node also has a multipole, calculated with def calc_multipole()\n",
    "    \"\"\"\n",
    "    def __init__(self, x0,y0, width, height, points):\n",
    "        # Origin of the node\n",
    "        self.x0 = x0\n",
    "        self.y0 = y0\n",
    "\n",
    "        self.width = width\n",
    "        self.height = height\n",
    "\n",
    "        # Points inside the node\n",
    "        self.points = points\n",
    "        # Children of the node\n",
    "        self.chil = []\n",
    "        # Multipole of the node\n",
    "        self.multipole = 0\n",
    "    \n",
    "class QuadTree():\n",
    "    \"\"\"\n",
    "    The QuadTree holds the nodes. It starts with a rootnode that holds\n",
    "    all the points. The method .subdivide() recursively subdivides\n",
    "    the rootnode into four children until a threshold amount of points\n",
    "    is reached per node. \n",
    "    \n",
    "    positions -- (n,2) array containing the positions of n particles\n",
    "    rnorigin  -- (2,)  array containing the origin of the rootnode\n",
    "    rnwidth   --       float with the width of the rootnode box\n",
    "    rnheight  --       float with the heigh of the rootnode box\n",
    "                -> These two params should confine all particles\n",
    "    thresh    --       int   maximum amount of particles in a node\n",
    "    \"\"\"\n",
    "    def __init__(self, positions, rnorigin, rnwidth, rnheight, thresh=1):\n",
    "        # threshold for division\n",
    "        self.thresh = thresh\n",
    "        self.points = [Point(*pos) for pos in positions]\n",
    "        self.rootnode = Node(*rnorigin,rnwidth,rnheight,self.points)\n",
    "        \n",
    "    def addpoint(self, x,y):\n",
    "        self.points.append(Point(x,y))\n",
    "        \n",
    "    def get_points(self):\n",
    "        return self.points\n",
    "    \n",
    "    def subdivide(self):\n",
    "        \"\"\"Subdivide the whole tree down to the threshold\"\"\"\n",
    "        recsubdivide(self.rootnode, self.thresh)\n",
    "        \n",
    "    def get_numnodes(self):\n",
    "        \"\"\"Return the total number of nodes\"\"\"\n",
    "        return len(find_chil(self.rootnode))\n",
    "        \n",
    "    def plotQTree(self, positions, save=None, show=False):\n",
    "        # Find all nodes in the whole graph\n",
    "        all_nodes = find_chil(self.rootnode)\n",
    "        \n",
    "        fig, ax = plt.subplots(figsize=(10, 8))\n",
    "        for node in all_nodes:\n",
    "            # Plot a rectangle defining the box\n",
    "            box = patches.Rectangle((node.x0, node.y0)\n",
    "                            , node.width, node.height, fill=False)\n",
    "            ax.add_patch(box)\n",
    "            \n",
    "        plt.scatter(positions[:,0], positions[:,1], s=7)\n",
    "        plt.ylabel('y')\n",
    "        plt.xlabel('x')\n",
    "        if save is not None:\n",
    "            plt.savefig(save)\n",
    "        if show: plt.show()\n",
    "        plt.close()\n",
    "        \n",
    "        \n",
    "def findpoints(x, y, width, height, points):\n",
    "    \"\"\"\n",
    "    Return the points in 'points' that are contained within the dimensions\n",
    "    (x,x+width) (y,y+width)\n",
    "    \"\"\"\n",
    "    containedpnts = []\n",
    "    for point in points:\n",
    "        if point.x >= x and point.x <= x+width and \\\n",
    "           point.y >= y and point.y <= y+height:\n",
    "            containedpnts.append(point)\n",
    "    return containedpnts\n",
    "\n",
    "\n",
    "def recsubdivide(node, thresh):\n",
    "    \"\"\"\n",
    "    Recursively subdivide a node until it contains <= thresh points\n",
    "    \"\"\"\n",
    "    \n",
    "    # Stop when node contains threshold amount of points\n",
    "    if len(node.points) <= thresh:\n",
    "        return \n",
    "    \n",
    "    # Subdivide both dimensions\n",
    "    wnew = node.width/2\n",
    "    hnew = node.height/2\n",
    "    \n",
    "    # Find points that are in lower left box of the subdivision\n",
    "    pnts = findpoints(node.x0, node.y0, wnew, hnew, node.points)\n",
    "    # Create the new node that has these points\n",
    "    node1 = Node(node.x0, node.y0, wnew, hnew, pnts)\n",
    "    # Also subdivide this node\n",
    "    recsubdivide(node1, thresh)\n",
    "    \n",
    "    # Repeat for the other 3 nodes.\n",
    "    pnts = findpoints(node.x0, node.y0+hnew, wnew, hnew, node.points)\n",
    "    node2 = Node(node.x0, node.y0+hnew, wnew, hnew, pnts)\n",
    "    recsubdivide(node2, thresh)\n",
    "    \n",
    "    pnts = findpoints(node.x0+wnew, node.y0, wnew, hnew, node.points)\n",
    "    node3 = Node(node.x0+wnew, node.y0, wnew, hnew, pnts)\n",
    "    recsubdivide(node3, thresh)\n",
    "    \n",
    "    pnts = findpoints(node.x0+wnew, node.y0+hnew, wnew, hnew, node.points)\n",
    "    node4 = Node(node.x0+wnew, node.y0+hnew, wnew, hnew, pnts)\n",
    "    recsubdivide(node4, thresh)\n",
    "    \n",
    "    # Keep track of the children\n",
    "    node.chil = [node1, node2, node3, node4]\n",
    "    \n",
    "    \n",
    "def find_chil(node):\n",
    "    \"\"\"\n",
    "    Find all children of a node, recursive function.\n",
    "    \"\"\"\n",
    "    if not node.chil:\n",
    "        # return the node itself\n",
    "        return [node]\n",
    "    else:\n",
    "        all_children = []\n",
    "        for child in node.chil:\n",
    "            # Append also the children of the children\n",
    "            all_children += find_chil(child)\n",
    "        return all_children\n",
    "    \n",
    "def calc_multipoles(node):\n",
    "    \"\"\"\n",
    "    Recursive function. Assign the n=0 multipole of a node \n",
    "    and of all it's children. Does not return anything.\n",
    "    Run with the rootnode to calculate all multipoles.\n",
    "\n",
    "    The multipole of a node is the sum of the multipoles of its children\n",
    "    The n=0 multipole of a leafnode is the sum of the particle masses\n",
    "    In this case m=1, thus it is simply the number of particles\n",
    "    \"\"\"\n",
    "    if not node.chil:\n",
    "        # Leaf node, multipole is the number of particles\n",
    "        node.multipole = len(node.points)\n",
    "    else:\n",
    "        for child in node.chil:\n",
    "            # Multipole is the sum of the children\n",
    "            calc_multipoles(child)\n",
    "            node.multipole += child.multipole\n",
    "    return\n",
    "\n",
    "def findpoint(node, point):\n",
    "    \"\"\"\n",
    "    Find the leaf node that contains the point 'point'\n",
    "    Call this function with the rootnode of the Quad Tree.\n",
    "    It recursively checks which node of the children contains \n",
    "    the point 'point'\n",
    "    \n",
    "    Returns\n",
    "    node    -- Node  -- The Node class that contains the point\n",
    "    parents -- list  -- all parents, starting from the root node\n",
    "    \n",
    "    \"\"\"\n",
    "    if not node.chil:\n",
    "        # This node contains the point, the child is not a parent\n",
    "        return node, []\n",
    "    else:\n",
    "        parents = [node]\n",
    "        # Check which child contains the point\n",
    "        if point[0] > node.x0+node.width/2:\n",
    "            # right half\n",
    "            child = [2,3] #lower,upper\n",
    "        else:\n",
    "            # left half\n",
    "            child = [0,1] # lower,upper\n",
    "        if point[1] > node.y0+node.height/2:\n",
    "            # upper half\n",
    "            child = child[1]\n",
    "        else:\n",
    "            # lower half\n",
    "            child = child[0]\n",
    "\n",
    "        # Pursue this child, and save its parents\n",
    "        node, childparent = findpoint(node.chil[child], point)\n",
    "        parents += childparent\n",
    "        \n",
    "        return node, parents    "
   ]
  },
  {
   "cell_type": "code",
   "execution_count": 36,
   "metadata": {},
   "outputs": [
    {
     "data": {
      "image/png": "[encoded data removed]",
      "text/plain": [
       "<Figure size 720x576 with 1 Axes>"
      ]
     },
     "metadata": {},
     "output_type": "display_data"
    }
   ],
   "source": [
    "rnorigin = [0,0] # root node origin\n",
    "rnwidth = 150 # root node width (of the box)\n",
    "rnheight = 150 # root node height (of the box)\n",
    "\n",
    "# Initialize the QuadTree\n",
    "QT = QuadTree(positions, rnorigin, rnwidth, rnheight, 12)\n",
    "# Subdivide\n",
    "QT.subdivide()\n",
    "# Plot result\n",
    "QT.plotQTree(positions, save='./plots/q7_1.png', show=True)"
   ]
  },
  {
   "cell_type": "markdown",
   "metadata": {},
   "source": [
    "#### Calculate the $n=0$ multipole moment of each leaf and then recursively for each node in the tree. "
   ]
  },
  {
   "cell_type": "code",
   "execution_count": 37,
   "metadata": {},
   "outputs": [],
   "source": [
    "# Assign the multipole to each node recursively\n",
    "calc_multipoles(QT.rootnode)"
   ]
  },
  {
   "cell_type": "markdown",
   "metadata": {},
   "source": [
    "####  Print the $n = 0$ multipole moment for the leaf node containing the particle with index $i = 100$ and that of all its parent nodes up to and including the root node."
   ]
  },
  {
   "cell_type": "code",
   "execution_count": 38,
   "metadata": {},
   "outputs": [
    {
     "name": "stdout",
     "output_type": "stream",
     "text": [
      "Multipole moment of the Node containing the point:\n",
      "10\n",
      "Multipole moment of its parents, up to and including the root node:\n",
      "17\n",
      "23\n",
      "573\n",
      "573\n",
      "1200\n"
     ]
    }
   ],
   "source": [
    "# Find the node containing particle with index 100 and all its parents\n",
    "nodepoint, parents = findpoint(QT.rootnode, positions[100])\n",
    "\n",
    "# Print the n=0 multipole moment for the leaf node containing particle\n",
    "# with index = 100 and that of all of its parents up to and including\n",
    "# the root node\n",
    "print (\"Multipole moment of the Node containing the point:\")\n",
    "print (nodepoint.multipole)\n",
    "print (\"Multipole moment of its parents, up to and including the root node:\")\n",
    "for node in reversed(parents):\n",
    "    print (node.multipole)"
   ]
  },
  {
   "cell_type": "code",
   "execution_count": null,
   "metadata": {},
   "outputs": [],
   "source": []
  },
  {
   "cell_type": "code",
   "execution_count": 39,
   "metadata": {},
   "outputs": [
    {
     "name": "stdout",
     "output_type": "stream",
     "text": [
      "Parent nodes:\n",
      "0 150\n",
      "0 75.0\n",
      "37.5 37.5\n",
      "37.5 18.75\n",
      "46.875 9.375\n",
      "Node containing the point:\n",
      "51.5625 4.6875\n"
     ]
    },
    {
     "data": {
      "image/png": "[encoded data removed]",
      "text/plain": [
       "<Figure size 576x432 with 1 Axes>"
      ]
     },
     "metadata": {},
     "output_type": "display_data"
    }
   ],
   "source": [
    "# TEST CELL TO VERIFY THAT IT WORKS\n",
    "print (\"Parent nodes:\")\n",
    "for node in parents:\n",
    "    print (node.x0,node.width)\n",
    "print (\"Node containing the point:\")\n",
    "print (nodepoint.x0,nodepoint.width)\n",
    "    \n",
    "fig, ax = plt.subplots(figsize=(8,6))\n",
    "node = nodepoint\n",
    "# Plot a rectangle defining the box\n",
    "box = patches.Rectangle((node.x0, node.y0)\n",
    "                , node.width, node.height, fill=False)\n",
    "ax.add_patch(box)\n",
    "\n",
    "plt.scatter(positions[:,0], positions[:,1], s=7)\n",
    "plt.scatter(positions[100,0], positions[100,1], s=10,c='r')\n",
    "plt.ylabel('x')\n",
    "plt.xlabel('y')\n",
    "plt.show()\n"
   ]
  },
  {
   "cell_type": "code",
   "execution_count": null,
   "metadata": {},
   "outputs": [],
   "source": []
  },
  {
   "cell_type": "code",
   "execution_count": null,
   "metadata": {},
   "outputs": [],
   "source": []
  },
  {
   "cell_type": "code",
   "execution_count": null,
   "metadata": {},
   "outputs": [],
   "source": []
  }
 ],
 "metadata": {
  "kernelspec": {
   "display_name": "Python 3",
   "language": "python",
   "name": "python3"
  },
  "language_info": {
   "codemirror_mode": {
    "name": "ipython",
    "version": 3
   },
   "file_extension": ".py",
   "mimetype": "text/x-python",
   "name": "python",
   "nbconvert_exporter": "python",
   "pygments_lexer": "ipython3",
   "version": "3.6.6"
  }
 },
 "nbformat": 4,
 "nbformat_minor": 2
}
