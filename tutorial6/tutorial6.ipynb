{
 "cells": [
  {
   "cell_type": "code",
   "execution_count": 1,
   "metadata": {},
   "outputs": [],
   "source": [
    "import numpy as np\n",
    "import matplotlib.pyplot as plt"
   ]
  },
  {
   "cell_type": "markdown",
   "metadata": {},
   "source": [
    "# Maximum finding using root finding"
   ]
  },
  {
   "cell_type": "code",
   "execution_count": 2,
   "metadata": {},
   "outputs": [],
   "source": [
    "def one_A(x):\n",
    "    return np.exp(-1*(x-2)**2)"
   ]
  },
  {
   "cell_type": "code",
   "execution_count": 3,
   "metadata": {},
   "outputs": [],
   "source": [
    "def one_A_derivative(x):\n",
    "    return 2*(x-2)*one_A(x)"
   ]
  },
  {
   "cell_type": "code",
   "execution_count": 5,
   "metadata": {},
   "outputs": [
    {
     "data": {
      "image/png": "[encoded data removed]",
      "text/plain": [
       "<Figure size 432x288 with 1 Axes>"
      ]
     },
     "metadata": {
      "needs_background": "light"
     },
     "output_type": "display_data"
    }
   ],
   "source": [
    "x = np.linspace(0, 10)\n",
    "plt.plot(x, one_A(x))\n",
    "plt.title(\"Function 1a\")\n",
    "plt.show();"
   ]
  },
  {
   "cell_type": "code",
   "execution_count": 17,
   "metadata": {},
   "outputs": [],
   "source": [
    "def bisection_method(func, lower, upper, acc, MAX=100):\n",
    "    \n",
    "    ylower, yupper = func(lower), func(upper)\n",
    "\n",
    "    if ylower * yupper >= 0:\n",
    "        raise ValueError(\"Incorrect starting bracket\")\n",
    "\n",
    "    for i in range(MAX):\n",
    "        # split bracket in half\n",
    "        mid = (upper+lower)/2\n",
    "#         print (i, mid)\n",
    "        ymid = func(mid)\n",
    "        # check if in lower or upper bracket\n",
    "        if ylower * ymid <= 0:\n",
    "            # lower bracket\n",
    "            upper = mid\n",
    "        else: \n",
    "            # its in upper bracket\n",
    "            lower = mid\n",
    "            \n",
    "        if abs(upper-lower) < acc:\n",
    "            break\n",
    "            \n",
    "    return lower,upper, i+1 "
   ]
  },
  {
   "cell_type": "code",
   "execution_count": 18,
   "metadata": {},
   "outputs": [],
   "source": [
    "def secant_method(func, lower, upper, acc, MAX=100):\n",
    "    ylower, yupper = func(lower), func(upper)\n",
    "    \n",
    "    if ylower * yupper >= 0:\n",
    "        raise ValueError(\"Incorrect starting bracket\")\n",
    "    # smallest function value is 'most recent' guess = x2\n",
    "    if abs(ylower) <= abs(yupper):\n",
    "        x2 = lower\n",
    "        x1 = upper\n",
    "    else:\n",
    "        x2 = upper\n",
    "        x1 = lower\n",
    "        \n",
    "    for i in range(MAX):        \n",
    "        # new value\n",
    "        x3 = x1 - ( func(x1)*(x1-x2)  / (func(x1) - func(x2)) )\n",
    "        # update values\n",
    "        x1 = x2\n",
    "        x2 = x3\n",
    "        if abs(x1 - x2) < acc:\n",
    "            break\n",
    "        \n",
    "    return x1, x2, i+1\n",
    "        \n",
    "        "
   ]
  },
  {
   "cell_type": "code",
   "execution_count": 20,
   "metadata": {},
   "outputs": [],
   "source": [
    "def false_position(func, lower, upper, acc, MAX=100):\n",
    "    \"\"\"\n",
    "    Same as secant, but recent points are the ones that\n",
    "    bracket the root\n",
    "    \"\"\"\n",
    "    ylower, yupper = func(lower), func(upper)\n",
    "    \n",
    "    if ylower * yupper >= 0:\n",
    "        raise ValueError(\"Incorrect starting bracket\")\n",
    "    # smallest function value is 'most recent' guess = x2\n",
    "    if abs(ylower) <= abs(yupper):\n",
    "        x2 = lower\n",
    "        x1 = upper\n",
    "    else:\n",
    "        x2 = upper\n",
    "        x1 = lower\n",
    "    \n",
    "    for i in range(MAX):        \n",
    "        # new value\n",
    "        x3 = x1 - ( func(x1)*(x1-x2)  / (func(x1) - func(x2)) )\n",
    "        # update values, most recent guess is two values that bracket\n",
    "        if func(x3)*func(x2) <= 0: \n",
    "            # if new point has different sign, then update last point\n",
    "            x1 = x2\n",
    "        else:\n",
    "            x1 = x1\n",
    "        x2 = x3\n",
    "        \n",
    "        if abs(x1 - x2) < acc:\n",
    "            break\n",
    "        \n",
    "    return x1, x2, i+1"
   ]
  },
  {
   "cell_type": "code",
   "execution_count": 23,
   "metadata": {},
   "outputs": [
    {
     "name": "stdout",
     "output_type": "stream",
     "text": [
      "Bisection method to find maximum:\n",
      "1.9999999972060323\n",
      "29 iterations\n",
      "\n",
      "\n",
      "Secant method to find maximum:\n",
      "10.88829375040013\n",
      "100 iterations\n",
      "\n",
      "\n",
      "False position method to find maximum:\n",
      "2.0000000005421503\n",
      "14 iterations\n"
     ]
    }
   ],
   "source": [
    "print (\"Bisection method to find maximum:\")\n",
    "result = bisection_method(one_A_derivative, 0, 5, acc=1e-8)\n",
    "print (np.mean(result[:2]))\n",
    "print (f'{result[-1]} iterations')\n",
    "\n",
    "print ('\\n')\n",
    "\n",
    "print (\"Secant method to find maximum:\")\n",
    "result = secant_method(one_A_derivative, 0, 5, acc=1e-8)\n",
    "print (np.mean(result[:2]))\n",
    "print (f'{result[-1]} iterations')\n",
    "\n",
    "print ('\\n')\n",
    "\n",
    "print (\"False position method to find maximum:\")\n",
    "result = false_position(one_A_derivative, 0, 5, acc=1e-8)\n",
    "print (np.mean(result[:2]))\n",
    "print (f'{result[-1]} iterations')\n"
   ]
  },
  {
   "cell_type": "code",
   "execution_count": null,
   "metadata": {},
   "outputs": [],
   "source": []
  },
  {
   "cell_type": "code",
   "execution_count": null,
   "metadata": {},
   "outputs": [],
   "source": []
  },
  {
   "cell_type": "code",
   "execution_count": null,
   "metadata": {},
   "outputs": [],
   "source": []
  },
  {
   "cell_type": "code",
   "execution_count": null,
   "metadata": {},
   "outputs": [],
   "source": []
  },
  {
   "cell_type": "code",
   "execution_count": null,
   "metadata": {},
   "outputs": [],
   "source": []
  },
  {
   "cell_type": "code",
   "execution_count": null,
   "metadata": {},
   "outputs": [],
   "source": []
  },
  {
   "cell_type": "code",
   "execution_count": null,
   "metadata": {},
   "outputs": [],
   "source": []
  },
  {
   "cell_type": "code",
   "execution_count": null,
   "metadata": {},
   "outputs": [],
   "source": []
  },
  {
   "cell_type": "markdown",
   "metadata": {},
   "source": [
    "# Minimizing function in 1D"
   ]
  },
  {
   "cell_type": "code",
   "execution_count": 35,
   "metadata": {},
   "outputs": [
    {
     "data": {
      "image/png": "[encoded data removed]",
      "text/plain": [
       "<Figure size 432x288 with 1 Axes>"
      ]
     },
     "metadata": {
      "needs_background": "light"
     },
     "output_type": "display_data"
    }
   ],
   "source": [
    "def func2a(x):\n",
    "    return x**2\n",
    "\n",
    "x = np.linspace(-4,8)\n",
    "plt.plot(x,func2a(x))\n",
    "plt.show();"
   ]
  },
  {
   "cell_type": "code",
   "execution_count": 61,
   "metadata": {},
   "outputs": [],
   "source": [
    "def parabola_minimum(x1, x2, x3, f1, f2, f3):\n",
    "    \"\"\"\n",
    "    return the point that minimizes the parabola that is fit through\n",
    "    the three points x1, x2 and x3\n",
    "    \"\"\"\n",
    "    L = (x2 - x1)*(f2-f3)\n",
    "    M = (x2 - x3)*(f2-f1)\n",
    "    \n",
    "    # new point \n",
    "    xnew = x2 - ( ( (x2-x3)*M - (x2-x1)*L ) \n",
    "                / (2 * (M-L) ) )\n",
    "    \n",
    "    return xnew\n",
    "\n",
    "def shift_variables(var1,var2,var3,var4):\n",
    "    \"\"\"\n",
    "    shift variables, var1=var2, var2=var3 and var3=var4\n",
    "    \n",
    "    call as\n",
    "    var1,var2,var3 = shift_variables(var1,var2,var3,var4)\n",
    "    \"\"\"\n",
    "    # can remove this func\n",
    "    return var2, var3, var4\n",
    "\n",
    "\n",
    "def bracket_minimum(func, a, b, MAXITER=100):\n",
    "    \"\"\"\n",
    "    Find a minimum by bracketing a function between a,b,c\n",
    "    \n",
    "    There is a minimum when f(a) >= f(b) and f(c) >= f(b)\n",
    "    \n",
    "    returns new bracket a,b,c\n",
    "    \"\"\"\n",
    "    \n",
    "    fa, fb = func(a), func(b)\n",
    "    \n",
    "    if fb >= fa:\n",
    "        a, b = b, a\n",
    "    # step size\n",
    "    w = 1.618 # golden ratio\n",
    "    # first guess for c\n",
    "    c = b + (b-a) * w\n",
    "    fc = func(c)\n",
    "    \n",
    "    if fc >= fb:\n",
    "        # We found c already\n",
    "        print (\"Failure\")\n",
    "        return a, b, c\n",
    "    \n",
    "    it = 0\n",
    "    while (fb > fc) and (it < MAXITER):\n",
    "        it += 1 # to make sure we dont get inf loops\n",
    "        \n",
    "        # find a new point by fitting a parabola and set d to the minimum\n",
    "        xnew = parabola_minimum(a,b,c,fa,fb,fc)\n",
    "        print (\"Xnew:\", xnew)\n",
    "        # make sure we don't step ridiculously far away\n",
    "        xnew_limit = b + 100 * (c-b)\n",
    "        \n",
    "        if (a-xnew)*(xnew-c) > 0: \n",
    "            # If the new point is between b and c\n",
    "            fnew = func(xnew)\n",
    "            if (fnew < fc):\n",
    "                # Then we have a minimum between b and c\n",
    "                a = b\n",
    "                b = xnew\n",
    "                fa = fb\n",
    "                fb = fnew\n",
    "                return a, b, c\n",
    "            \n",
    "            elif (fnew > fb):\n",
    "                # Then we have a minimum between a and xnew\n",
    "                c = xnew\n",
    "                fc = fnew\n",
    "                return a, b, c\n",
    "            \n",
    "            # Parabolic fit failed, just do\n",
    "            xnew = c + (c-b)*w\n",
    "            fnew = func(xnew)\n",
    "        elif ( (c-xnew)*(xnew-xnew_limit) > 0): \n",
    "            # new point is between c and limit\n",
    "            print (\"Between c and limit\")\n",
    "            fnew = func(xnew)\n",
    "        \n",
    "            if (fnew < fc): # new point is below func(c)\n",
    "                # effectively 1,2,3 = 2,3,4\n",
    "                b, c, xnew = shift_variables(b,c,xnew,xnew+(xnew-c)*w)\n",
    "                fb, fc, fnew = shift_variables(fb,fc,fnew,func(xnew))\n",
    "        elif ( (xnew - xnew_limit)*(xnew_limit-c) >= 0):\n",
    "            xnew = xlim\n",
    "            fnew = func(xnew)\n",
    "                       \n",
    "        else:          \n",
    "            # its above the limit\n",
    "            # better probably to just move a normal step\n",
    "            xnew = c+ (c-b)*w\n",
    "            fnew = func(xnew)\n",
    "        \n",
    "        # go to new points\n",
    "        a, b, c = shift_variables(a,b,c,xnew)\n",
    "        fa, fc, fc = shift_variables(fa,fc,fc,fnew)\n",
    "        \n",
    "    print ('Iterations', it)\n",
    "    return a, b, c\n",
    "        \n",
    "                       \n",
    "            \n",
    "            \n",
    "            \n",
    "def easy_bracketing(func, a, b, MAXITER=100):\n",
    "    fa, fb = func(a), func(b)\n",
    "    \n",
    "    if fb >= fa:\n",
    "        a, b = b, a\n",
    "    # step size\n",
    "    w = 1.618 # golden ratio\n",
    "    # guess for c\n",
    "    c = b + (b-a) * w\n",
    "    fc = func(c)\n",
    "    \n",
    "    it = 0\n",
    "    while (fc < fb) and it < MAXITER:\n",
    "        if it != 0:\n",
    "            a = b\n",
    "            b = c\n",
    "        \n",
    "        it += 1 # to prevent inf loop\n",
    "        \n",
    "        # new guess\n",
    "        c = b + (b-a) * w\n",
    "        fc = func(c)\n",
    "        \n",
    "        \n",
    "    \n",
    "    return a, b, c\n",
    "    \n",
    "        \n",
    "    "
   ]
  },
  {
   "cell_type": "code",
   "execution_count": 62,
   "metadata": {},
   "outputs": [
    {
     "name": "stdout",
     "output_type": "stream",
     "text": [
      "New a,b,c -1.382 1.2359240000000005 5.471725032000002\n"
     ]
    }
   ],
   "source": [
    "# a, b = -4, -3\n",
    "# for i in range(4):\n",
    "#     print (i)\n",
    "#     a, b, c = bracket_minimum(func2a, a, b, MAXITER=100)\n",
    "#     print (a, b, c)\n",
    "\n",
    "a, b = -4, -3\n",
    "a, b, c = easy_bracketing(func2a, a, b)\n",
    "print (\"New a,b,c\", a,b,c)"
   ]
  },
  {
   "cell_type": "code",
   "execution_count": null,
   "metadata": {},
   "outputs": [],
   "source": []
  },
  {
   "cell_type": "code",
   "execution_count": null,
   "metadata": {},
   "outputs": [],
   "source": []
  }
 ],
 "metadata": {
  "kernelspec": {
   "display_name": "Python 3",
   "language": "python",
   "name": "python3"
  },
  "language_info": {
   "codemirror_mode": {
    "name": "ipython",
    "version": 3
   },
   "file_extension": ".py",
   "mimetype": "text/x-python",
   "name": "python",
   "nbconvert_exporter": "python",
   "pygments_lexer": "ipython3",
   "version": "3.6.6"
  }
 },
 "nbformat": 4,
 "nbformat_minor": 2
}
