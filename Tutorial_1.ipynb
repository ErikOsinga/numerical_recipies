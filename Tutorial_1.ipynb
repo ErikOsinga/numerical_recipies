{
 "cells": [
  {
   "cell_type": "code",
   "execution_count": 3,
   "metadata": {},
   "outputs": [],
   "source": [
    "import numpy as np\n",
    "import matplotlib.pyplot as plt"
   ]
  },
  {
   "cell_type": "markdown",
   "metadata": {},
   "source": [
    "# Question 3: One dimensional interpolation and application\n",
    "#### a) Linear interpolation"
   ]
  },
  {
   "cell_type": "code",
   "execution_count": 72,
   "metadata": {},
   "outputs": [],
   "source": [
    "x = np.linspace(1,20,7)"
   ]
  },
  {
   "cell_type": "code",
   "execution_count": 73,
   "metadata": {},
   "outputs": [],
   "source": [
    "def fx(x):\n",
    "    return 2*x*np.sin(0.8*x)"
   ]
  },
  {
   "cell_type": "code",
   "execution_count": 79,
   "metadata": {},
   "outputs": [
    {
     "data": {
      "text/plain": [
       "<matplotlib.collections.PathCollection at 0x7fd9ea404780>"
      ]
     },
     "execution_count": 79,
     "metadata": {},
     "output_type": "execute_result"
    },
    {
     "data": {
      "image/png": "[encoded data removed]",
      "text/plain": [
       "<Figure size 432x288 with 1 Axes>"
      ]
     },
     "metadata": {
      "needs_background": "light"
     },
     "output_type": "display_data"
    }
   ],
   "source": [
    "plt.title('Datapoints')\n",
    "plt.scatter(x,fx(x),c='k')"
   ]
  },
  {
   "cell_type": "code",
   "execution_count": 87,
   "metadata": {},
   "outputs": [],
   "source": [
    "def linear_interpolation(x, f, num_values, begin, end):\n",
    "    \"\"\"\n",
    "    Interpolate given 'x' values and function 'f' at 'num_values' linearly separated between 'begin' and 'end'\n",
    "    \"\"\"\n",
    "    # y values\n",
    "    y = f(x)\n",
    "    # interpolated y values\n",
    "    y_values = []\n",
    "    # interpolated x values\n",
    "    x_values = np.linspace(begin,end,num_values)\n",
    "\n",
    "    \n",
    "    # Interpolation\n",
    "    for i in range(len(x)-1):\n",
    "        # calculate slope between two points\n",
    "        a = ( y[i+1] - y[i] ) / (x[i+1] - x[i])\n",
    "        # take only x values between two points\n",
    "        x_values_now = x_values[(x_values >= x[i]) & (x_values < x[i+1])]\n",
    "        # calculate y values as linear interpolation\n",
    "        y_values += list(y[i] + (x_values_now - x[i])*a)\n",
    "        \n",
    "    # Extrapolation, is simply extrapolating final bin\n",
    "    x_values_now = x_values[(x_values >= x[i+1])]\n",
    "    y_values += list(y[i] + (x_values_now - x[i])*a)\n",
    "    \n",
    "    return x_values, np.asarray(y_values)\n",
    "\n"
   ]
  },
  {
   "cell_type": "code",
   "execution_count": 88,
   "metadata": {},
   "outputs": [],
   "source": [
    "x_values, y_values = linear_interpolation(x,fx, 100, 1, 25)"
   ]
  },
  {
   "cell_type": "code",
   "execution_count": 89,
   "metadata": {},
   "outputs": [
    {
     "data": {
      "text/plain": [
       "<matplotlib.legend.Legend at 0x7fd9ea293cc0>"
      ]
     },
     "execution_count": 89,
     "metadata": {},
     "output_type": "execute_result"
    },
    {
     "data": {
      "image/png": "[encoded data removed]",
      "text/plain": [
       "<Figure size 432x288 with 1 Axes>"
      ]
     },
     "metadata": {
      "needs_background": "light"
     },
     "output_type": "display_data"
    }
   ],
   "source": [
    "plt.scatter(x_values,y_values,label='linear interp')\n",
    "plt.scatter(x,fx(x),color='black',label='datapoints')\n",
    "plt.legend()"
   ]
  },
  {
   "cell_type": "code",
   "execution_count": null,
   "metadata": {},
   "outputs": [],
   "source": []
  },
  {
   "cell_type": "code",
   "execution_count": null,
   "metadata": {},
   "outputs": [],
   "source": []
  },
  {
   "cell_type": "code",
   "execution_count": null,
   "metadata": {},
   "outputs": [],
   "source": []
  }
 ],
 "metadata": {
  "kernelspec": {
   "display_name": "Python 3",
   "language": "python",
   "name": "python3"
  },
  "language_info": {
   "codemirror_mode": {
    "name": "ipython",
    "version": 3
   },
   "file_extension": ".py",
   "mimetype": "text/x-python",
   "name": "python",
   "nbconvert_exporter": "python",
   "pygments_lexer": "ipython3",
   "version": "3.6.6"
  }
 },
 "nbformat": 4,
 "nbformat_minor": 2
}
