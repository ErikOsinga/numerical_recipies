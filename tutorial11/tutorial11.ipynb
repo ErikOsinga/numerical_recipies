{
 "cells": [
  {
   "cell_type": "code",
   "execution_count": 1,
   "metadata": {},
   "outputs": [],
   "source": [
    "import numpy as np\n",
    "import matplotlib.pyplot as plt\n",
    "from tqdm import tqdm_notebook as tqdm"
   ]
  },
  {
   "cell_type": "code",
   "execution_count": 2,
   "metadata": {},
   "outputs": [],
   "source": [
    "G = 6.67408e-11 # m3 kg-1 s-2\n",
    "Mjup = 1.89813e27 # kg\n",
    "Msun = 1.98e30 # kg\n",
    "\n",
    "Mstar = 1*Msun\n",
    "M_A = 1*Mjup\n",
    "M_B = 0.011*Mjup\n",
    "P_A = 12 * 365.25*86400 # seconds\n",
    "P_B = 1 * 365.25*86400 # seconds\n"
   ]
  },
  {
   "cell_type": "code",
   "execution_count": 3,
   "metadata": {},
   "outputs": [],
   "source": [
    "def semimajoraxis(M,m,P):\n",
    "    return np.cbrt( G * P**2 * (M+m) /(4*np.pi**2))\n",
    "\n",
    "def circular_velocity(M,r):\n",
    "    return np.sqrt(G*M/r)"
   ]
  },
  {
   "cell_type": "markdown",
   "metadata": {},
   "source": [
    "#### It would be nice to do this in a \"Class\" but due to time we wont"
   ]
  },
  {
   "cell_type": "code",
   "execution_count": 4,
   "metadata": {},
   "outputs": [],
   "source": [
    "def accelleration(all_M, all_r):\n",
    "    \"\"\"\n",
    "    Return accellerations on all particles. \n",
    "    Assumes the first M is the central star, we ignore this \n",
    "    \"\"\"\n",
    "    n = len(all_M) \n",
    "    all_a = [[0,0]] # assume 0 accelleration on Star\n",
    "    for j in range(1,n): # ignore central star, start at 1\n",
    "        a = 0\n",
    "        for i in range(0,n):\n",
    "            if i != j:\n",
    "                posdiff = all_r[i] - all_r[j]\n",
    "                # Sum over all particles that are not j\n",
    "                a += G*all_M[i] / (np.linalg.norm(posdiff)**3) * posdiff\n",
    "        all_a.append(a)\n",
    "    \n",
    "    return np.array(all_a)\n",
    "    "
   ]
  },
  {
   "cell_type": "code",
   "execution_count": 11,
   "metadata": {},
   "outputs": [
    {
     "data": {
      "image/png": "[encoded data removed]",
      "text/plain": [
       "<Figure size 432x288 with 1 Axes>"
      ]
     },
     "metadata": {
      "needs_background": "light"
     },
     "output_type": "display_data"
    },
    {
     "data": {
      "application/vnd.jupyter.widget-view+json": {
       "model_id": "faf6085c87b949de99d2b63ba8c41cd7",
       "version_major": 2,
       "version_minor": 0
      },
      "text/plain": [
       "HBox(children=(IntProgress(value=0, max=43831), HTML(value='')))"
      ]
     },
     "metadata": {},
     "output_type": "display_data"
    },
    {
     "name": "stdout",
     "output_type": "stream",
     "text": [
      "\n"
     ]
    }
   ],
   "source": [
    "r_A = semimajoraxis(Mstar,M_A,P_A)\n",
    "v_A = circular_velocity(Mstar,r_A) \n",
    "v_A = [-v_A,0] # initial velocity\n",
    "r_A = [0,r_A] # starting position\n",
    "\n",
    "r_B = semimajoraxis(Mstar,M_B,P_B)\n",
    "v_B = circular_velocity(Mstar,r_B)\n",
    "v_B = [0, v_B]\n",
    "r_B = [r_B,0]\n",
    "\n",
    "rstar = [0,0]\n",
    "vstar = [0,0]\n",
    "\n",
    "all_M = np.array([Mstar, M_A, M_B])\n",
    "all_r = np.array([rstar, r_A, r_B])\n",
    "all_v = np.array([vstar, v_A, v_B])\n",
    "all_a = np.array([[0,0],[0,0],[0,0]])\n",
    "\n",
    "def plot_system():\n",
    "    plt.title(\"Initial values of system\")\n",
    "    plt.scatter(*all_r[0],c='r',label='Star')\n",
    "    plt.scatter(*all_r[1],label='Planet A')\n",
    "    plt.scatter(*all_r[2],label='Planet B')\n",
    "    plt.legend()\n",
    "    plt.xlim(-5e11,5e11)\n",
    "    plt.ylim(-12e11,12e11)\n",
    "    plt.show()\n",
    "    \n",
    "plot_system()\n",
    "\n",
    "def do_onestep():\n",
    "    global all_a, all_r, all_M, all_v\n",
    "    \n",
    "    all_a = accelleration(all_M,all_r)\n",
    "    all_r += all_v*dt\n",
    "    all_v += all_a*dt\n",
    "    \n",
    "integrated_r = [np.copy(all_r)] # save all positions through time\n",
    "\n",
    "ndays = 1 # amount of days as timestep\n",
    "dt = ndays*86400 # seconds \n",
    "t_end = 120*365.25*86400 # 120 years in seconds\n",
    "n_steps = int(t_end/dt)+1\n",
    "\n",
    "for i in tqdm(range(n_steps)):\n",
    "    do_onestep()\n",
    "    integrated_r.append(np.copy(all_r))\n",
    "    if i > 1:\n",
    "        if np.linalg.norm(integrated_r[i]-integrated_r[i-1]) == 0:\n",
    "            raise ValueError(\"No change, timestep too small?\")\n",
    "    \n",
    "integrated_r = np.array(integrated_r)\n",
    "\n",
    "def plot_integration(integrated_r):\n",
    "    t = 0\n",
    "    plt.scatter(*integrated_r[t,1,:],label='Planet A') # Planet A\n",
    "    plt.scatter(*integrated_r[t,2,:], label='Planet B') # Planet B\n",
    "    \n",
    "    max_points = 1000 # plot maximally 500 points\n",
    "    step = integrated_r.shape[0]//max_points\n",
    "    \n",
    "    for t in range(1,integrated_r.shape[0],step):\n",
    "#         print (integrated_r[t,1,:]-integrated_r[t,1,:])\n",
    "        plt.scatter(*integrated_r[t,1,:],c='C0',s=0.1) # Planet A\n",
    "        plt.scatter(*integrated_r[t,2,:],c='C1',s=0.1) # Planet B\n",
    "    plt.scatter(*integrated_r[0,0,:],c='r',label='Star')\n",
    "    plt.legend(frameon=False)\n",
    "    plt.xlim(-1e12,1e10)\n",
    "    plt.ylim(-12e11,12e11)\n",
    "    plt.show()\n",
    "    \n"
   ]
  },
  {
   "cell_type": "code",
   "execution_count": 12,
   "metadata": {},
   "outputs": [
    {
     "data": {
      "image/png": "[encoded data removed]",
      "text/plain": [
       "<Figure size 432x288 with 1 Axes>"
      ]
     },
     "metadata": {
      "needs_background": "light"
     },
     "output_type": "display_data"
    }
   ],
   "source": [
    "plot_integration(integrated_r)"
   ]
  },
  {
   "cell_type": "code",
   "execution_count": null,
   "metadata": {},
   "outputs": [],
   "source": []
  },
  {
   "cell_type": "code",
   "execution_count": null,
   "metadata": {},
   "outputs": [],
   "source": []
  },
  {
   "cell_type": "code",
   "execution_count": null,
   "metadata": {
    "scrolled": false
   },
   "outputs": [],
   "source": []
  },
  {
   "cell_type": "code",
   "execution_count": null,
   "metadata": {},
   "outputs": [],
   "source": []
  },
  {
   "cell_type": "code",
   "execution_count": null,
   "metadata": {},
   "outputs": [],
   "source": []
  },
  {
   "cell_type": "code",
   "execution_count": null,
   "metadata": {},
   "outputs": [],
   "source": []
  }
 ],
 "metadata": {
  "kernelspec": {
   "display_name": "Python 3",
   "language": "python",
   "name": "python3"
  },
  "language_info": {
   "codemirror_mode": {
    "name": "ipython",
    "version": 3
   },
   "file_extension": ".py",
   "mimetype": "text/x-python",
   "name": "python",
   "nbconvert_exporter": "python",
   "pygments_lexer": "ipython3",
   "version": "3.6.6"
  }
 },
 "nbformat": 4,
 "nbformat_minor": 2
}
