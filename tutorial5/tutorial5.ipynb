{
 "cells": [
  {
   "cell_type": "code",
   "execution_count": 3,
   "metadata": {},
   "outputs": [],
   "source": [
    "import numpy as np\n",
    "import matplotlib.pyplot as plt"
   ]
  },
  {
   "cell_type": "markdown",
   "metadata": {},
   "source": [
    "## Root finding"
   ]
  },
  {
   "cell_type": "code",
   "execution_count": 17,
   "metadata": {},
   "outputs": [],
   "source": [
    "x = np.linspace(0,4.2,100)"
   ]
  },
  {
   "cell_type": "code",
   "execution_count": 21,
   "metadata": {},
   "outputs": [],
   "source": [
    "def func2a(x):\n",
    "    \"\"\"\n",
    "    roots are at x = 1, 2 and 3\n",
    "    \"\"\"\n",
    "    return x**3-6*x**2+11*x-6\n",
    "\n",
    "def func2b(x):\n",
    "    return np.tan()"
   ]
  },
  {
   "cell_type": "code",
   "execution_count": 20,
   "metadata": {},
   "outputs": [
    {
     "data": {
      "image/png": "[encoded data removed]",
      "text/plain": [
       "<Figure size 432x288 with 1 Axes>"
      ]
     },
     "metadata": {
      "needs_background": "light"
     },
     "output_type": "display_data"
    }
   ],
   "source": [
    "fig, ax = plt.subplots()\n",
    "ax.plot(x,func2(x))\n",
    "ax.axhline(y=0,xmin=0,xmax=1,ls='dashed',color='k')\n",
    "plt.show()"
   ]
  },
  {
   "cell_type": "code",
   "execution_count": 122,
   "metadata": {},
   "outputs": [],
   "source": [
    "def bisection_method(func, lower, upper, acc, MAX=50):\n",
    "    \n",
    "    ylower, yupper = func(lower), func(upper)\n",
    "\n",
    "    if ylower * yupper >= 0:\n",
    "        raise ValueError(\"Incorrect starting bracket\")\n",
    "\n",
    "    for i in range(MAX):\n",
    "        # split bracket in half\n",
    "        mid = (upper+lower)/2\n",
    "#         print (i, mid)\n",
    "        ymid = func(mid)\n",
    "        # check if in lower or upper bracket\n",
    "        if ylower * ymid <= 0:\n",
    "            # lower bracket\n",
    "            upper = mid\n",
    "        else: \n",
    "            # its in upper bracket\n",
    "            lower = mid\n",
    "            \n",
    "        if abs(upper-lower) < acc:\n",
    "            break\n",
    "            \n",
    "    return lower,upper, i+1 "
   ]
  },
  {
   "cell_type": "code",
   "execution_count": 123,
   "metadata": {},
   "outputs": [],
   "source": [
    "def secant_method(func, lower, upper, acc, MAX=50):\n",
    "    ylower, yupper = func(lower), func(upper)\n",
    "    \n",
    "    if ylower * yupper >= 0:\n",
    "        raise ValueError(\"Incorrect starting bracket\")\n",
    "    # smallest function value is 'most recent' guess = x2\n",
    "    if abs(ylower) <= abs(yupper):\n",
    "        x2 = lower\n",
    "        x1 = upper\n",
    "    else:\n",
    "        x2 = upper\n",
    "        x1 = lower\n",
    "        \n",
    "    for i in range(MAX):        \n",
    "        # new value\n",
    "        x3 = x1 - ( func(x1)*(x1-x2)  / (func(x1) - func(x2)) )\n",
    "        # update values\n",
    "        x1 = x2\n",
    "        x2 = x3\n",
    "        if abs(x1 - x2) < acc:\n",
    "            break\n",
    "        \n",
    "    return x1, x2, i+1\n",
    "        \n",
    "        "
   ]
  },
  {
   "cell_type": "code",
   "execution_count": 124,
   "metadata": {},
   "outputs": [],
   "source": [
    "def false_position(func, lower, upper, acc, MAX=100):\n",
    "    \"\"\"\n",
    "    Same as secant, but recent points are the ones that\n",
    "    bracket the root\n",
    "    \"\"\"\n",
    "    ylower, yupper = func(lower), func(upper)\n",
    "    \n",
    "    if ylower * yupper >= 0:\n",
    "        raise ValueError(\"Incorrect starting bracket\")\n",
    "    # smallest function value is 'most recent' guess = x2\n",
    "    if abs(ylower) <= abs(yupper):\n",
    "        x2 = lower\n",
    "        x1 = upper\n",
    "    else:\n",
    "        x2 = upper\n",
    "        x1 = lower\n",
    "    \n",
    "    for i in range(MAX):        \n",
    "        # new value\n",
    "        x3 = x1 - ( func(x1)*(x1-x2)  / (func(x1) - func(x2)) )\n",
    "        # update values, most recent guess is two values that bracket\n",
    "        if func(x3)*func(x2) <= 0: \n",
    "            # if new point has different sign, then update last point\n",
    "            x1 = x2\n",
    "        else:\n",
    "            x1 = x1\n",
    "        x2 = x3\n",
    "        \n",
    "        if abs(x1 - x2) < acc:\n",
    "            break\n",
    "        \n",
    "    return x1, x2, i+1"
   ]
  },
  {
   "cell_type": "code",
   "execution_count": 126,
   "metadata": {},
   "outputs": [],
   "source": [
    "def brents_method(func, lower, upper, acc, MAX=100):\n",
    "    ylower, yupper = func(lower), func(upper)\n",
    "    \n",
    "    if ylower * yupper >= 0:\n",
    "        raise ValueError(\"Incorrect starting bracket\")\n",
    "    # smallest function value is 'most recent' guess = x2\n",
    "    if abs(ylower) <= abs(yupper):\n",
    "        x2 = lower\n",
    "        x1 = upper\n",
    "    else:\n",
    "        x2 = upper\n",
    "        x1 = lower \n",
    "    x3 = x1\n",
    "    for i in range(MAX):\n",
    "        print (\"TODO\")\n",
    "        \n",
    "    \n",
    "    "
   ]
  },
  {
   "cell_type": "code",
   "execution_count": 125,
   "metadata": {},
   "outputs": [
    {
     "name": "stdout",
     "output_type": "stream",
     "text": [
      "===========\n",
      "Bisection method, x between 2.999998092651367,3.0000038146972656\n",
      "Mean: 3.0000009536743164\n",
      "Accuracy: 1e-05, Number of iterations needed: 18\n",
      "===========\n",
      "===========\n",
      "Secant method, x between 3.000003738249954,2.9999999978820466\n",
      "Mean: 3.0000018680660006\n",
      "Accuracy: 1e-05, Number of iterations needed: 12\n",
      "===========\n",
      "===========\n",
      "False position, x between 2.999999999999999,3.0\n",
      "Mean: 2.9999999999999996\n",
      "Accuracy: 1e-05, Number of iterations needed: 85\n",
      "===========\n"
     ]
    }
   ],
   "source": [
    "acc = 1e-5\n",
    "xlower, xupper, itneeded = bisection_method(func2, 2.5,4.0,acc)\n",
    "print ('===========')\n",
    "print (f'Bisection method, x between {xlower},{xupper}')\n",
    "print (f'Mean: {(xlower+xupper)/2}')\n",
    "print (f'Accuracy: {acc}, Number of iterations needed: {itneeded}')\n",
    "print ('===========')\n",
    "\n",
    "xlower, xupper, itneeded = secant_method(func2, 2.5,4.0,acc)\n",
    "print ('===========')\n",
    "print (f'Secant method, x between {xlower},{xupper}')\n",
    "print (f'Mean: {(xlower+xupper)/2}')\n",
    "print (f'Accuracy: {acc}, Number of iterations needed: {itneeded}')\n",
    "print ('===========')\n",
    "\n",
    "xlower, xupper, itneeded = false_position(func2, 2.5,4.0,acc)\n",
    "print ('===========')\n",
    "print (f'False position, x between {xlower},{xupper}')\n",
    "print (f'Mean: {(xlower+xupper)/2}')\n",
    "print (f'Accuracy: {acc}, Number of iterations needed: {itneeded}')\n",
    "print ('===========')\n",
    "# Note that the secant method finds another root, which is further away\n",
    "\n"
   ]
  },
  {
   "cell_type": "code",
   "execution_count": null,
   "metadata": {},
   "outputs": [],
   "source": []
  },
  {
   "cell_type": "code",
   "execution_count": null,
   "metadata": {},
   "outputs": [],
   "source": []
  },
  {
   "cell_type": "code",
   "execution_count": null,
   "metadata": {},
   "outputs": [],
   "source": []
  },
  {
   "cell_type": "markdown",
   "metadata": {},
   "source": [
    "## Sorting"
   ]
  },
  {
   "cell_type": "code",
   "execution_count": 130,
   "metadata": {},
   "outputs": [],
   "source": [
    "def selection_sort(arr):\n",
    "    N = len(arr)\n",
    "    # for every position in the array     \n",
    "    for i in range(0,N-1):\n",
    "        # Find next smallest element     \n",
    "        imin = i\n",
    "        for j in range(i+1, N):\n",
    "            if arr[j] < arr[imin]:\n",
    "                imin = j\n",
    "        # put it in the correct position by swapping with current i\n",
    "        if imin != i:\n",
    "            arr[imin], arr[i] = arr[i], arr[imin]\n",
    "    return arr"
   ]
  },
  {
   "cell_type": "code",
   "execution_count": 137,
   "metadata": {},
   "outputs": [
    {
     "name": "stdout",
     "output_type": "stream",
     "text": [
      "Timing of selection sort on array of length  20\n",
      "51.7 µs ± 1.06 µs per loop (mean ± std. dev. of 7 runs, 10000 loops each)\n",
      "\n",
      "Example of sorted array with selection sort:\n",
      "[0.09008106 0.13391863 0.1941305  0.21346141 0.23153668 0.28991625\n",
      " 0.30757257 0.40748021 0.51738874 0.59300731 0.6232499  0.65930982\n",
      " 0.70066682 0.78252324 0.86326815 0.87480361 0.89621404 0.93672383\n",
      " 0.98091528 0.99848464]\n"
     ]
    }
   ],
   "source": [
    "N = 20\n",
    "print (\"Timing of selection sort on array of length \",N)\n",
    "%timeit (selection_sort(np.random.rand(N)))\n",
    "print (\"\\nExample of sorted array with selection sort:\")\n",
    "print (selection_sort(np.random.rand(N)))"
   ]
  },
  {
   "cell_type": "code",
   "execution_count": null,
   "metadata": {},
   "outputs": [],
   "source": []
  }
 ],
 "metadata": {
  "kernelspec": {
   "display_name": "Python 3",
   "language": "python",
   "name": "python3"
  },
  "language_info": {
   "codemirror_mode": {
    "name": "ipython",
    "version": 3
   },
   "file_extension": ".py",
   "mimetype": "text/x-python",
   "name": "python",
   "nbconvert_exporter": "python",
   "pygments_lexer": "ipython3",
   "version": "3.6.6"
  }
 },
 "nbformat": 4,
 "nbformat_minor": 2
}
