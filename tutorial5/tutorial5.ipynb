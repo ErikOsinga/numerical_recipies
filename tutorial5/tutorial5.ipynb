{
 "cells": [
  {
   "cell_type": "code",
   "execution_count": 3,
   "metadata": {},
   "outputs": [],
   "source": [
    "import numpy as np\n",
    "import matplotlib.pyplot as plt"
   ]
  },
  {
   "cell_type": "markdown",
   "metadata": {},
   "source": [
    "## Root finding"
   ]
  },
  {
   "cell_type": "code",
   "execution_count": 4,
   "metadata": {},
   "outputs": [],
   "source": [
    "x = np.linspace(0,4.2,100)"
   ]
  },
  {
   "cell_type": "code",
   "execution_count": 5,
   "metadata": {},
   "outputs": [],
   "source": [
    "def func2a(x):\n",
    "    \"\"\"\n",
    "    roots are at x = 1, 2 and 3\n",
    "    \"\"\"\n",
    "    return x**3-6*x**2+11*x-6\n",
    "\n",
    "def func2b(x):\n",
    "    return np.tan()"
   ]
  },
  {
   "cell_type": "code",
   "execution_count": 6,
   "metadata": {},
   "outputs": [
    {
     "data": {
      "image/png": "[encoded data removed]",
      "text/plain": [
       "<Figure size 432x288 with 1 Axes>"
      ]
     },
     "metadata": {},
     "output_type": "display_data"
    }
   ],
   "source": [
    "fig, ax = plt.subplots()\n",
    "ax.plot(x,func2a(x))\n",
    "ax.axhline(y=0,xmin=0,xmax=1,ls='dashed',color='k')\n",
    "plt.show()"
   ]
  },
  {
   "cell_type": "code",
   "execution_count": 7,
   "metadata": {},
   "outputs": [],
   "source": [
    "def bisection_method(func, lower, upper, acc, MAX=50):\n",
    "    \n",
    "    ylower, yupper = func(lower), func(upper)\n",
    "\n",
    "    if ylower * yupper >= 0:\n",
    "        raise ValueError(\"Incorrect starting bracket\")\n",
    "\n",
    "    for i in range(MAX):\n",
    "        # split bracket in half\n",
    "        mid = (upper+lower)/2\n",
    "#         print (i, mid)\n",
    "        ymid = func(mid)\n",
    "        # check if in lower or upper bracket\n",
    "        if ylower * ymid <= 0:\n",
    "            # lower bracket\n",
    "            upper = mid\n",
    "        else: \n",
    "            # its in upper bracket\n",
    "            lower = mid\n",
    "            \n",
    "        if abs(upper-lower) < acc:\n",
    "            break\n",
    "            \n",
    "    return lower,upper, i+1 "
   ]
  },
  {
   "cell_type": "code",
   "execution_count": 8,
   "metadata": {},
   "outputs": [],
   "source": [
    "def secant_method(func, lower, upper, acc, MAX=50):\n",
    "    \"\"\"\n",
    "    Fit secant lines through two points to approximate the root\n",
    "    \n",
    "    func -- function to approximate the root of\n",
    "    lower -- first abcissa point of initial guess \n",
    "    uppper -- second abcissa point of initial guess \n",
    "    acc -- target accuracy\n",
    "    MAX -- maximum number of iterations before function stops\n",
    "    \n",
    "    Returns\n",
    "    x1,x2 -- two points that bracket the root\n",
    "    i+1   -- number of iterations done\n",
    "    \"\"\"\n",
    "    ylower, yupper = func(lower), func(upper)\n",
    "    \n",
    "    if ylower * yupper >= 0:\n",
    "        raise ValueError(\"Incorrect starting bracket\")\n",
    "    # smallest function value is 'most recent' guess = x2\n",
    "    if abs(ylower) <= abs(yupper):\n",
    "        x2 = lower\n",
    "        x1 = upper\n",
    "    else:\n",
    "        x2 = upper\n",
    "        x1 = lower\n",
    "        \n",
    "    for i in range(MAX):        \n",
    "        # new value\n",
    "        x3 = x1 - ( func(x1)*(x1-x2)  / (func(x1) - func(x2)) )\n",
    "        # update values\n",
    "        x1 = x2\n",
    "        x2 = x3\n",
    "        if abs(x1 - x2) < acc:\n",
    "            break\n",
    "        \n",
    "    return x1, x2, i+1"
   ]
  },
  {
   "cell_type": "code",
   "execution_count": 9,
   "metadata": {},
   "outputs": [],
   "source": [
    "def false_position(func, lower, upper, acc, MAX=100):\n",
    "    \"\"\"\n",
    "    Same as secant, but recent points are the ones that\n",
    "    bracket the root\n",
    "    \"\"\"\n",
    "    ylower, yupper = func(lower), func(upper)\n",
    "    \n",
    "    if ylower * yupper >= 0:\n",
    "        raise ValueError(\"Incorrect starting bracket\")\n",
    "    # smallest function value is 'most recent' guess = x2\n",
    "    if abs(ylower) <= abs(yupper):\n",
    "        x2 = lower\n",
    "        x1 = upper\n",
    "    else:\n",
    "        x2 = upper\n",
    "        x1 = lower\n",
    "    \n",
    "    for i in range(MAX):        \n",
    "        # new value\n",
    "        x3 = x1 - ( func(x1)*(x1-x2)  / (func(x1) - func(x2)) )\n",
    "        # update values, most recent guess is two values that bracket\n",
    "        if func(x3)*func(x2) <= 0: \n",
    "            # if new point has different sign, then update last point\n",
    "            x1 = x2\n",
    "        else:\n",
    "            x1 = x1\n",
    "        x2 = x3\n",
    "        \n",
    "        if abs(x1 - x2) < acc:\n",
    "            break\n",
    "        \n",
    "    return x1, x2, i+1"
   ]
  },
  {
   "cell_type": "code",
   "execution_count": 10,
   "metadata": {},
   "outputs": [],
   "source": [
    "def brents_method(func, lower, upper, acc, MAX=100):\n",
    "    ylower, yupper = func(lower), func(upper)\n",
    "    \n",
    "    if ylower * yupper >= 0:\n",
    "        raise ValueError(\"Incorrect starting bracket\")\n",
    "    # smallest function value is 'most recent' guess = x2\n",
    "    if abs(ylower) <= abs(yupper):\n",
    "        x2 = lower\n",
    "        x1 = upper\n",
    "    else:\n",
    "        x2 = upper\n",
    "        x1 = lower \n",
    "    x3 = x1\n",
    "    for i in range(MAX):\n",
    "        print (\"TODO\")\n",
    "        \n",
    "    \n",
    "    "
   ]
  },
  {
   "cell_type": "code",
   "execution_count": 11,
   "metadata": {},
   "outputs": [
    {
     "name": "stdout",
     "output_type": "stream",
     "text": [
      "===========\n",
      "Bisection method, x between 2.999998092651367,3.0000038146972656\n",
      "Mean: 3.0000009536743164\n",
      "Accuracy: 1e-05, Number of iterations needed: 18\n",
      "===========\n",
      "===========\n",
      "Secant method, x between 3.000003738249954,2.9999999978820466\n",
      "Mean: 3.0000018680660006\n",
      "Accuracy: 1e-05, Number of iterations needed: 12\n",
      "===========\n",
      "===========\n",
      "False position, x between 2.999999999999999,3.0\n",
      "Mean: 2.9999999999999996\n",
      "Accuracy: 1e-05, Number of iterations needed: 85\n",
      "===========\n"
     ]
    }
   ],
   "source": [
    "acc = 1e-5\n",
    "func2 = func2a\n",
    "\n",
    "xlower, xupper, itneeded = bisection_method(func2, 2.5,4.0,acc)\n",
    "print ('===========')\n",
    "print (f'Bisection method, x between {xlower},{xupper}')\n",
    "print (f'Mean: {(xlower+xupper)/2}')\n",
    "print (f'Accuracy: {acc}, Number of iterations needed: {itneeded}')\n",
    "print ('===========')\n",
    "\n",
    "xlower, xupper, itneeded = secant_method(func2, 2.5,4.0,acc)\n",
    "print ('===========')\n",
    "print (f'Secant method, x between {xlower},{xupper}')\n",
    "print (f'Mean: {(xlower+xupper)/2}')\n",
    "print (f'Accuracy: {acc}, Number of iterations needed: {itneeded}')\n",
    "print ('===========')\n",
    "\n",
    "xlower, xupper, itneeded = false_position(func2, 2.5,4.0,acc)\n",
    "print ('===========')\n",
    "print (f'False position, x between {xlower},{xupper}')\n",
    "print (f'Mean: {(xlower+xupper)/2}')\n",
    "print (f'Accuracy: {acc}, Number of iterations needed: {itneeded}')\n",
    "print ('===========')\n",
    "\n"
   ]
  },
  {
   "cell_type": "code",
   "execution_count": null,
   "metadata": {},
   "outputs": [],
   "source": []
  },
  {
   "cell_type": "code",
   "execution_count": null,
   "metadata": {},
   "outputs": [],
   "source": []
  },
  {
   "cell_type": "code",
   "execution_count": null,
   "metadata": {},
   "outputs": [],
   "source": []
  },
  {
   "cell_type": "markdown",
   "metadata": {},
   "source": [
    "## Sorting"
   ]
  },
  {
   "cell_type": "code",
   "execution_count": 33,
   "metadata": {},
   "outputs": [],
   "source": [
    "def selection_sort(arr):\n",
    "    \"\"\"Sort array IN PLACE\"\"\"\n",
    "    N = len(arr)\n",
    "    # for every position in the array     \n",
    "    for i in range(0,N-1):\n",
    "        # Find next smallest element     \n",
    "        imin = i\n",
    "        for j in range(i+1, N):\n",
    "            if arr[j] < arr[imin]:\n",
    "                imin = j\n",
    "        # put it in the correct position by swapping with current i\n",
    "        if imin != i:\n",
    "            arr[imin], arr[i] = arr[i], arr[imin]\n",
    "    return arr\n",
    "\n",
    "\n",
    "def selection_argsort(arr):\n",
    "    \"\"\"Return indices that would sort array\"\"\"\n",
    "    N = len(arr)\n",
    "    indices = list(range(0,N))\n",
    "    # for every position in the array     \n",
    "    for i in range(0,N-1):\n",
    "        # Find next smallest element     \n",
    "        imin = i\n",
    "        for j in range(i+1, N):\n",
    "            if arr[indices[j]] < arr[indices[imin]]:\n",
    "                imin = j\n",
    "        # put it in the correct position by swapping with current i\n",
    "        if imin != i:\n",
    "            indices[imin], indices[i] = indices[i], indices[imin]\n",
    "    return indices"
   ]
  },
  {
   "cell_type": "code",
   "execution_count": 27,
   "metadata": {},
   "outputs": [
    {
     "name": "stdout",
     "output_type": "stream",
     "text": [
      "Timing of selection sort on array of length  20\n",
      "51.6 µs ± 2.38 µs per loop (mean ± std. dev. of 7 runs, 10000 loops each)\n",
      "\n",
      "Example of sorted array with selection sort:\n",
      "[0.05692296 0.09955454 0.11897461 0.12461995 0.15093178 0.17705805\n",
      " 0.18922107 0.24866403 0.38428533 0.44335417 0.44389025 0.49661928\n",
      " 0.53308713 0.62223449 0.67331587 0.72730023 0.73893475 0.95337409\n",
      " 0.95393312 0.95827677]\n"
     ]
    }
   ],
   "source": [
    "N = 20\n",
    "print (\"Timing of selection sort on array of length \",N)\n",
    "%timeit (selection_sort(np.random.rand(N)))\n",
    "print (\"\\nExample of sorted array with selection sort:\")\n",
    "print (selection_sort(np.random.rand(N)))"
   ]
  },
  {
   "cell_type": "code",
   "execution_count": null,
   "metadata": {},
   "outputs": [],
   "source": []
  },
  {
   "cell_type": "code",
   "execution_count": null,
   "metadata": {},
   "outputs": [],
   "source": []
  },
  {
   "cell_type": "markdown",
   "metadata": {},
   "source": [
    "# Slice sampling of a Log-normal Distribution"
   ]
  },
  {
   "cell_type": "code",
   "execution_count": 38,
   "metadata": {},
   "outputs": [],
   "source": [
    "def pdfNorm(x, mu, sigma):\n",
    "    # Returns a Gaussian\n",
    "    return 1/(sigma*np.sqrt(2*np.pi)) * np.exp(-0.5*((x-mu)/sigma)**2) \n",
    "\n",
    "def inverse_pdfNorm(y, mu=0, sigma=1):\n",
    "    if mu != 0 or sigma != 1:\n",
    "        raise ValueError(\"not implemented for \",mu,sigma)\n",
    "    # Returns inverted Gaussian\n",
    "    return np.sqrt( -2*np.log(np.sqrt(2*np.pi)*y) )"
   ]
  },
  {
   "cell_type": "code",
   "execution_count": 93,
   "metadata": {},
   "outputs": [],
   "source": [
    "def sample_x_from_Gaussian(x):\n",
    "    \"\"\"\n",
    "    Given initial x, generate an x that goes in the sample\n",
    "    \"\"\"\n",
    "    # Step 2 on the slides\n",
    "    y = np.random.rand(1)[0]*st_normal(x)\n",
    "    \n",
    "    # x is plus or minus this value\n",
    "    x1 = inverse_pdfNorm(y)\n",
    "    \n",
    "    # draw a uniform x on this line segment\n",
    "    x_draw = np.random.rand(1)[0]*2*x1 - x1\n",
    "    \n",
    "    \n",
    "    return x_draw\n",
    "\n"
   ]
  },
  {
   "cell_type": "code",
   "execution_count": 107,
   "metadata": {},
   "outputs": [],
   "source": [
    "# the standard normal dist\n",
    "st_normal = lambda x: pdfNorm(x, 0, 1)\n",
    "\n",
    "# random numbers between k and l\n",
    "k, l = -5, 5\n",
    "random_numbers = np.random.rand(500)*(l-k)+k\n",
    "\n",
    "# First x \n",
    "x = random_numbers[0]\n",
    "\n",
    "all_x = []\n",
    "for i in range(5000):\n",
    "    x = sample_x_from_Gaussian(x)\n",
    "    all_x.append(x)\n"
   ]
  },
  {
   "cell_type": "code",
   "execution_count": 108,
   "metadata": {},
   "outputs": [
    {
     "name": "stdout",
     "output_type": "stream",
     "text": [
      "0.009834357793888552 0.9901624089671585\n"
     ]
    },
    {
     "data": {
      "image/png": "[encoded data removed]",
      "text/plain": [
       "<Figure size 432x288 with 1 Axes>"
      ]
     },
     "metadata": {
      "needs_background": "light"
     },
     "output_type": "display_data"
    }
   ],
   "source": [
    "all_x = (np.asarray(all_x).flatten())\n",
    "print (np.mean(all_x), np.std(all_x))\n",
    "plt.hist(all_x,alpha=0.5,label='self')\n",
    "plt.hist(np.random.randn(5000),alpha=0.5,label='np')\n",
    "plt.legend()\n",
    "plt.show()\n",
    "\n"
   ]
  },
  {
   "cell_type": "code",
   "execution_count": 127,
   "metadata": {},
   "outputs": [],
   "source": [
    "# General slice sampling, with some assumptions\n",
    "def slice_sampling(x, RNG, pdf, invpdf, num_points=500):\n",
    "    \"\"\"\n",
    "    Given initial x, sample num_points from the PDF\n",
    "    ASSUMES SYMMETRIC PDF with only 2 points crossing a line\n",
    "    \n",
    "    x -- initial value with pdf(x)>0\n",
    "    RNG -- random number generator that generates number \\in [0,1]\n",
    "    pdf -- pdf of the function to sample from: y(x)\n",
    "    invpdf -- inverse pdf x(y)\n",
    "    num_points -- amount of points to sample\n",
    "    \"\"\"\n",
    "    def step2(x):\n",
    "        # Step 2 on the slide `Slice sampling'\n",
    "        y = RNG()*pdf(x)\n",
    "    \n",
    "        # x is plus or minus this value\n",
    "        x1 = invpdf(y)\n",
    "    \n",
    "        # draw a uniform x on this line segment\n",
    "        x_draw = RNG()*2*x1 - x1\n",
    "        \n",
    "        return x_draw\n",
    "    \n",
    "    all_x = []\n",
    "    for _ in range(num_points):\n",
    "        x = step2(x)\n",
    "        all_x.append(x)\n",
    "    \n",
    "    return all_x\n",
    "    "
   ]
  },
  {
   "cell_type": "code",
   "execution_count": 131,
   "metadata": {},
   "outputs": [
    {
     "name": "stdout",
     "output_type": "stream",
     "text": [
      "0.007811582851938274 1.005457315242716\n"
     ]
    },
    {
     "data": {
      "image/png": "[encoded data removed]",
      "text/plain": [
       "<Figure size 432x288 with 1 Axes>"
      ]
     },
     "metadata": {
      "needs_background": "light"
     },
     "output_type": "display_data"
    }
   ],
   "source": [
    "RNG = lambda: np.random.rand(1)[0]\n",
    "x0 = 0.563\n",
    "all_x = slice_sampling(x0, RNG, st_normal, inverse_pdfNorm, 5000)\n",
    "all_x_np = np.random.randn(5000)\n",
    "print (np.mean(all_x), np.std(all_x))\n",
    "plt.hist(all_x,alpha=0.5,label='self')\n",
    "plt.hist(all_x_np,alpha=0.5,label='np')\n",
    "plt.legend()\n",
    "plt.show()"
   ]
  },
  {
   "cell_type": "code",
   "execution_count": 148,
   "metadata": {},
   "outputs": [],
   "source": [
    "# Rejection sampling\n",
    "def rejection_sampling(RNG, pdf, x_begin, x_end, num_points=500):\n",
    "    \"\"\"\n",
    "    Sample num_points from the PDF by rejection sampling\n",
    "    \n",
    "    RNG -- random number generator that generates number \\in [0,1]\n",
    "    pdf -- pdf of the function to sample from: y(x)\n",
    "    num_points -- amount of points to sample\n",
    "    x_begin, x_end -- begin and endpoint of uniform dist sample\n",
    "    \"\"\"\n",
    "\n",
    "        \n",
    "    all_x = []\n",
    "    factor = x_end-x_begin\n",
    "    while len(all_x) < num_points:\n",
    "        x = RNG()*(factor)+x_begin # x between -10 and 10\n",
    "        y = RNG()\n",
    "        if y <= pdf(x):\n",
    "            all_x.append(x)\n",
    "    \n",
    "    return all_x"
   ]
  },
  {
   "cell_type": "code",
   "execution_count": 150,
   "metadata": {},
   "outputs": [
    {
     "name": "stdout",
     "output_type": "stream",
     "text": [
      "0.006758340734196753 0.9957559424379144\n"
     ]
    },
    {
     "data": {
      "image/png": "[encoded data removed]",
      "text/plain": [
       "<Figure size 432x288 with 1 Axes>"
      ]
     },
     "metadata": {
      "needs_background": "light"
     },
     "output_type": "display_data"
    }
   ],
   "source": [
    "RNG = lambda: np.random.rand(1)[0]\n",
    "\n",
    "# Larger and larger x_begin and x_end will give better results\n",
    "# But the function will be slower and slower\n",
    "x_begin, x_end = -10, 10\n",
    "all_x = rejection_sampling(x, RNG, st_normal, x_begin, x_end\n",
    "                                 , 5000)\n",
    "print (np.mean(all_x), np.std(all_x))\n",
    "plt.hist(all_x,alpha=0.5,label='self')\n",
    "plt.hist(all_x_np,alpha=0.5,label='np')\n",
    "plt.legend()\n",
    "plt.show()"
   ]
  },
  {
   "cell_type": "code",
   "execution_count": null,
   "metadata": {},
   "outputs": [],
   "source": []
  },
  {
   "cell_type": "code",
   "execution_count": null,
   "metadata": {},
   "outputs": [],
   "source": []
  }
 ],
 "metadata": {
  "kernelspec": {
   "display_name": "Python 3",
   "language": "python",
   "name": "python3"
  },
  "language_info": {
   "codemirror_mode": {
    "name": "ipython",
    "version": 3
   },
   "file_extension": ".py",
   "mimetype": "text/x-python",
   "name": "python",
   "nbconvert_exporter": "python",
   "pygments_lexer": "ipython3",
   "version": "3.6.5"
  }
 },
 "nbformat": 4,
 "nbformat_minor": 2
}
