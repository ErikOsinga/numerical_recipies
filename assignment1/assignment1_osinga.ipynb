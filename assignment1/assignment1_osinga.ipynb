{
 "cells": [
  {
   "cell_type": "code",
   "execution_count": 1,
   "metadata": {},
   "outputs": [
    {
     "name": "stdout",
     "output_type": "stream",
     "text": [
      "User seed is set to 1923\n"
     ]
    }
   ],
   "source": [
    "import numpy as np\n",
    "import matplotlib.pyplot as plt\n",
    "seed = 1923\n",
    "print (f\"User seed is set to {seed}\")"
   ]
  },
  {
   "cell_type": "code",
   "execution_count": 2,
   "metadata": {},
   "outputs": [
    {
     "name": "stdout",
     "output_type": "stream",
     "text": [
      "Make sure to check later which \n",
      "    functions you can use and which you have to write yourself\n",
      "\n",
      "\n",
      "Question: can we use np arrays for division etc?\n"
     ]
    }
   ],
   "source": [
    "print (\"\"\"Make sure to check later which \n",
    "    functions you can use and which you have to write yourself\"\"\")\n",
    "print (\"\\n\")\n",
    "\n",
    "print (\"Question: can we use np arrays for division etc?\")"
   ]
  },
  {
   "cell_type": "markdown",
   "metadata": {},
   "source": [
    "# Question 1 Preparing some useful routines"
   ]
  },
  {
   "cell_type": "code",
   "execution_count": 3,
   "metadata": {},
   "outputs": [],
   "source": [
    "def fac(k):\n",
    "    \"\"\"\n",
    "    Returns factorial of k. Note: 0! is defined as 1\n",
    "    k can be a list, numpy array or a single number\n",
    "        \n",
    "    Returns a list or number that is the (elementwise) factorial of k\n",
    "    \"\"\"\n",
    "    \n",
    "    def factorial(k):\n",
    "        \"\"\"factorial of a single number\"\"\"\n",
    "        if k == 0:\n",
    "            return 1\n",
    "        ans = k\n",
    "        for x in range(1,int(k)):\n",
    "            ans *= x\n",
    "        return ans\n",
    "    \n",
    "    if type(k) == np.ndarray or type(k) == list:\n",
    "        # iterate over the array-like object\n",
    "        ans = []\n",
    "        for i in range(0,len(k)):\n",
    "            ans.append(factorial(k[i]))\n",
    "        return ans\n",
    "    \n",
    "    else:\n",
    "        return factorial(k)\n",
    "    \n",
    "    return ans"
   ]
  },
  {
   "cell_type": "code",
   "execution_count": 4,
   "metadata": {},
   "outputs": [],
   "source": [
    "def poisson_probability(k,lambd):\n",
    "    \"\"\"\n",
    "    Returns the Poisson probability, i.e., the probability of 'k' \n",
    "    occurences if 'lambd' is the occurence rate, per interval. \n",
    "    \n",
    "    k can be a list or np.array\n",
    "    \"\"\"\n",
    "    return (lambd**k * np.exp(-1*lambd))/(fac(k))"
   ]
  },
  {
   "cell_type": "markdown",
   "metadata": {},
   "source": [
    "## Output $P_{\\lambda}(k)$ to at least 6 significant digits for following values"
   ]
  },
  {
   "cell_type": "code",
   "execution_count": 5,
   "metadata": {},
   "outputs": [
    {
     "name": "stdout",
     "output_type": "stream",
     "text": [
      "P_1(0) = 3.67879e-01\n",
      "P_5(10) = 1.81328e-02\n",
      "P_3(20) = 7.13538e-11\n",
      "P_2.6(40) = 3.61512e-33\n"
     ]
    }
   ],
   "source": [
    "# Output P_{\\lambda}(k) to at least 6 significant digits for these values\n",
    "lambdas = [1,5,3,2.6]\n",
    "ks = [0,10,20,40]\n",
    "\n",
    "for k, lambd in zip(ks, lambdas):\n",
    "    print(f'P_{lambd}({k}) = {poisson_probability(k,lambd):.5e}')\n"
   ]
  },
  {
   "cell_type": "markdown",
   "metadata": {},
   "source": [
    "### Write a random number generator that returns a random floating-point number between 0 and 1. At minimum, use some combination of an (M)LCG and a 64-bit XOR-shift"
   ]
  },
  {
   "cell_type": "code",
   "execution_count": 6,
   "metadata": {},
   "outputs": [],
   "source": [
    "class RandomGenerator(object):\n",
    "    \"\"\"\n",
    "    Random generator should be an object because it maintains\n",
    "    internal state between calls.\n",
    "    \"\"\"\n",
    "    def __init__(self, seed):\n",
    "        # make sure the everyhing is an unsigned 64 bit integer\n",
    "        dtyp = np.uint64\n",
    "        # the seed for the LGC\n",
    "        self.X1 = dtyp(seed)\n",
    "        # the seed for the XORshift\n",
    "        self.X2 = dtyp(seed)\n",
    "        \n",
    "        self.max_value = dtyp(2**64 - 1)\n",
    "        \n",
    "        # LCG values from Numerical Recipies\n",
    "        self.a = dtyp(1664525)\n",
    "        self.c = dtyp(1013904223)\n",
    "        self.m = dtyp(2**32)\n",
    "        \n",
    "        # 64 bit XOR shift values from Numerical Recipies\n",
    "        self.a1, self.a2, self.a3 = dtyp(21), dtyp(35), dtyp(4)\n",
    "        \n",
    "    def lincongen(self, X):    \n",
    "        return (self.a*X+self.c) % self.m\n",
    "\n",
    "    def XORshift64(self, X):\n",
    "        if X == 0:\n",
    "            raise ValueError(\"Seed cannot be zero\")\n",
    "        X = X ^ (X >> self.a1)\n",
    "        X = X ^ (X << self.a2)\n",
    "        X = X ^ (X >> self.a3)\n",
    "        \n",
    "        return X\n",
    "    \n",
    "    def get_randomnumber(self):\n",
    "        \"\"\"\n",
    "        Combine LCG and XORshift to produce random float \n",
    "        between 0 and 1\n",
    "        \"\"\"\n",
    "        self.X1 = self.lincongen(self.X1)\n",
    "        self.X2 = self.XORshift64(self.X2)\n",
    "        \n",
    "        # output is XOR of these numbers\n",
    "        \n",
    "        return (self.X1^self.X2)/self.max_value\n",
    "    \n",
    "        \n"
   ]
  },
  {
   "cell_type": "code",
   "execution_count": 7,
   "metadata": {},
   "outputs": [
    {
     "name": "stdout",
     "output_type": "stream",
     "text": [
      "3.805728939112855e-06\n",
      "0.05873143700074865\n"
     ]
    }
   ],
   "source": [
    "RNGESUS = RandomGenerator(seed=seed)\n",
    "print (RNGESUS.get_randomnumber())\n",
    "print (RNGESUS.get_randomnumber())"
   ]
  },
  {
   "cell_type": "code",
   "execution_count": 8,
   "metadata": {},
   "outputs": [
    {
     "data": {
      "image/png": "[encoded data removed]",
      "text/plain": [
       "<Figure size 432x288 with 1 Axes>"
      ]
     },
     "metadata": {
      "needs_background": "light"
     },
     "output_type": "display_data"
    }
   ],
   "source": [
    "all_randnum = []\n",
    "for i in range(1000):\n",
    "    # Could vectorize? \n",
    "    all_randnum.append(RNGESUS.get_randomnumber())\n",
    "    \n",
    "plt.plot(all_randnum,np.roll(all_randnum,1),'o',alpha=0.5)\n",
    "plt.title(f'Comparison for {len(all_randnum)} elements')\n",
    "plt.xlabel('value element n')\n",
    "plt.ylabel('value element n+1')\n",
    "plt.savefig('q1b1.png')\n",
    "plt.show();"
   ]
  },
  {
   "cell_type": "code",
   "execution_count": 9,
   "metadata": {},
   "outputs": [
    {
     "name": "stdout",
     "output_type": "stream",
     "text": [
      "Is np.linspace allowed?\n"
     ]
    },
    {
     "data": {
      "image/png": "[encoded data removed]",
      "text/plain": [
       "<Figure size 432x288 with 1 Axes>"
      ]
     },
     "metadata": {
      "needs_background": "light"
     },
     "output_type": "display_data"
    }
   ],
   "source": [
    "all_randnum = []\n",
    "for i in range(int(1e6)):\n",
    "    all_randnum.append(RNGESUS.get_randomnumber())\n",
    "    \n",
    "print( \"Is np.linspace allowed?\" )\n",
    "plt.hist(all_randnum,bins=np.linspace(0,1,21),edgecolor='black')\n",
    "plt.title(f'Histogram of 1 million random numbers')\n",
    "plt.xlabel('Value')\n",
    "plt.ylabel('Counts')\n",
    "plt.savefig('q1b2.png')\n",
    "plt.show();"
   ]
  },
  {
   "cell_type": "markdown",
   "metadata": {},
   "source": [
    "# Question 2"
   ]
  },
  {
   "cell_type": "code",
   "execution_count": 10,
   "metadata": {},
   "outputs": [
    {
     "name": "stdout",
     "output_type": "stream",
     "text": [
      "a, b, c = (1.8850024988161098, 0.9551760426160483, 3.079176929083844)\n"
     ]
    }
   ],
   "source": [
    "# Randomly generate a,b,c within asked bounds\n",
    "a = RNGESUS.get_randomnumber()*(2.5-1.1) + 1.1\n",
    "b = RNGESUS.get_randomnumber()*(2.0-0.5) + 0.5\n",
    "c = RNGESUS.get_randomnumber()*(4-1.5) + 1.5\n",
    "\n",
    "print (f'a, b, c = {a,b,c}')"
   ]
  },
  {
   "cell_type": "code",
   "execution_count": 11,
   "metadata": {},
   "outputs": [],
   "source": [
    "def numbdensprofile(x, a, b, c, A=1, Nsat = 100, spherical=False):\n",
    "    \"\"\"\n",
    "    Returns the number density profile from the assignment\n",
    "    \n",
    "    a controls small-scale slope\n",
    "    b contols transition scale\n",
    "    c controls steepness of exponential dropoff\n",
    "    spherical -- True to multiply by x**2 for the spherical integral\n",
    "    \"\"\"\n",
    "    if spherical:\n",
    "        power = 1\n",
    "    else:\n",
    "        power = 3\n",
    "        \n",
    "    return A*Nsat * (x/b)**(a-power) * np.exp( -(x/b)**c )"
   ]
  },
  {
   "cell_type": "code",
   "execution_count": 12,
   "metadata": {},
   "outputs": [],
   "source": [
    "def trapezoid(func,lbound,ubound,N=100):\n",
    "    \"\"\"\n",
    "    Calculate the integral of a function using the trapezoid rule\n",
    "    with equal spaced abscissae\n",
    "    \n",
    "    func -- function which gives the y values\n",
    "    lbound -- lower bound of integral\n",
    "    ubound -- upper bound of integral\n",
    "    N      -- number of abscissae\n",
    "    \n",
    "    \"\"\"\n",
    "    xvalues = np.linspace(lbound,ubound,N)\n",
    "    delta_x = (ubound-lbound)/(N-1)\n",
    "    # first point\n",
    "    integral = func(lbound)/2\n",
    "    # all middle points\n",
    "    for x in xvalues[1:-1]:\n",
    "        integral += func(x)\n",
    "    # endpoint\n",
    "    integral += func(xvalues[-1])/2\n",
    "    integral *= delta_x\n",
    "    \n",
    "    return integral"
   ]
  },
  {
   "cell_type": "code",
   "execution_count": 13,
   "metadata": {},
   "outputs": [],
   "source": [
    "def romberg(func, lbound, ubound, order=6):\n",
    "    \"\"\"\n",
    "    Calculate the integral of a function using Romberg's method\n",
    "    with equal spaced abscissae\n",
    "    \n",
    "    func -- function which gives the y values\n",
    "    lbound -- lower bound of integral\n",
    "    ubound -- upper bound of integral\n",
    "    N      -- number of abscissae\n",
    "    \n",
    "    efficiency:\n",
    "    http://homen.vsb.cz/~lud0016/NM/Lecture_Notes_10-Romberg_Integration.pdf\n",
    "    \n",
    "    Returns \n",
    "     Value of the integral\n",
    "     Error estimate\n",
    "     \n",
    "    The error estimate is given as the difference between last 2 orders\n",
    "    \"\"\"\n",
    "    \n",
    "    # for saving S_i,j's\n",
    "    all_S = np.zeros((order,order))\n",
    "    \n",
    "    i = 0\n",
    "    delta_x = (ubound-lbound)\n",
    "    points = np.linspace(lbound,ubound,2**i+1)\n",
    "    integral = delta_x/2 * np.sum(func(points))\n",
    "    all_S[0,0] = integral\n",
    "    \n",
    "    # Then calculate the first column (S_{i,0})\n",
    "    for i in range(1,order):\n",
    "        delta_x /= 2\n",
    "        # add points in the middle\n",
    "        points = np.linspace(lbound,ubound,2**i+1)\n",
    "        # add new points to the integral (om en om, starting from 1)\n",
    "        integral = 0.5*integral + delta_x * np.sum(func(points[1::2]))\n",
    "        \n",
    "        all_S[i,0] = integral\n",
    "    \n",
    "    for j in range(1,order): # columns\n",
    "        for i in range(j,order): # rows\n",
    "            #print (i,j)\n",
    "            #print (f'{4**j}*S{i},{j-1} - S{i-1},{j-1} / {4**j} - 1' )\n",
    "            all_S[i,j] = (4**j*all_S[i,j-1] - all_S[i-1,j-1]) / (\n",
    "                           4**j - 1)\n",
    "\n",
    "    # compare this for the error function with the slides. \n",
    "    # print (all_S)\n",
    "    \n",
    "    return all_S[order-1,order-1], (all_S[order-1,order-1]-all_S[order-1,order-2])\n",
    "        \n"
   ]
  },
  {
   "cell_type": "code",
   "execution_count": 14,
   "metadata": {},
   "outputs": [
    {
     "data": {
      "image/png": "[encoded data removed]",
      "text/plain": [
       "<Figure size 432x288 with 1 Axes>"
      ]
     },
     "metadata": {
      "needs_background": "light"
     },
     "output_type": "display_data"
    },
    {
     "name": "stdout",
     "output_type": "stream",
     "text": [
      "Trapezoid:\n",
      "50.77330151645811\n",
      "Romberg:\n",
      "50.77466434102478 -1.28168e-10\n"
     ]
    }
   ],
   "source": [
    "#### This cell can be deleted later ###############\n",
    "\n",
    "a = 2.45\n",
    "b = 1.29\n",
    "c = 2.70\n",
    "\n",
    "# WolframAlpha input:\n",
    "# integrate ( 100 * (x/b)**(a-3) * exp(-(x/b)**c)  ) from 0 to 5 where a = 2.4545593364474785, b = 1.2954526977495828, c = 2.700255764586844\n",
    "\n",
    "xs = np.linspace(0.001,5,100)\n",
    "plt.plot(xs, numbdensprofile(xs, a, b, c,spherical=True))\n",
    "plt.title('Number density profile * $x^2$')\n",
    "plt.xlabel('x')\n",
    "plt.ylabel('$x^2 n(x)$')\n",
    "plt.show();\n",
    "\n",
    "# integral is only a function of R so add the prefactor manually\n",
    "prefactor = 4*np.pi # integral over theta and phi\n",
    "print (\"Trapezoid:\")\n",
    "print (trapezoid(lambda x:  numbdensprofile(x, a, b, c, spherical=True)\n",
    "                 , 0, 5,N=100))\n",
    "\n",
    "print (\"Romberg:\")\n",
    "integ, error = romberg(lambda x: numbdensprofile(x, a, b, c, spherical=True)\n",
    "               , 0, 5,order=10)\n",
    "print (integ, f'{error:.5e}')\n"
   ]
  },
  {
   "cell_type": "code",
   "execution_count": 15,
   "metadata": {},
   "outputs": [
    {
     "name": "stdout",
     "output_type": "stream",
     "text": [
      "For the following \n",
      "a, b, c = (1.1132884107646899, 1.250296832286201, 1.7885721190002482)\n",
      "We find A = 0.0791603366768279\n",
      "Integral after changing A: 99.99999999999994\n"
     ]
    }
   ],
   "source": [
    "# Randomly generate a,b,c within asked bounds\n",
    "a = RNGESUS.get_randomnumber()*(2.5-1.1) + 1.1\n",
    "b = RNGESUS.get_randomnumber()*(2.0-0.5) + 0.5\n",
    "c = RNGESUS.get_randomnumber()*(4-1.5) + 1.5\n",
    "\n",
    "# integral is only a function of R so add the prefactor manually\n",
    "prefactor = 4*np.pi # integral over theta and phi\n",
    "Nsat = 100\n",
    "print (\"For the following \")\n",
    "print (f'a, b, c = {a,b,c}')\n",
    "# print (\"Romberg integration gives:\")\n",
    "integ, error = romberg(lambda x: numbdensprofile(x, a, b, c, Nsat=Nsat\n",
    "                        , spherical=True) , 0, 5,order=10)\n",
    "integ *= prefactor\n",
    "# Normalize such that the integral produces <Nsat>\n",
    "A = Nsat/integ\n",
    "print (f\"We find A = {A}\")\n",
    "\n",
    "integ, error = romberg(lambda x: numbdensprofile(x, a, b, c, A, Nsat=Nsat\n",
    "                        , spherical=True) , 0, 5,order=10)\n",
    "print (\"Integral after changing A:\", integ*prefactor)"
   ]
  },
  {
   "cell_type": "markdown",
   "metadata": {},
   "source": [
    "### b) Make a loglog plot of and plot single points for n(1e-4), n(1e-2), n(1e-1), n(1) and n(5)"
   ]
  },
  {
   "cell_type": "code",
   "execution_count": 16,
   "metadata": {},
   "outputs": [
    {
     "data": {
      "image/png": "[encoded data removed]",
      "text/plain": [
       "<Figure size 432x288 with 1 Axes>"
      ]
     },
     "metadata": {
      "needs_background": "light"
     },
     "output_type": "display_data"
    }
   ],
   "source": [
    "points = np.array([1e-4, 1e-2, 1e-1, 1, 5])\n",
    "function = lambda x: numbdensprofile(x,a,b,c,A=A,Nsat=Nsat,spherical=False)\n",
    "ypoints = function(points)\n",
    "plt.scatter(points,ypoints)\n",
    "plt.xscale('log')\n",
    "plt.yscale('log')\n",
    "plt.xlim(1e-4,5)\n",
    "plt.ylim(min(ypoints),max(ypoints))\n",
    "plt.show();"
   ]
  },
  {
   "cell_type": "code",
   "execution_count": 17,
   "metadata": {},
   "outputs": [],
   "source": [
    "def linear_interpolation(x, f, num_values, begin, end, logx=False):\n",
    "    \"\"\"\n",
    "    Interpolate given 'x' values and function 'f' at \n",
    "    'num_values' linearly separated between 'begin' and 'end'\n",
    "    if logx = True, use equal width x values in logspace\n",
    "    \n",
    "    The function always takes all x in linear space.\n",
    "    Whether y is logspace is determined by the function 'f' \n",
    "    \n",
    "    \"\"\"\n",
    "    # y values of the points that are given\n",
    "    y = f(x)\n",
    "    # interpolated y values\n",
    "    y_values = []\n",
    "    # interpolated x values\n",
    "    if logx:\n",
    "        # equal width in log space\n",
    "        x_values = np.logspace(np.log10(begin),np.log10(end),num_values)\n",
    "        # fit in log(x) space\n",
    "        x_values = np.log(x_values)\n",
    "        x = np.log(x)\n",
    "    else:\n",
    "        # fit in linear space\n",
    "        x_values = np.linspace(begin,end,num_values)\n",
    "    \n",
    "    # Interpolation\n",
    "    for i in range(len(x)-1):\n",
    "        # calculate slope between two points\n",
    "        a = ( y[i+1] - y[i] ) / (x[i+1] - x[i])\n",
    "        # take only x values between two points\n",
    "        x_values_now = x_values[(x_values >= x[i]) & (x_values < x[i+1])]\n",
    "        # calculate y values as linear interpolation\n",
    "        y_values += list(y[i] + (x_values_now - x[i])*a)\n",
    "        \n",
    "    # Extrapolation, is simply extrapolating final bin\n",
    "    x_values_now = x_values[(x_values >= x[i+1])]\n",
    "    y_values += list(y[i] + (x_values_now - x[i])*a)\n",
    "    \n",
    "    return x_values, np.asarray(y_values)"
   ]
  },
  {
   "cell_type": "code",
   "execution_count": 18,
   "metadata": {},
   "outputs": [
    {
     "data": {
      "image/png": "[encoded data removed]",
      "text/plain": [
       "<Figure size 432x288 with 1 Axes>"
      ]
     },
     "metadata": {
      "needs_background": "light"
     },
     "output_type": "display_data"
    }
   ],
   "source": [
    "# Fit a linear model to the function in log-log space\n",
    "function = lambda x: numbdensprofile(x,a,b,c,A=A,Nsat=Nsat\n",
    "                                     ,spherical=False)\n",
    "points = np.array([1e-4, 1e-2, 1e-1, 1, 5])\n",
    "logfunc = lambda x: np.log(function(x))\n",
    "\n",
    "x_interp, y_interp = linear_interpolation(points,logfunc\n",
    "                            , 100, 1e-4, 5, logx=True)\n",
    "# Transform back to linear space\n",
    "x_interp = np.exp(x_interp)\n",
    "y_interp = np.exp(y_interp)\n",
    "\n",
    "ypoints = function(points)\n",
    "\n",
    "plt.plot(x_interp,y_interp,\n",
    "            label='Linear interp',c='g')\n",
    "plt.plot(x_interp, function(x_interp),label='True function', ls='dashed')\n",
    "plt.scatter(points,ypoints, c='k',label='Datapoints')\n",
    "plt.legend()\n",
    "plt.title('Linear interpolation in log-log space')\n",
    "plt.xscale('log')\n",
    "plt.yscale('log')\n",
    "plt.savefig('./linear_interpolation.png')\n",
    "plt.show();"
   ]
  },
  {
   "cell_type": "code",
   "execution_count": 19,
   "metadata": {},
   "outputs": [],
   "source": [
    "def recurrence_relation(i, j, x, all_x, f,logx=False):\n",
    "    \"\"\"\n",
    "    Neville's algorithm recurrence relation\n",
    "    i,j -- int   -- index of the datapoints \n",
    "    x   -- float -- x value to evaluate\n",
    "    all_x -- array -- data points x\n",
    "    f   -- function -- function that calculates y(x)\n",
    "    \"\"\"\n",
    "    if i == j:\n",
    "        # return y_i\n",
    "        if logx:\n",
    "            return f(np.exp(all_x[i]))\n",
    "        else:\n",
    "            return f(all_x[i])\n",
    "    else:\n",
    "        # return the recursive relation\n",
    "        return ( ((x - all_x[j])*recurrence_relation(i, j-1, x, all_x, f, logx) \n",
    "         - (x-all_x[i])*recurrence_relation(i+1, j, x, all_x, f,logx)) /\n",
    "        (all_x[i] - all_x[j]) ) "
   ]
  },
  {
   "cell_type": "code",
   "execution_count": 20,
   "metadata": {},
   "outputs": [
    {
     "data": {
      "image/png": "[encoded data removed]",
      "text/plain": [
       "<Figure size 432x288 with 1 Axes>"
      ]
     },
     "metadata": {
      "needs_background": "light"
     },
     "output_type": "display_data"
    }
   ],
   "source": [
    "# Polynomial model to the function in log-log space\n",
    "\n",
    "function = lambda x: numbdensprofile(x,a,b,c,A=A,Nsat=Nsat\n",
    "                                     ,spherical=False)\n",
    "points = np.array([1e-4, 1e-2, 1e-1, 1, 5])\n",
    "logfunc = lambda x: np.log(function(x))\n",
    "\n",
    "# Nevilles method for 100 datapoints \n",
    "# x values to interpolate in log space\n",
    "x_interp_pol = np.log(np.logspace(np.log10(1e-4), np.log10(5), 100))\n",
    "# y values calculated according to Neville's\n",
    "y_interp_pol = [recurrence_relation(0,len(points)-1, x_interp_pol[i], \n",
    "            np.log(points), logfunc, logx=True) \n",
    "            for i in range(len(x_interp_pol)) ]\n",
    "\n",
    "# Transform back to normal space\n",
    "x_interp = np.exp(x_interp_pol)\n",
    "y_interp = np.exp(y_interp_pol)\n",
    "\n",
    "# Datapoints\n",
    "ypoints = function(points)\n",
    "\n",
    "plt.plot(x_interp,y_interp, label='Polynomial interp',c='g')\n",
    "plt.plot(x_interp, function(x_interp)\n",
    "         ,label='True function', ls='dashed')\n",
    "plt.scatter(points,ypoints, c='k',label='Datapoints')\n",
    "plt.legend()\n",
    "plt.title('Polynomial interpolation in log-log space')\n",
    "plt.xscale('log')\n",
    "plt.yscale('log')\n",
    "plt.xlim(1e-4,5)\n",
    "plt.savefig('./poly_interpolation.png')\n",
    "plt.show();"
   ]
  },
  {
   "cell_type": "code",
   "execution_count": 21,
   "metadata": {},
   "outputs": [
    {
     "name": "stdout",
     "output_type": "stream",
     "text": [
      "REMOVE TRUE FUNCTION LATER\n"
     ]
    },
    {
     "data": {
      "image/png": "[encoded data removed]",
      "text/plain": [
       "<Figure size 432x288 with 1 Axes>"
      ]
     },
     "metadata": {
      "needs_background": "light"
     },
     "output_type": "display_data"
    }
   ],
   "source": [
    "# Now combine the methods for the final result\n",
    "\"\"\"\n",
    "# Log-log space is the preferred space because if we take the logarithm\n",
    "of both sides, the expression becomes \n",
    "log(n) \\propto log(x)-x\n",
    "\n",
    "So in log log space, for x<1 we have a linear function \n",
    "log(n) \\approx log(x)\n",
    "\n",
    "And for x>1 we have an exponential function, so we fit this\n",
    "with Neville's algorithm\n",
    "\"\"\"\n",
    "# Linearly interpolate between first 3 datapoints\n",
    "# Nevilles method between last 3\n",
    "\n",
    "\n",
    "function = lambda x: numbdensprofile(x,a,b,c,A=A,Nsat=Nsat\n",
    "                                     ,spherical=False)\n",
    "logfunc = lambda x: np.log(function(x))\n",
    "points = np.array([1e-4, 1e-2, 1e-1, 1, 5])\n",
    "ypoints = function(points)\n",
    "\n",
    "# Linear interpolation, 100 datapoints between first 3 datapoints\n",
    "x_interp_lin, y_interp_lin = linear_interpolation(points[:3],logfunc\n",
    "                            , 100, 1e-4, 1e-1, logx=True)\n",
    "\n",
    "# Nevilles method for 100 datapoints between last 3 datapoints\n",
    "x_interp_pol = np.log(np.logspace(np.log10(1e-1), np.log10(5), 100))\n",
    "y_interp_pol = [recurrence_relation(0,len(points)-3, x_interp_pol[i], \n",
    "            np.log(points[2:]), logfunc, logx=True) \n",
    "            for i in range(len(x_interp_pol)) ]\n",
    "\n",
    "# Combine them and transform to lin space\n",
    "x_interp = np.exp(np.append(x_interp_lin,x_interp_pol))\n",
    "y_interp = np.exp(np.append(y_interp_lin,y_interp_pol))\n",
    "\n",
    "print (\"REMOVE TRUE FUNCTION LATER\")\n",
    "plt.plot(x_interp,y_interp,\n",
    "            label='Interpolation',c='g')\n",
    "plt.plot(x_interp, function(x_interp),label='True function', ls='dashed')\n",
    "plt.scatter(points,ypoints, c='k',label='Datapoints')\n",
    "plt.legend()\n",
    "plt.title('Combined interpolation in log-log space')\n",
    "plt.xscale('log')\n",
    "plt.yscale('log')\n",
    "plt.savefig('./combined_interpolation.png')\n",
    "plt.show();"
   ]
  },
  {
   "cell_type": "code",
   "execution_count": 22,
   "metadata": {},
   "outputs": [
    {
     "data": {
      "image/png": "[encoded data removed]",
      "text/plain": [
       "<Figure size 432x288 with 1 Axes>"
      ]
     },
     "metadata": {
      "needs_background": "light"
     },
     "output_type": "display_data"
    }
   ],
   "source": [
    "# Linear fit in log-log space followed by linear in log-lin space\n",
    "# This only works if c is near 1, which is not neccessarily the case\n",
    "\n",
    "function = lambda x: numbdensprofile(x,a,b,c,A=A,Nsat=Nsat\n",
    "                                     ,spherical=False)\n",
    "logfunc = lambda x: np.log(function(x))\n",
    "points = np.array([1e-4, 1e-2, 1e-1, 1, 5])\n",
    "ypoints = function(points)\n",
    "\n",
    "# Linear interpolation, 100 datapoints between first 4 datapoints\n",
    "x_interp_lin, y_interp_lin = linear_interpolation(points[:4],logfunc\n",
    "                            , 100, 1e-4, 1, logx=True)\n",
    "\n",
    "# Linear method between last 2 datapoints in log-lin space\n",
    "x_interp_lin2, y_interp_lin2 = linear_interpolation(points[3:],logfunc\n",
    "                            , 100, 1, 5, logx=False)\n",
    "\n",
    "# Combine them, transform x to linear space\n",
    "x_interp = np.append(np.exp(x_interp_lin),x_interp_lin2)\n",
    "y_interp = np.append((y_interp_lin),y_interp_lin2)\n",
    "\n",
    "\n",
    "plt.plot(x_interp,np.exp(y_interp),\n",
    "            label='Interpolation',c='g')\n",
    "plt.plot(x_interp, function(x_interp),label='True function', ls='dashed')\n",
    "plt.scatter(points,ypoints, c='k',label='Datapoints')\n",
    "plt.legend()\n",
    "plt.title('Linear interpolation in different spaces')\n",
    "plt.xscale('log')\n",
    "plt.yscale('log')\n",
    "plt.savefig('./double_linear_interpolation.png')\n",
    "plt.show();"
   ]
  },
  {
   "cell_type": "code",
   "execution_count": 23,
   "metadata": {},
   "outputs": [
    {
     "name": "stdout",
     "output_type": "stream",
     "text": [
      "0.0791603366768279 100 1.1132884107646899 1.250296832286201 1.7885721190002482\n"
     ]
    }
   ],
   "source": [
    "# Cubic spline tbd\n",
    "print (A,Nsat,a,b,c)"
   ]
  },
  {
   "cell_type": "markdown",
   "metadata": {},
   "source": [
    "### c) Numerically calculate dn(x)/dx at x=b"
   ]
  },
  {
   "cell_type": "code",
   "execution_count": 24,
   "metadata": {},
   "outputs": [],
   "source": [
    "def anal_deriv(x,a,b,c,A,Nsat):\n",
    "    \"\"\"Analytical derivative of density profile\"\"\"\n",
    "    return ( (a-3-c*(x/b)**c) * (x**(a-4))* np.exp( -(x/b)**c ) \n",
    "        *A*Nsat/(b**(a-3)) )"
   ]
  },
  {
   "cell_type": "code",
   "execution_count": 25,
   "metadata": {},
   "outputs": [],
   "source": [
    "def central_difference(func, x, h):\n",
    "    \"\"\"\n",
    "    calculate numerical derivative with central difference method\n",
    "    \n",
    "    \"\"\"\n",
    "    return (func(x+h) - func(x-h)) / (2*h)"
   ]
  },
  {
   "cell_type": "code",
   "execution_count": 26,
   "metadata": {},
   "outputs": [],
   "source": [
    "def ridders_method(func, x, d, m, target_error):\n",
    "    \"\"\"\n",
    "    func -- function to calculate numerical derivative for\n",
    "    x -- position at which it is calculated\n",
    "    d -- factor with which h of the central difference is reduced\n",
    "    m -- highest order we will go to\n",
    "    target_error -- target error\n",
    "    \"\"\"\n",
    "    \n",
    "    # for saving the error, one value per column # (Mean error)\n",
    "    error = []\n",
    "    # for saving D_i,j's\n",
    "    all_D = np.zeros((m,m))\n",
    "    \n",
    "    # First approximation\n",
    "    h = 0.1\n",
    "    all_D[0,0] = central_difference(func, x, h)\n",
    "    \n",
    "    # Then calculate the first column (D{i,0})\n",
    "    for i in range(m):\n",
    "        h /= d\n",
    "        all_D[i,0] = central_difference(func, x, h)\n",
    "    \n",
    "    # Then calculate all others by combining\n",
    "    for j in range(1,m): # columns\n",
    "        for i in range(j,m): # rows\n",
    "            #print (i,j)\n",
    "            #print (f'{4**j}*S{i},{j-1} - S{i-1},{j-1} / {4**j} - 1' )\n",
    "            all_D[i,j] = (d**(2*(j+1)) * all_D[i,j-1] - all_D[i-1,j-1]) / (\n",
    "                           d**(2*(j+1)) - 1)\n",
    "        error.append(np.abs(all_D[i,j]-all_D[i,j-1]))\n",
    "        if error[-1] < target_error:\n",
    "#             print (f\"Target error of {target_error} reached at D_{i,j}\")\n",
    "            return all_D[i,j], error\n",
    "        if len(error) > 2:\n",
    "            if error[-1] > error[-2]:\n",
    "                print (f\"Error increased at at D_{i,j}\")\n",
    "                # error increased, should stop\n",
    "                return all_D[i,j], error\n",
    "\n",
    "    return all_D[m-1,m-1], error"
   ]
  },
  {
   "cell_type": "code",
   "execution_count": 27,
   "metadata": {},
   "outputs": [
    {
     "name": "stdout",
     "output_type": "stream",
     "text": [
      "Analytical derivative at b=1.250296832286201: -8.560337535570\n",
      "Ridders method derivative at b=1.250296832286201: -8.560337535495\n",
      "difference: 7.51931850118126e-11\n"
     ]
    }
   ],
   "source": [
    "analderiv = anal_deriv(b,a,b,c,A,Nsat)\n",
    "print(f'Analytical derivative at b={b}: {analderiv:.12f}')\n",
    "\n",
    "# centraldiff = central_difference(function,b,1e-6)\n",
    "# print(f'Central difference derivative at b={b}: {centraldiff:.12f}')\n",
    "\n",
    "# print (f'difference: {abs(analderiv - centraldiff)}')\n",
    "\n",
    "\n",
    "\n",
    "temp = np.array([b,b])\n",
    "ridder, error = ridders_method(function, b, d=2, m=15, target_error=1e-15)\n",
    "\n",
    "\n",
    "print(f'Ridders method derivative at b={b}: {ridder:.12f}')\n",
    "\n",
    "print (f'difference: {abs(analderiv - ridder)}')\n",
    "# print (f'error according to ridder',error)\n",
    "# print (len(error))"
   ]
  },
  {
   "cell_type": "markdown",
   "metadata": {},
   "source": [
    "### d) Now we want to generate 3D satellite positions such that they statistically follow the profile. That is, the probaility of x $\\in$ [0,x_max] should be p(x)dx = $n(x)4\\pi x^2 dx / <Nsat>$. Use one of the methods discussed in classs to sample this distribution. Additionally, for each galaxy generate random angles $\\phi$ and $\\theta$ such that the resulting positions are uniformly distributed as a function of direction (uniform on a sphere). Output the positions (r,$\\phi$,$\\theta$) for 100 such satellites"
   ]
  },
  {
   "cell_type": "code",
   "execution_count": 28,
   "metadata": {},
   "outputs": [],
   "source": [
    "def pdfRadii(x):\n",
    "    \"\"\"\n",
    "    pdf for question 2d\n",
    "    \"\"\"\n",
    "    # Set Nsat = 1 so we effectively divide by Nsat\n",
    "    return ( numbdensprofile(x,a,b,c,A,Nsat=1,spherical=True) * 4*np.pi)"
   ]
  },
  {
   "cell_type": "code",
   "execution_count": 29,
   "metadata": {},
   "outputs": [],
   "source": [
    "# Rejection sampling\n",
    "def rejection_sampling(RNG, pdf, x_begin, x_end, num_points=500):\n",
    "    \"\"\"\n",
    "    Sample num_points from the PDF by rejection sampling\n",
    "    \n",
    "    RNG -- random number generator that generates number \\in [0,1]\n",
    "    pdf -- pdf of the function to sample from: y(x)\n",
    "    num_points -- amount of points to sample\n",
    "    x_begin, x_end -- begin and endpoint of uniform dist sample\n",
    "    \"\"\"\n",
    "        \n",
    "    all_x = []\n",
    "    factor = x_end-x_begin\n",
    "    while len(all_x) < num_points:\n",
    "        x = RNG()*(factor)+x_begin \n",
    "        y = RNG()\n",
    "        if y <= pdf(x):\n",
    "            all_x.append(x)\n",
    "    \n",
    "    return all_x"
   ]
  },
  {
   "cell_type": "code",
   "execution_count": 30,
   "metadata": {},
   "outputs": [],
   "source": [
    "RNG = RNGESUS.get_randomnumber # random number generator func"
   ]
  },
  {
   "cell_type": "markdown",
   "metadata": {},
   "source": [
    "#### Thus, random numbers on a sphere\n",
    "The surface area of a sphere: $dA = rd\\theta * r sin\\theta d\\phi$ reduces in size near the poles ($\\theta$ near 0 or $\\pi$). Thus we can draw $\\phi$ (the azimuthal angle) from a uniform distribution between 0 and $2\\pi$, but not $\\theta$. From the total area of a sphere being $4\\pi$ we can find $\\theta$ has pdf: \n",
    "\n",
    "$\\mathcal{f}$($\\theta$) = $1/2 * sin\\theta$. \n",
    "\n",
    "\n",
    "So we can use selection sampling to sample $\\theta$, since we know\n",
    "\n",
    "$\\theta = \\arcsin (2*y)$\n",
    "\n",
    "Or better: Inverse transform sampling, where we use the CDF of this distribution:\n",
    "$F(\\theta) = 1/2(1-cos(\\theta) )$\n",
    "\n",
    "and the inverse of this:\n",
    "\n",
    "$\\theta = F^{-1}(u) = \\arccos(1-2u) )$"
   ]
  },
  {
   "cell_type": "code",
   "execution_count": 31,
   "metadata": {},
   "outputs": [],
   "source": [
    "def inverse_transform_sample(RNG, invcdf, num_points=500):\n",
    "    \"\"\"\n",
    "    Sample num_points from the CDF with inverse transform sampling\n",
    "    \n",
    "    RNG -- random number generator that generates number \\in [0,1]\n",
    "    invcdf -- inverse CDF of the function to sample from\n",
    "    num_points -- amount of points to sample\n",
    "    \"\"\"   \n",
    "    \n",
    "    all_x = []\n",
    "    for _ in range(num_points):\n",
    "        u = RNG()\n",
    "        x = invcdf(u)\n",
    "        all_x.append(x)\n",
    "        \n",
    "    return all_x"
   ]
  },
  {
   "cell_type": "code",
   "execution_count": 32,
   "metadata": {},
   "outputs": [],
   "source": [
    "def invcdf(u):\n",
    "    \"\"\"Inverse CDF of \\theta\"\"\"\n",
    "    return np.arccos(1-2*u)"
   ]
  },
  {
   "cell_type": "code",
   "execution_count": 33,
   "metadata": {},
   "outputs": [],
   "source": [
    "def output_N_satellites(RNG, N):\n",
    "    \"\"\"\n",
    "    Generate N satellites following the number density profile\n",
    "    given in the assignment\n",
    "    \n",
    "    We assume \n",
    "    0<=x<=5, 0<=\\phi<2\\pi, 0<= theta <= \\pi\n",
    "    \n",
    "    Inputs\n",
    "    RNG -- a function that will generate x ~ unif[0,1] when called\n",
    "    N -- number of satellites\n",
    "    \"\"\"\n",
    "    \n",
    "    # Generate x with rejection sampling,\n",
    "    # because we cannot invert or integrate the PDF\n",
    "    all_x = rejection_sampling(RNG, pdfRadii, 0, 5, N) # x = r/rvir\n",
    "\n",
    "    # Generate theta with inverse transform sampling\n",
    "    # because integrating and inverting is very easy\n",
    "    all_theta = inverse_transform_sample(RNG, invcdf, N)\n",
    "    \n",
    "    # Generate phi with just uniform numbers between 0 and 2pi\n",
    "    all_phi = []\n",
    "    for i in range(N):\n",
    "        all_phi.append(RNG())\n",
    "    all_phi = np.array(all_phi)*2*np.pi\n",
    "\n",
    "    return all_x, all_theta, all_phi\n",
    "    \n",
    "# Output the positions for 100 such satellites\n",
    "\n",
    "all_x, all_theta, all_phi = output_N_satellites(RNG,N=100)\n",
    "# print (all_x,all_phi,all_theta)\n"
   ]
  },
  {
   "cell_type": "code",
   "execution_count": 34,
   "metadata": {},
   "outputs": [],
   "source": [
    "# # Just to show that it worked\n",
    "\n",
    "# Just to show that it works\n",
    "# x_values = np.linspace(0,5,1000)\n",
    "# plt.hist(all_x,alpha=0.5,label='Rejection sampling',density=True)\n",
    "# plt.plot(x_values, pdfRadii(x_values),label='pdf',c='C1')\n",
    "# plt.legend()\n",
    "# plt.show()\n",
    "\n",
    "\n",
    "# all_x = np.array(all_x)\n",
    "# all_theta = np.array(all_theta)\n",
    "# x_coord = 1 * np.sin(all_theta)*np.cos(all_phi)\n",
    "# y_coord = 1 * np.sin(all_theta)*np.sin(all_phi)\n",
    "# z_coord = 1 * np.cos(all_theta)\n",
    "\n",
    "# from mpl_toolkits.mplot3d import axes3d, Axes3D #<-- Note the capitalization! \n",
    "# fig = plt.figure()\n",
    "# ax = fig.add_subplot(111, projection='3d')\n",
    "# ax.scatter(x_coord,y_coord,z_coord)\n",
    "# ax.set_xlabel('X')\n",
    "# ax.set_ylabel('Y')\n",
    "# ax.set_zlabel('Z')\n",
    "# plt.savefig('./test.png')\n",
    "# plt.show()\n",
    "\n",
    "# linspace_theta = np.linspace(0,np.pi)\n",
    "# plt.plot(linspace_theta, np.sin(linspace_theta)/2)\n",
    "# plt.hist(all_theta,alpha=0.5,density=True)\n",
    "# plt.show()\n",
    "\n",
    "# plt.hist(all_phi,density=True)\n",
    "# plt.show()"
   ]
  },
  {
   "cell_type": "markdown",
   "metadata": {},
   "source": [
    "### e) Repeat (d) for 1000 halos"
   ]
  },
  {
   "cell_type": "code",
   "execution_count": 35,
   "metadata": {},
   "outputs": [],
   "source": [
    "# A thousand halos with 100 satellites\n",
    "all_all_x, all_all_theta, all_all_phi = [], [], []\n",
    "for i in range(1000):\n",
    "    all_x, all_theta, all_phi = output_N_satellites(RNG,N=100)\n",
    "    all_all_x.append(all_x)\n",
    "    all_all_theta.append(all_theta)\n",
    "    all_all_phi.append(all_phi)\n",
    "    \n",
    "all_all_x = np.asarray(all_all_x)"
   ]
  },
  {
   "cell_type": "code",
   "execution_count": 36,
   "metadata": {},
   "outputs": [],
   "source": [
    "def plot_loghistogram(data, bins, density=False):\n",
    "    \"\"\"\n",
    "    Plot loglog histogram\n",
    "    data -- array-like object to plot\n",
    "    bins -- bins to divide it into\n",
    "    density -- whether to normalize by bin width\n",
    "    \"\"\"\n",
    "    \n",
    "    bin_centers = (bins[:-1] + bins[1:])/2\n",
    "    binwidths = (bins[1:] - bins[:-1])\n",
    "    \n",
    "    # I dont know if this is required\n",
    "    \n",
    "    "
   ]
  },
  {
   "cell_type": "code",
   "execution_count": 37,
   "metadata": {},
   "outputs": [
    {
     "data": {
      "image/png": "[encoded data removed]",
      "text/plain": [
       "<Figure size 432x288 with 1 Axes>"
      ]
     },
     "metadata": {
      "needs_background": "light"
     },
     "output_type": "display_data"
    },
    {
     "data": {
      "image/png": "[encoded data removed]",
      "text/plain": [
       "<Figure size 432x288 with 1 Axes>"
      ]
     },
     "metadata": {
      "needs_background": "light"
     },
     "output_type": "display_data"
    }
   ],
   "source": [
    "xs = np.linspace(1e-4,5,100)\n",
    "\n",
    "# Generate 20 logarithmically equal spaced bins between 1e-4 and 5\n",
    "bins = np.logspace(np.log10(1e-4),np.log10(5),21)\n",
    "\n",
    "\n",
    "##### This part is for testing\n",
    "nperbin, _, _ = plt.hist(all_all_x.flatten(), density=True, bins=bins\n",
    "         ,alpha=0.5,label='data')\n",
    "plt.plot(xs, pdfRadii(xs),label='analytical PDF') # plot N(x)=n(x)*4pi*x^2\n",
    "plt.xscale('log')\n",
    "plt.yscale('log')\n",
    "plt.show()\n",
    "##### This part is for testing\n",
    "\n",
    "# Perhaps this line should be replaced by my own function\n",
    "nperbin, _, _ = plt.hist(all_all_x.flatten(), density=False, bins=bins\n",
    "         ,alpha=0.5,label='data')\n",
    "plt.close()\n",
    "\n",
    "bin_centers = (bins[:-1] + bins[1:])/2\n",
    "binwidths = (bins[1:] - bins[:-1])\n",
    "# Dont forget to divide each bin by its width\n",
    "# And divide by the total count to normalize\n",
    "nperbin /= binwidths*np.sum(nperbin)\n",
    "plt.bar(bin_centers,nperbin,binwidths,label='data',alpha=0.5)\n",
    "\n",
    "# Analytical function\n",
    "plt.plot(xs, pdfRadii(xs),label='analytical PDF',c='C1') # plot N(x)=n(x)*4pi*x^2\n",
    "plt.legend(frameon=False)\n",
    "plt.xlabel('x')\n",
    "plt.ylabel('Probability or normalized counts')\n",
    "plt.yscale('log')\n",
    "plt.xscale('log')\n",
    "plt.show()\n"
   ]
  },
  {
   "cell_type": "code",
   "execution_count": 38,
   "metadata": {},
   "outputs": [],
   "source": [
    "# The galaxies match the distribution very well"
   ]
  },
  {
   "cell_type": "markdown",
   "metadata": {},
   "source": [
    "### F) Write a root finding algorithm to find the solutions to N(x) = y/2 in x $\\in$ [0,xmax], where y is the maximum of N(x). Use the same parameters as before and output the roots"
   ]
  },
  {
   "cell_type": "code",
   "execution_count": 39,
   "metadata": {},
   "outputs": [],
   "source": [
    "def position_of_maxNx(a,b,c):\n",
    "    \"\"\"\n",
    "    Analytical formula for position x of the maximum of \n",
    "    N(x) = n(x)*4pi*x^2, given a b and c\n",
    "    \"\"\"\n",
    "    return b*( (a-1)/c )**(1/c)"
   ]
  },
  {
   "cell_type": "code",
   "execution_count": 40,
   "metadata": {},
   "outputs": [],
   "source": [
    "def false_position(func, lower, upper, acc, MAX=100):\n",
    "    \"\"\"\n",
    "    Fit secant lines through two points to approximate the root\n",
    "    Update points such that the root remains bracketed\n",
    "    \n",
    "    func -- function to approximate the root of\n",
    "    lower -- first abcissa point of initial guess \n",
    "    uppper -- second abcissa point of initial guess \n",
    "    acc -- target accuracy\n",
    "    MAX -- maximum number of iterations before function stops\n",
    "    \n",
    "    Returns\n",
    "    x1,x2 -- two points that bracket the root\n",
    "    i+1   -- number of iterations done\n",
    "    \"\"\"\n",
    "    \n",
    "    ylower, yupper = func(lower), func(upper)\n",
    "    \n",
    "    if ylower * yupper >= 0:\n",
    "        raise ValueError(\"Incorrect starting bracket\")\n",
    "    # smallest function value is 'most recent' guess = x2\n",
    "    if abs(ylower) <= abs(yupper):\n",
    "        x2 = lower\n",
    "        x1 = upper\n",
    "    else:\n",
    "        x2 = upper\n",
    "        x1 = lower\n",
    "    \n",
    "    for i in range(MAX):        \n",
    "        # new value\n",
    "        x3 = x1 - ( func(x1)*(x1-x2)  / (func(x1) - func(x2)) )\n",
    "        # update values, most recent guess is two values that bracket\n",
    "        if func(x3)*func(x2) <= 0: \n",
    "            # if new point has different sign, then update last point\n",
    "            x1 = x2\n",
    "        else:\n",
    "            x1 = x1\n",
    "        x2 = x3\n",
    "        \n",
    "        if abs(x1 - x2) < acc:\n",
    "            break\n",
    "        \n",
    "    return x1, x2, i+1"
   ]
  },
  {
   "cell_type": "code",
   "execution_count": 41,
   "metadata": {},
   "outputs": [
    {
     "name": "stdout",
     "output_type": "stream",
     "text": [
      "a, b, c = (1.1132884107646899, 1.250296832286201, 1.7885721190002482)\n",
      "First root is approximately at 0.00033651980205491925\n",
      "41 iterations were needed\n",
      "Second root is approximately at 1.1979932277786869\n",
      "10 iterations were needed\n"
     ]
    }
   ],
   "source": [
    "print (f'a, b, c = {a,b,c}')\n",
    "\n",
    "# Use analytical formula to find the maximum\n",
    "xmax = position_of_maxNx(a,b,c)\n",
    "ymax = pdfRadii(xmax)\n",
    "\n",
    "# Then use root finding to find where the function-ymax/2 is 0\n",
    "function = lambda x: pdfRadii(x) - ymax/2\n",
    "\n",
    "# Secant is not a good option, because we will likely diverge \n",
    "# Due to the linear approximation not being very good\n",
    "# Therefore, we use the false position method, since it will not diverge\n",
    "\n",
    "acc = 1e-8\n",
    "# First root will be between starting value and x of the maximum\n",
    "xlower1, xupper1, itneeded1 = false_position(function, 1e-4,xmax,acc)\n",
    "# Second root will be x of the maximum and 5\n",
    "xlower2, xupper2, itneeded2 = false_position(function, xmax,5, acc)\n",
    "\n",
    "best_guess1 = (xlower1+xupper1)/2\n",
    "best_guess2 = (xlower2+xupper2)/2\n",
    "print (f\"First root is approximately at {best_guess1}\")\n",
    "print (f\"{itneeded1} iterations were needed\")\n",
    "\n",
    "print (f\"Second root is approximately at {best_guess2}\")\n",
    "print (f\"{itneeded2} iterations were needed\")\n",
    "\n",
    "# print (\"\\nDifference with analytical:\")\n",
    "# print (pdfRadii(best_guess1)-ymax/2)\n",
    "# print (pdfRadii(best_guess2)-ymax/2)"
   ]
  },
  {
   "cell_type": "code",
   "execution_count": null,
   "metadata": {},
   "outputs": [],
   "source": []
  },
  {
   "cell_type": "markdown",
   "metadata": {},
   "source": [
    "### g) Take the radial bin from (e) containing the largest number of galaxies. Using sorting, calculate the median, 16th and 84th percentile in this radial bin and output these values. Next, make a histogram of the number of galaxies in this radial bin in each halo (so we get 1000 values), and each bin should have a width of 1. Plot the histogram and over-plot the poisson distribution using (a). with $\\lambda$ = mean number of galaxies in this radial bin"
   ]
  },
  {
   "cell_type": "code",
   "execution_count": 42,
   "metadata": {},
   "outputs": [
    {
     "name": "stdout",
     "output_type": "stream",
     "text": [
      "Maximum bin 14\n",
      "Which is between x's:\n",
      "[0.19466102 0.33437015]\n"
     ]
    }
   ],
   "source": [
    "def find_position_maximum(array):\n",
    "    \"\"\"\n",
    "    Given a 1D array-like object, finds the index of the max value\n",
    "    \n",
    "    returns imax -- the index of the maximum value in the array\n",
    "    \"\"\"\n",
    "    maximum = -1e18\n",
    "    imax = 0\n",
    "    for i in range(len(array)):\n",
    "        if array[i] > maximum:\n",
    "            maximum = array[i]\n",
    "            imax = i\n",
    "            \n",
    "    return imax\n",
    "\n",
    "\n",
    "max_n = find_position_maximum(nperbin)\n",
    "print (\"Maximum bin\", max_n)\n",
    "print (\"Which is between x's:\")\n",
    "print (bins[max_n:max_n+2])\n",
    "# Bin containing largest number of galaxies"
   ]
  },
  {
   "cell_type": "code",
   "execution_count": 43,
   "metadata": {},
   "outputs": [],
   "source": [
    "def selection_sort(arr):\n",
    "    \"\"\"\n",
    "    Sort a 1D array-like object with selection sort\n",
    "    \"\"\"\n",
    "    N = len(arr)\n",
    "    # for every position in the array     \n",
    "    for i in range(0,N-1):\n",
    "        # Find next smallest element     \n",
    "        imin = i\n",
    "        for j in range(i+1, N):\n",
    "            if arr[j] < arr[imin]:\n",
    "                imin = j\n",
    "        # put it in the correct position by swapping with current i\n",
    "        if imin != i:\n",
    "            arr[imin], arr[i] = arr[i], arr[imin]\n",
    "    return arr"
   ]
  },
  {
   "cell_type": "code",
   "execution_count": 44,
   "metadata": {},
   "outputs": [],
   "source": [
    "# Have to calculate the median of x and 16 and 84th percentile?\n",
    "# Or have to calculate the median number of galaxies per halo?\n",
    "# I think the first, so find all x's within this bin\n",
    "\n",
    "# boundaries of the bin\n",
    "lower_x = bins[max_n]\n",
    "upper_x = bins[max_n+1]\n",
    "# Shape (1000,?) of the x values of the satellites per halo\n",
    "# that are in the specified bin\n",
    "halo_satellites_in_bin = []\n",
    "for i in range(0,all_all_x.shape[0]):\n",
    "    satellites_in_bin = []\n",
    "    for j in range(0,all_all_x.shape[1]):\n",
    "        if all_all_x[i,j] > lower_x and all_all_x[i,j] < upper_x:\n",
    "            satellites_in_bin.append(all_all_x[i,j])\n",
    "    halo_satellites_in_bin.append(satellites_in_bin)\n",
    "    \n",
    "# Dont know if we are allowed to concatenate\n",
    "total_satellites_in_bin = np.concatenate(halo_satellites_in_bin)"
   ]
  },
  {
   "cell_type": "code",
   "execution_count": 45,
   "metadata": {},
   "outputs": [],
   "source": [
    "sorted_satellites_in_bin = selection_sort(total_satellites_in_bin)"
   ]
  },
  {
   "cell_type": "code",
   "execution_count": 46,
   "metadata": {},
   "outputs": [],
   "source": [
    "def give_percentile(sorted_arr, percentile):\n",
    "    \"\"\"\n",
    "    Percentile defined with midpoint interpolation\n",
    "    \"\"\"\n",
    "    N = len(sorted_arr)\n",
    "    index = percentile/100 * (N-1)\n",
    "    if index == int(index):\n",
    "        return sorted_arr[int(index)]\n",
    "    else:\n",
    "        index = int(index)\n",
    "        return (sorted_arr[index] + sorted_arr[index+1])/2\n",
    "            \n"
   ]
  },
  {
   "cell_type": "code",
   "execution_count": 47,
   "metadata": {},
   "outputs": [
    {
     "name": "stdout",
     "output_type": "stream",
     "text": [
      "Median 0.26359758212417767\n",
      "16th 0.2176209431542102\n",
      "84th 0.3122792308526914\n"
     ]
    }
   ],
   "source": [
    "median = give_percentile(sorted_satellites_in_bin,50)\n",
    "sixteent = give_percentile(sorted_satellites_in_bin, 16)\n",
    "eightyfth = give_percentile(sorted_satellites_in_bin, 84)\n",
    "\n",
    "print (f\"Median {median}\")\n",
    "print (f\"16th {sixteent}\")\n",
    "print (f\"84th {eightyfth}\")"
   ]
  },
  {
   "cell_type": "code",
   "execution_count": 48,
   "metadata": {},
   "outputs": [],
   "source": [
    "# Now make a histogram of the number of galaxies in this radial bin\n",
    "# in each halo. \n",
    "\n",
    "# In each halo, stores the number of satellites in the specified bin\n",
    "num_satellites_bin = [] # shape (1000,1)\n",
    "for halo in range(0,len(halo_satellites_in_bin)):\n",
    "    # amount of satellites within the specified bin in this halo\n",
    "    amount_in_bin = (len(halo_satellites_in_bin[halo]))\n",
    "    num_satellites_bin.append(amount_in_bin)"
   ]
  },
  {
   "cell_type": "code",
   "execution_count": 49,
   "metadata": {},
   "outputs": [
    {
     "data": {
      "image/png": "[encoded data removed]",
      "text/plain": [
       "<Figure size 432x288 with 1 Axes>"
      ]
     },
     "metadata": {
      "needs_background": "light"
     },
     "output_type": "display_data"
    }
   ],
   "source": [
    "# Each bin should have a width of 1\n",
    "# Don't know if we are allowed to use MIN and MAX\n",
    "max_num = max(num_satellites_bin)\n",
    "min_num = min(num_satellites_bin)\n",
    "bins = np.linspace(min_num, max_num, max_num-min_num+1)\n",
    "\n",
    "mean_num = np.mean(num_satellites_bin)\n",
    "poisson_prob = poisson_probability(bins,mean_num)\n",
    "\n",
    "# Dont know if we are allowed to use density=True\n",
    "plt.hist(num_satellites_bin,bins=bins, density=True)\n",
    "plt.plot(bins,poisson_prob,label='Poisson PDF')\n",
    "plt.xlabel('Number of galaxies in specified bin')\n",
    "plt.ylabel('Counts or probability')\n",
    "plt.legend()\n",
    "plt.show()"
   ]
  },
  {
   "cell_type": "markdown",
   "metadata": {},
   "source": [
    "### The normalization factor A depends on all three parameters. Calculate A at 0.1 wide intervals in the ranges of a, b and c given above ($\\textit{including the boundaries}$). Should get a table containing 6240 values. Choose an interpolation scheme and write a 3D interpolator for A as a fucntion of the three parameters based on these calculated values"
   ]
  },
  {
   "cell_type": "code",
   "execution_count": 50,
   "metadata": {},
   "outputs": [],
   "source": [
    "a_range = np.linspace(1.1,2.5,int((2.5-1.1)*10)+1)\n",
    "b_range = np.linspace(0.5,2,int((2-0.5)*10)+1)\n",
    "c_range = np.linspace(1.5,4,int((4-1.5)*10)+1)"
   ]
  },
  {
   "cell_type": "code",
   "execution_count": 51,
   "metadata": {},
   "outputs": [],
   "source": [
    "# 3D array to save the results, shape = (15,16,26)\n",
    "results = np.empty((len(a_range),len(b_range),len(c_range)))\n",
    "for a_indx in range(0,len(a_range)):\n",
    "    for b_indx in range(0,len(b_range)):\n",
    "        for c_indx in range(0,len(c_range)):\n",
    "            integ, error = romberg(lambda x: numbdensprofile(\n",
    "                x, a_range[a_indx], b_range[b_indx], c_range[c_indx]\n",
    "                , Nsat=Nsat, spherical=True) , 0, 5,order=10)\n",
    "            integ *= prefactor\n",
    "            # Normalize such that the integral produces <Nsat>\n",
    "            A = Nsat/integ\n",
    "            \n",
    "            results[a_indx,b_indx,c_indx] = A"
   ]
  },
  {
   "cell_type": "code",
   "execution_count": 52,
   "metadata": {},
   "outputs": [
    {
     "data": {
      "image/png": "[encoded data removed]",
      "text/plain": [
       "<Figure size 432x288 with 1 Axes>"
      ]
     },
     "metadata": {
      "needs_background": "light"
     },
     "output_type": "display_data"
    },
    {
     "data": {
      "image/png": "[encoded data removed]",
      "text/plain": [
       "<Figure size 432x288 with 1 Axes>"
      ]
     },
     "metadata": {
      "needs_background": "light"
     },
     "output_type": "display_data"
    },
    {
     "data": {
      "image/png": "[encoded data removed]",
      "text/plain": [
       "<Figure size 432x288 with 1 Axes>"
      ]
     },
     "metadata": {
      "needs_background": "light"
     },
     "output_type": "display_data"
    },
    {
     "data": {
      "image/png": "[encoded data removed]",
      "text/plain": [
       "<Figure size 432x288 with 1 Axes>"
      ]
     },
     "metadata": {
      "needs_background": "light"
     },
     "output_type": "display_data"
    },
    {
     "data": {
      "image/png": "[encoded data removed]",
      "text/plain": [
       "<Figure size 432x288 with 1 Axes>"
      ]
     },
     "metadata": {
      "needs_background": "light"
     },
     "output_type": "display_data"
    },
    {
     "data": {
      "image/png": "[encoded data removed]",
      "text/plain": [
       "<Figure size 432x288 with 1 Axes>"
      ]
     },
     "metadata": {
      "needs_background": "light"
     },
     "output_type": "display_data"
    }
   ],
   "source": [
    "# TEST JUST TO SEE HOW THE FUNCTION BEHAVES\n",
    "plt.scatter(a_range,results[:,0,0])\n",
    "plt.title('a=param, b=0.5, c=1.5')\n",
    "plt.xlabel('a')\n",
    "plt.ylabel('A')\n",
    "plt.show()\n",
    "\n",
    "plt.scatter(a_range,results[:,-1,-1])\n",
    "plt.title('a=param, b=2, c=4')\n",
    "plt.xlabel('a')\n",
    "plt.ylabel('A')\n",
    "plt.show()\n",
    "\n",
    "plt.scatter(b_range,results[0,:,0])\n",
    "plt.title('a=1.1, b=param, c=1.5')\n",
    "plt.xlabel('b')\n",
    "plt.ylabel('A')\n",
    "plt.show()\n",
    "\n",
    "plt.scatter(b_range,results[-1,:,-1])\n",
    "plt.title('a=2.5, b=param, c=4')\n",
    "plt.xlabel('b')\n",
    "plt.ylabel('A')\n",
    "plt.show()\n",
    "\n",
    "plt.scatter(c_range,results[0,0,:])\n",
    "plt.title('a=1.1, b=0.5, c=param')\n",
    "plt.xlabel('c')\n",
    "plt.ylabel('A')\n",
    "plt.show()\n",
    "\n",
    "\n",
    "plt.scatter(c_range,results[-1,-1,:])\n",
    "plt.title('a=2.5, b=2, c=param')\n",
    "plt.xlabel('c')\n",
    "plt.ylabel('A')\n",
    "plt.show()"
   ]
  },
  {
   "cell_type": "code",
   "execution_count": 53,
   "metadata": {},
   "outputs": [],
   "source": [
    "# Linear interpolation is probably pretty good, as \n",
    "# we have a quite regularly sampled the grid\n",
    "class LinearInterp3D(object):\n",
    "    \"\"\"\n",
    "    Class for linear interpolation in 3D using regular grid input data\n",
    "    Arguments:\n",
    "    points -- the regular spaced grid [x_values,y_values,z_values]\n",
    "              assumes these points are given in ascending order\n",
    "              and at regular intervals of 0.1\n",
    "              \n",
    "    values -- the values corresponding to the regular spaced grid\n",
    "    \n",
    "    __call__ -- call with coordinate points (x,y,z) to calculate linear interpolated value\n",
    "    \n",
    "    \"\"\"\n",
    "    def __init__(self, points, values):\n",
    "        self.points = points\n",
    "        self.values = values\n",
    "        \n",
    "    def __call__(self, coordinates):\n",
    "        # Interpolate at single coordinates (x,y,z), assumes these are not on the regular grid\n",
    "        # Formulas from https://en.wikipedia.org/wiki/Trilinear_interpolation\n",
    "        \n",
    "        # Find the cube that bounds the x,y,z value\n",
    "        indices = self.find_indices(coordinates)\n",
    "        # Calculate differences\n",
    "        xd = (coordinates[0]-self.points[0][indices[0]])/(self.points[0][indices[0]+1] - self.points[0][indices[0]])\n",
    "        yd = (coordinates[1]-self.points[1][indices[1]])/(self.points[1][indices[1]+1] - self.points[1][indices[1]])\n",
    "        zd = (coordinates[2]-self.points[2][indices[2]])/(self.points[2][indices[2]+1] - self.points[2][indices[2]])\n",
    "        # Interpolate along x\n",
    "        c00 = self.values[tuple(indices)]*(1-xd)+self.values[tuple(indices+np.array([1,0,0]))]*xd\n",
    "        c01 = self.values[tuple(indices+np.array([0,0,1]))]*(1-xd) + self.values[tuple(indices+np.array([1,0,1]))]*xd\n",
    "        c10 = self.values[tuple(indices+np.array([0,1,0]))]*(1-xd) + self.values[tuple(indices+np.array([1,1,0]))]*xd\n",
    "        c11 = self.values[tuple(indices+np.array([0,1,1]))]*(1-xd) + self.values[tuple(indices+np.array([1,1,1]))]*xd\n",
    "        # Interpolate along y\n",
    "        c0 = c00*(1-yd) + c10*yd\n",
    "        c1 = c01*(1-yd) + c11*yd\n",
    "        # Interpolate along z\n",
    "        c = c0*(1-zd) + c1*zd\n",
    "        return c\n",
    "        \n",
    "    def find_indices(self, coordinates):\n",
    "        \"\"\"\n",
    "        Find 3 indices in array points that define the lower bound\n",
    "        of the box that bounds the coordinates\n",
    "        We use the fact that we know the points are spaced at regular\n",
    "        intervals of length 0.1\n",
    "        \"\"\"\n",
    "        indices = []\n",
    "        for i in range(3):\n",
    "            indices.append( int( (coordinates[i]-self.points[i][0])/0.1 ) )\n",
    "        return np.asarray(indices)\n",
    "        "
   ]
  },
  {
   "cell_type": "code",
   "execution_count": 54,
   "metadata": {},
   "outputs": [],
   "source": [
    "linInterp = LinearInterp3D([a_range,b_range,c_range],results)"
   ]
  },
  {
   "cell_type": "code",
   "execution_count": 55,
   "metadata": {},
   "outputs": [
    {
     "data": {
      "text/plain": [
       "0.19543438951617323"
      ]
     },
     "execution_count": 55,
     "metadata": {},
     "output_type": "execute_result"
    }
   ],
   "source": [
    "# Example of how to interpolate a point: \n",
    "linInterp([1.41,0.65,2.57]) "
   ]
  },
  {
   "cell_type": "code",
   "execution_count": null,
   "metadata": {},
   "outputs": [],
   "source": []
  },
  {
   "cell_type": "code",
   "execution_count": null,
   "metadata": {},
   "outputs": [],
   "source": []
  },
  {
   "cell_type": "code",
   "execution_count": null,
   "metadata": {},
   "outputs": [],
   "source": []
  },
  {
   "cell_type": "markdown",
   "metadata": {},
   "source": [
    "# 3. Now we are going to turn things around\n",
    "# Download satgals_m11 to m15. Each file contains halos in a certain mass bin with variable numbers of satellites. Write down the log-likelihood correpsonding to a set of random realizations of the satellite profile in equation (2) with some unkown $<N_{sat}>$. Retain only the terms with a (residual) dependence on a,b, and/or c. Including A=A(a,b,c)"
   ]
  },
  {
   "cell_type": "markdown",
   "metadata": {},
   "source": [
    "#### The log-likelihood (log=ln) for a set of N i.i.d. realizations of eq. (2):\n",
    "$$ \\log \\mathcal{L}(\\theta) \\propto N \\log[A(a,b,c)] + (a-1)\\sum_{i=0}^{N-1} \\log(x_i/b) - \\sum_{i=0}^{N-1}(x_i/b)^c $$\n",
    "\n",
    "gives \n",
    "\n",
    "$$ \\log \\mathcal{L}(\\theta) \\propto N \\log[A(a,b,c)] + (a-1) \\left( - N\\log(b) + \\sum_{i=0}^{N-1} \\log(x_i) \\right) - b^{-c}\\sum_{i=0}^{N-1}(x_i)^c $$\n",
    "\n",
    "\n",
    "which can also be written as\n",
    "\n",
    "$$ \\log \\mathcal{L}(\\theta) \\propto \\\\ N \\log[A(a,b,c)] + (a-1) \\left( {\\displaystyle \\log(\\prod_{i=0}^{N-1} x_i)} - N\\log(b) \\right) - b^{-c}\\sum_{i=0}^{N-1}(x_i)^c $$\n",
    "\n",
    "The last formula is not numerically stable, because calculating the product of all the $x_i$ introduces roundoff errors quickly. So we use the one to last formula\n"
   ]
  },
  {
   "cell_type": "markdown",
   "metadata": {},
   "source": [
    "### a) Find the a, b and c that maximize this likelihood. Do this seperately for each different file/mass bin"
   ]
  },
  {
   "cell_type": "code",
   "execution_count": 67,
   "metadata": {},
   "outputs": [],
   "source": [
    "# Thus we have to minimize the negative log-likelihood. \n",
    "\n",
    "# Better: Just calculate the sum of log(x_i) once\n",
    "# then give that to this function since that will not change\n",
    "def neglogL(a,b,c,xi):\n",
    "    \"\"\"\n",
    "    Returns the negative log likelihood for a set of N i.i.d. \n",
    "    realizations of x_i \n",
    "    \"\"\"\n",
    "    N = len(xi)\n",
    "    \n",
    "    if (not(1.1 < a <2.5) or not(0.5 < b < 2) or not(1.5 < c < 4)):\n",
    "        # a b or c is not in required bound, return high number\n",
    "        return 1e6\n",
    "    \n",
    "    # We use the trilinear interpolator to approximate A(a,b,c)\n",
    "    A = linInterp([a,b,c])\n",
    "    \n",
    "    # Dont know if we are allowed np.sum\n",
    "    second_term = np.sum(np.log(xi))    \n",
    "    second_term -= N*np.log(b)\n",
    "    \n",
    "    # Dont know if we are allowed to use np.sum\n",
    "    return -1* ( N*np.log(A) + (a-1)*second_term - b**(-c) * np.sum(xi**c) )"
   ]
  },
  {
   "cell_type": "code",
   "execution_count": 68,
   "metadata": {},
   "outputs": [],
   "source": [
    "def calc_centroid(vectors):\n",
    "    \"\"\"\n",
    "    Given an array 'vectors' of shape (len(points),Ndim)\n",
    "    calculate the centroid (i.e., mean over every dimension)\n",
    "    \"\"\"\n",
    "    centroid = np.empty(vectors.shape[1])\n",
    "    for i in range(vectors.shape[1]):\n",
    "        centroid[i] = np.mean(vectors[:,i])\n",
    "        \n",
    "    return centroid\n",
    "\n",
    "def downhill_simplexND(func,start,delta,tol=2e-10,maxIter=20):\n",
    "    \"\"\"\n",
    "    Find minimum of N-D function.\n",
    "    \n",
    "    func -- function to minimize (has to take x,y,.., as arguments)\n",
    "    start -- vector of length N with the initial starting point\n",
    "    delta -- guess for the characteristic length scale of the problem\n",
    "    \n",
    "    Returns\n",
    "    x0 -- best guess for the minimum of the function\n",
    "    vertices -- all vertices around the minimum\n",
    "    it -- number of iterations done\n",
    "    \"\"\"\n",
    "    N = len(start)\n",
    "    it = 0\n",
    "    \n",
    "    # A vertex in N-D has N+1 points\n",
    "    # First construct the other N points\n",
    "    vertices = [start]\n",
    "    for i in range(0,N):\n",
    "        basis_vector = np.zeros(N)\n",
    "        basis_vector[i] = 1\n",
    "        vertices.append(start + basis_vector*delta)\n",
    "        \n",
    "    vertices = np.array(vertices) # array of shape (N+1,N)\n",
    "    \n",
    "    for _ in range(maxIter):\n",
    "        it += 1\n",
    "        \n",
    "        # Order the points such that x0 is the minimum, xN is maximum\n",
    "        order = np.argsort([func(*vertice) for vertice in vertices])\n",
    "        vertices = vertices[order]\n",
    "\n",
    "        # Calculate the centroid of the first N points\n",
    "        centroid = calc_centroid(vertices[:N])\n",
    "\n",
    "        # Check if fractional range in func is within target acc\n",
    "        fracrange = 2*abs(func(*vertices[-1]) - func(*vertices[0])) / (\n",
    "                    abs(func(*vertices[-1]) + func(*vertices[0])) )\n",
    "        if fracrange <= tol:\n",
    "            # best guess x0, return all vertices too, and num iterations\n",
    "            return vertices[0], vertices, it\n",
    "        \n",
    "        # Otherwise, propose a new point by reflecting xN\n",
    "        x_try = 2*centroid - vertices[-1]\n",
    "\n",
    "        # There are now four distinct possibilities:\n",
    "        if func(*vertices[0]) <= func(*x_try) < func(*vertices[-1]):\n",
    "            # new point is better, but not the best. We accept it\n",
    "            vertices[-1] = x_try # Set new x_{N}\n",
    "        elif func(*x_try) < func(*vertices[0]):\n",
    "            # new point is the best, expand further in this direction\n",
    "            x_exp = 2*x_try - centroid\n",
    "            if func(*x_exp) < func(*x_try):\n",
    "                # then expansion was even better\n",
    "                vertices[-1] = x_exp\n",
    "            else:\n",
    "                # expansion did not work\n",
    "                vertices[-1] = x_try\n",
    "        else: # We know now that f(x_try) was worse than func(x_{N-1})\n",
    "            # Propose a new point by contracting instead of reflecting\n",
    "            x_try = 0.5*(centroid+vertices[-1])\n",
    "            if func(*x_try) < func(*vertices[-1]):\n",
    "                # Accept the contracted point\n",
    "                vertices[-1] = x_try # I think this should be vertices[-1]\n",
    "            else:\n",
    "                # All options were apparently bad, just zoom in on best\n",
    "                for i in range(1,N+1):\n",
    "                    vertices[i] = 0.5*(centroid + vertices[i])\n",
    "\n",
    "    return vertices[0], vertices, it"
   ]
  },
  {
   "cell_type": "code",
   "execution_count": 69,
   "metadata": {},
   "outputs": [],
   "source": [
    "def read_in_halos(filename):\n",
    "    \"\"\"\n",
    "    Read in the data for exercise 3, per filename.\n",
    "    \n",
    "    First number in the file on line 4 is always the number of halos.\n",
    "    Then we find hash symbols to indicate a new halo,\n",
    "    and then we find coordinates of satellites (if any)\n",
    "    x, phi and theta.\n",
    "    \n",
    "    Returns the number of haloes in the datafile\n",
    "    and the satellite positions divided per halo.\n",
    "    \"\"\"\n",
    "    \n",
    "    # List of lists of satellite positions x\n",
    "    # every halo has a list of satellite positions x\n",
    "    all_halos_satellites = []\n",
    "    with open(filename, 'r') as file:\n",
    "        for i, line in enumerate(file):\n",
    "            if i == 3:\n",
    "                num_halos = int(line.strip('\\n'))\n",
    "                halo_satellites = []\n",
    "            \n",
    "            # i = 4 is always the first halo.\n",
    "            if i > 4:\n",
    "                if '#' in line: # Next halo \n",
    "                    all_halos_satellites.append(halo_satellites)\n",
    "                    halo_satellites = []\n",
    "                else: # append satellite positions\n",
    "                    coordinates = line.strip('\\n').split('  ')\n",
    "                    # Save only x position, cast to float\n",
    "                    coordinates = float(coordinates[0])\n",
    "                    halo_satellites.append(coordinates)\n",
    "    \n",
    "    # Don't forget to append the last satellites\n",
    "    all_halos_satellites.append(halo_satellites)\n",
    "    \n",
    "    \n",
    "    return num_halos, all_halos_satellites\n",
    "            "
   ]
  },
  {
   "cell_type": "code",
   "execution_count": 70,
   "metadata": {},
   "outputs": [],
   "source": [
    "# [read_in_halos(f'./satgals_m{i}.txt') for i in [11,12,13,14,15]] "
   ]
  },
  {
   "cell_type": "code",
   "execution_count": 71,
   "metadata": {},
   "outputs": [],
   "source": [
    "# for i in [11,12,13,14,15]:\n",
    "# Start with 14 for now\n",
    "i=14\n",
    "num_halos, all_halos_satellites = read_in_halos(f'./satgals_m{i}.txt')"
   ]
  },
  {
   "cell_type": "code",
   "execution_count": 72,
   "metadata": {},
   "outputs": [],
   "source": [
    "# flattened, all x_i\n",
    "all_satellites = [satellite for satellites in all_halos_satellites\n",
    "                  for satellite in satellites]"
   ]
  },
  {
   "cell_type": "code",
   "execution_count": 73,
   "metadata": {},
   "outputs": [
    {
     "name": "stdout",
     "output_type": "stream",
     "text": [
      "1.1000000000019319 1.0 3.9\n"
     ]
    },
    {
     "data": {
      "image/png": "[encoded data removed]",
      "text/plain": [
       "<Figure size 432x288 with 1 Axes>"
      ]
     },
     "metadata": {
      "needs_background": "light"
     },
     "output_type": "display_data"
    },
    {
     "data": {
      "image/png": "[encoded data removed]",
      "text/plain": [
       "<Figure size 432x288 with 1 Axes>"
      ]
     },
     "metadata": {
      "needs_background": "light"
     },
     "output_type": "display_data"
    },
    {
     "data": {
      "image/png": "[encoded data removed]",
      "text/plain": [
       "<Figure size 432x288 with 1 Axes>"
      ]
     },
     "metadata": {
      "needs_background": "light"
     },
     "output_type": "display_data"
    }
   ],
   "source": [
    "# Just for plotting purposes\n",
    "all_x = np.linspace(1e-4,5,21)\n",
    "\n",
    "all_x_log = np.logspace(np.log10(1e-4),np.log10(5),21)\n",
    "\n",
    "print (a,b,c)\n",
    "\n",
    "plt.hist(all_satellites,density=True, bins=all_x)\n",
    "plt.yscale('log')\n",
    "plt.show() \n",
    "\n",
    "plt.plot(all_x,pdfRadii(all_x))\n",
    "plt.show()\n",
    "\n",
    "# Analytical function\n",
    "plt.plot(all_x, pdfRadii(all_x),label='analytical PDF',c='C1') # plot N(x)=n(x)*4pi*x^2\n",
    "\n",
    "plt.hist(all_satellites,density=True, bins=all_x, label='data')\n",
    "\n",
    "plt.legend(frameon=False)\n",
    "plt.xlabel('x')\n",
    "plt.yscale('log')\n",
    "plt.xscale('log')\n",
    "plt.show()"
   ]
  },
  {
   "cell_type": "markdown",
   "metadata": {},
   "source": [
    "So we just minimize the negative-log likelihood to find the best fitting a,b,c"
   ]
  },
  {
   "cell_type": "code",
   "execution_count": 74,
   "metadata": {},
   "outputs": [],
   "source": [
    "###### TEST\n",
    "\n",
    "\n",
    "# # First check if the negative log-likelihood is minimized \n",
    "# # for a,b,c that we know\n",
    "# print (a,b,c)\n",
    "\n",
    "# xs = np.linspace(1e-4,5,100)\n",
    "# bins = np.logspace(np.log10(1e-4),np.log10(5),21)\n",
    "\n",
    "# nperbin, _, _ = plt.hist(all_all_x.flatten(), density=True, bins=bins\n",
    "#          ,alpha=0.5,label='data')\n",
    "\n",
    "\n",
    "# plt.plot(xs, pdfRadii(xs),label='analytical PDF')\n",
    "# # plot N(x)=n(x)*4pi*x^2\n",
    "# plt.xscale('log')\n",
    "# plt.yscale('log')\n",
    "# plt.legend()\n",
    "# plt.show()\n",
    "\n",
    "# # Function to minimize\n",
    "# minfunc = lambda x, y, z: neglogL(x,y,z,xi=all_all_x.flatten())\n",
    "\n",
    "# print (\"First implementation\")\n",
    "# %timeit neglogL(a,b,c,all_all_x.flatten())\n",
    "# print (neglogL(a,b,c,all_all_x.flatten()))\n",
    "\n",
    "# print (\"Second implementation\")\n",
    "# %timeit negLogL_test(a,b,c,all_all_x.flatten())\n",
    "# print (negLogL_test(a,b,c,all_all_x.flatten()))\n",
    "\n",
    "# # Temp saving of a,b,c\n",
    "# a_save, b_save, c_save = 1.1132884107646899, 1.250296832286201, 1.7885721190002482\n",
    "\n",
    "# # Best guess scipy optimize\n",
    "# a,b,c = np.array([1.10000002, 1.99999947, 3.86556342])\n",
    "\n",
    "\n",
    "# xs = np.linspace(1e-4,5,100)\n",
    "# bins = np.logspace(np.log10(1e-4),np.log10(5),21)\n",
    "\n",
    "# nperbin, _, _ = plt.hist(all_all_x.flatten(), density=True, bins=bins\n",
    "#          ,alpha=0.5,label='data')\n",
    "\n",
    "\n",
    "# plt.plot(xs, pdfRadii(xs),label='analytical PDF') \n",
    "# # plot N(x)=n(x)*4pi*x^2\n",
    "# plt.xscale('log')\n",
    "# plt.yscale('log')\n",
    "# plt.legend()\n",
    "# plt.show()\n",
    "\n",
    "# a,b,c = a_save, b_save, c_save\n",
    "# # Best guess simplex\n",
    "# best_guess, vertices, it = (downhill_simplexND(minfunc\n",
    "#                         ,[a+0.1,b+0.1,c+0.1],0.1\n",
    "#                           ,tol=2e-10,maxIter=2000))\n",
    "\n",
    "# print (\"Best guess simplex\")\n",
    "# print (\"best guess\",best_guess)\n",
    "\n",
    "# a,b,c = best_guess\n",
    "# # Best guess simplex\n",
    "# xs = np.linspace(1e-4,5,100)\n",
    "# bins = np.logspace(np.log10(1e-4),np.log10(5),21)\n",
    "\n",
    "# nperbin, _, _ = plt.hist(all_all_x.flatten(), density=True, bins=bins\n",
    "#          ,alpha=0.5,label='data')\n",
    "\n",
    "# plt.plot(xs, pdfRadii(xs),label='analytical PDF') \n",
    "# # plot N(x)=n(x)*4pi*x^2\n",
    "# plt.xscale('log')\n",
    "# plt.yscale('log')\n",
    "# plt.legend()\n",
    "# plt.show()\n",
    "\n",
    "\n",
    "\n",
    "# a,b,c = a_save, b_save, c_save\n"
   ]
  },
  {
   "cell_type": "code",
   "execution_count": 75,
   "metadata": {},
   "outputs": [
    {
     "data": {
      "text/plain": [
       "'\\nThere seems to be a problem for certain a,b,c with the generation of\\nall_all_x, rerun the program for several seeds later..\\n\\nOr my rejection sampling is wrong. \\n'"
      ]
     },
     "execution_count": 75,
     "metadata": {},
     "output_type": "execute_result"
    }
   ],
   "source": [
    "\"\"\"\n",
    "There seems to be a problem for certain a,b,c with the generation of\n",
    "all_all_x, rerun the program for several seeds later..\n",
    "\n",
    "Or my rejection sampling is wrong. \n",
    "\"\"\""
   ]
  },
  {
   "cell_type": "code",
   "execution_count": 82,
   "metadata": {},
   "outputs": [
    {
     "name": "stdout",
     "output_type": "stream",
     "text": [
      "Starting at current a,b,c = (1.6822025816803454, 0.7239812101995227, 3.299999750212147)\n",
      "Best guess after 124 iterations: [1.68213783 0.72399075 3.3       ]\n"
     ]
    }
   ],
   "source": [
    "# We minimize with the downhill simplex method\n",
    "# Function to minimize\n",
    "minfunc = lambda x, y, z: neglogL(x,y,z,xi=all_satellites)\n",
    "print (f\"Starting at current a,b,c = {a,b,c}\")\n",
    "best, vertices, it = downhill_simplexND(minfunc, [a,b,c]\n",
    "                                    , 0.01,tol=1e-15,maxIter=500)\n",
    "print (f\"Best guess after {it} iterations: {best}\")"
   ]
  },
  {
   "cell_type": "code",
   "execution_count": 83,
   "metadata": {},
   "outputs": [
    {
     "data": {
      "image/png": "[encoded data removed]",
      "text/plain": [
       "<Figure size 432x288 with 1 Axes>"
      ]
     },
     "metadata": {
      "needs_background": "light"
     },
     "output_type": "display_data"
    },
    {
     "data": {
      "image/png": "[encoded data removed]",
      "text/plain": [
       "<Figure size 432x288 with 1 Axes>"
      ]
     },
     "metadata": {
      "needs_background": "light"
     },
     "output_type": "display_data"
    }
   ],
   "source": [
    "# Plotting the solution\n",
    "all_x = np.linspace(1e-4,5,100)\n",
    "all_x_log = np.logspace(np.log10(1e-4),np.log10(5),21)\n",
    "\n",
    "a,b,c = best\n",
    "\n",
    "plt.title(\"With best params found\")\n",
    "# Analytical function\n",
    "plt.plot(all_x, pdfRadii(all_x),label='analytical PDF',c='C1') # plot N(x)=n(x)*4pi*x^2\n",
    "\n",
    "plt.hist(all_satellites,density=True, bins=all_x_log, label='data')\n",
    "\n",
    "plt.legend(frameon=False)\n",
    "plt.xlabel('x')\n",
    "plt.yscale('log')\n",
    "plt.xscale('log')\n",
    "plt.ylim(1e-20,1e-0)\n",
    "plt.show()\n",
    "\n",
    "# Analytical function\n",
    "plt.title(\"With best params found\")\n",
    "plt.plot(all_x, pdfRadii(all_x),label='analytical PDF',c='C1') # plot N(x)=n(x)*4pi*x^2\n",
    "\n",
    "plt.hist(all_satellites,density=True, bins=all_x, label='data')\n",
    "\n",
    "plt.legend(frameon=False)\n",
    "plt.xlabel('x')\n",
    "# plt.yscale('log')\n",
    "# plt.xscale('log')\n",
    "plt.show()"
   ]
  },
  {
   "cell_type": "code",
   "execution_count": null,
   "metadata": {},
   "outputs": [],
   "source": []
  },
  {
   "cell_type": "code",
   "execution_count": null,
   "metadata": {},
   "outputs": [],
   "source": []
  },
  {
   "cell_type": "code",
   "execution_count": null,
   "metadata": {},
   "outputs": [],
   "source": []
  },
  {
   "cell_type": "code",
   "execution_count": null,
   "metadata": {},
   "outputs": [],
   "source": []
  },
  {
   "cell_type": "code",
   "execution_count": null,
   "metadata": {},
   "outputs": [],
   "source": []
  },
  {
   "cell_type": "code",
   "execution_count": null,
   "metadata": {},
   "outputs": [],
   "source": []
  }
 ],
 "metadata": {
  "kernelspec": {
   "display_name": "Python 3",
   "language": "python",
   "name": "python3"
  },
  "language_info": {
   "codemirror_mode": {
    "name": "ipython",
    "version": 3
   },
   "file_extension": ".py",
   "mimetype": "text/x-python",
   "name": "python",
   "nbconvert_exporter": "python",
   "pygments_lexer": "ipython3",
   "version": "3.6.6"
  }
 },
 "nbformat": 4,
 "nbformat_minor": 2
}
