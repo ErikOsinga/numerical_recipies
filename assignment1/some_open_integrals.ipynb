{
 "cells": [
  {
   "cell_type": "code",
   "execution_count": 1,
   "metadata": {},
   "outputs": [
    {
     "name": "stdout",
     "output_type": "stream",
     "text": [
      "User seed is set to 1923\n"
     ]
    }
   ],
   "source": [
    "import numpy as np\n",
    "import matplotlib.pyplot as plt\n",
    "seed = 1923\n",
    "print (f\"User seed is set to {seed}\")"
   ]
  },
  {
   "cell_type": "code",
   "execution_count": 2,
   "metadata": {},
   "outputs": [
    {
     "name": "stdout",
     "output_type": "stream",
     "text": [
      "Make sure to check later which \n",
      "    functions you can use and which you have to write yourself\n",
      "\n",
      "\n",
      "Question: can we use np arrays for division etc?\n"
     ]
    }
   ],
   "source": [
    "print (\"\"\"Make sure to check later which \n",
    "    functions you can use and which you have to write yourself\"\"\")\n",
    "print (\"\\n\")\n",
    "\n",
    "print (\"Question: can we use np arrays for division etc?\")"
   ]
  },
  {
   "cell_type": "code",
   "execution_count": 3,
   "metadata": {},
   "outputs": [],
   "source": [
    "# Some routines of which I am not sure we can just use from np or plt\n",
    "# Thus coded up below\n",
    "def linspace(lower,upper,numpoints):\n",
    "    \"\"\"\n",
    "    Generate 'numpoints' equally spaced between 'lower' and 'upper'\n",
    "    i.e., replacement of np.linspace\n",
    "    \"\"\"\n",
    "    \n",
    "    dx = (upper-lower)/(numpoints-1)\n",
    "    point = lower\n",
    "    ans = [point]\n",
    "    for i in range(1,numpoints-1):\n",
    "        point += dx\n",
    "        ans.append(point)\n",
    "    ans.append(upper)\n",
    "    return np.asarray(ans)\n",
    "\n",
    "def logspace(lower,upper,numpoints):\n",
    "    \"\"\"\n",
    "    Generate 'numpoints' equally spaced on a log scale.\n",
    "    i.e., replacement of np.logspace\n",
    "    \n",
    "    In linear space sequence starts at 10**(start) and ends at 10**(end)\n",
    "    This function simply raises 10 to the power linspace\n",
    "    \"\"\"\n",
    "    return np.power(10,linspace(lower,upper,numpoints))"
   ]
  },
  {
   "cell_type": "markdown",
   "metadata": {},
   "source": [
    "# Question 1 Preparing some useful routines"
   ]
  },
  {
   "cell_type": "code",
   "execution_count": 4,
   "metadata": {},
   "outputs": [],
   "source": [
    "def fac(k):\n",
    "    \"\"\"Returns factorial of k. Note: 0! is defined as 1\"\"\"\n",
    "    if k == 0:\n",
    "        return 1\n",
    "    ans = k\n",
    "    for x in range(1,k):\n",
    "        ans *= x\n",
    "    return ans"
   ]
  },
  {
   "cell_type": "code",
   "execution_count": 5,
   "metadata": {},
   "outputs": [],
   "source": [
    "def poisson_probability(k,lambd):\n",
    "    \"\"\"\n",
    "    Returns the Poisson probability, i.e., the probability of 'k' \n",
    "    occurences if 'lambd' is the occurence rate, per interval. \n",
    "    \"\"\"\n",
    "    return (lambd**k * np.exp(-1*lambd))/(fac(k))"
   ]
  },
  {
   "cell_type": "markdown",
   "metadata": {},
   "source": [
    "## Output $P_{\\lambda}(k)$ to at least 6 significant digits for following values"
   ]
  },
  {
   "cell_type": "code",
   "execution_count": 6,
   "metadata": {},
   "outputs": [
    {
     "name": "stdout",
     "output_type": "stream",
     "text": [
      "P_1(0) = 3.67879e-01\n",
      "P_5(10) = 1.81328e-02\n",
      "P_3(20) = 7.13538e-11\n",
      "P_2.6(40) = 3.61512e-33\n"
     ]
    }
   ],
   "source": [
    "# Output P_{\\lambda}(k) to at least 6 significant digits for these values\n",
    "lambdas = [1,5,3,2.6]\n",
    "ks = [0,10,20,40]\n",
    "\n",
    "for k, lambd in zip(ks, lambdas):\n",
    "    print(f'P_{lambd}({k}) = {poisson_probability(k,lambd):.5e}')\n"
   ]
  },
  {
   "cell_type": "markdown",
   "metadata": {},
   "source": [
    "### Write a random number generator that returns a random floating-point number between 0 and 1. At minimum, use some combination of an (M)LCG and a 64-bit XOR-shift"
   ]
  },
  {
   "cell_type": "code",
   "execution_count": 7,
   "metadata": {},
   "outputs": [],
   "source": [
    "class RandomGenerator(object):\n",
    "    \"\"\"\n",
    "    Random generator should be an object because it maintains\n",
    "    internal state between calls.\n",
    "    \"\"\"\n",
    "    def __init__(self, seed):\n",
    "        # make sure the everyhing is an unsigned 64 bit integer\n",
    "        dtyp = np.uint64\n",
    "        # the seed for the LGC\n",
    "        self.X1 = dtyp(seed)\n",
    "        # the seed for the XORshift\n",
    "        self.X2 = dtyp(seed)\n",
    "        \n",
    "        self.max_value = dtyp(2**64 - 1)\n",
    "        \n",
    "        # LCG values from Numerical Recipies\n",
    "        self.a = dtyp(1664525)\n",
    "        self.c = dtyp(1013904223)\n",
    "        self.m = dtyp(2**32)\n",
    "        \n",
    "        # 64 bit XOR shift values from Numerical Recipies\n",
    "        self.a1, self.a2, self.a3 = dtyp(21), dtyp(35), dtyp(4)\n",
    "        \n",
    "    def lincongen(self, X):    \n",
    "        return (self.a*X+self.c) % self.m\n",
    "\n",
    "    def XORshift64(self, X):\n",
    "        if X == 0:\n",
    "            raise ValueError(\"Seed cannot be zero\")\n",
    "        X = X ^ (X >> self.a1)\n",
    "        X = X ^ (X << self.a2)\n",
    "        X = X ^ (X >> self.a3)\n",
    "        \n",
    "        return X\n",
    "    \n",
    "    def get_randomnumber(self):\n",
    "        \"\"\"\n",
    "        Combine LCG and XORshift to produce random float \n",
    "        between 0 and 1\n",
    "        \"\"\"\n",
    "        self.X1 = self.lincongen(self.X1)\n",
    "        self.X2 = self.XORshift64(self.X2)\n",
    "        \n",
    "        # output is XOR of these numbers\n",
    "        \n",
    "        return (self.X1^self.X2)/self.max_value\n",
    "    \n",
    "        \n"
   ]
  },
  {
   "cell_type": "code",
   "execution_count": 8,
   "metadata": {},
   "outputs": [
    {
     "name": "stdout",
     "output_type": "stream",
     "text": [
      "3.805728939112855e-06\n",
      "0.05873143700074865\n"
     ]
    }
   ],
   "source": [
    "RNGESUS = RandomGenerator(seed=seed)\n",
    "print (RNGESUS.get_randomnumber())\n",
    "print (RNGESUS.get_randomnumber())"
   ]
  },
  {
   "cell_type": "code",
   "execution_count": 9,
   "metadata": {},
   "outputs": [
    {
     "data": {
      "image/png": "[encoded data removed]",
      "text/plain": [
       "<Figure size 432x288 with 1 Axes>"
      ]
     },
     "metadata": {},
     "output_type": "display_data"
    }
   ],
   "source": [
    "all_randnum = []\n",
    "for i in range(1000):\n",
    "    # Could vectorize? \n",
    "    all_randnum.append(RNGESUS.get_randomnumber())\n",
    "    \n",
    "plt.plot(all_randnum,np.roll(all_randnum,1),'o',alpha=0.5)\n",
    "plt.title(f'Comparison for {len(all_randnum)} elements')\n",
    "plt.xlabel('value element n')\n",
    "plt.ylabel('value element n+1')\n",
    "plt.savefig('q1b1.png')\n",
    "plt.show();"
   ]
  },
  {
   "cell_type": "code",
   "execution_count": 10,
   "metadata": {},
   "outputs": [
    {
     "data": {
      "image/png": "[encoded data removed]",
      "text/plain": [
       "<Figure size 432x288 with 1 Axes>"
      ]
     },
     "metadata": {},
     "output_type": "display_data"
    }
   ],
   "source": [
    "all_randnum = []\n",
    "for i in range(int(1e6)):\n",
    "    all_randnum.append(RNGESUS.get_randomnumber())\n",
    "    \n",
    "plt.hist(all_randnum,bins=linspace(0,1,21),edgecolor='black')\n",
    "plt.title(f'Histogram of 1 million random numbers')\n",
    "plt.xlabel('Value')\n",
    "plt.ylabel('Counts')\n",
    "plt.savefig('q1b2.png')\n",
    "plt.show();"
   ]
  },
  {
   "cell_type": "markdown",
   "metadata": {},
   "source": [
    "# Question 2"
   ]
  },
  {
   "cell_type": "code",
   "execution_count": 11,
   "metadata": {},
   "outputs": [
    {
     "name": "stdout",
     "output_type": "stream",
     "text": [
      "a, b, c = (1.8850024988161098, 0.9551760426160483, 3.079176929083844)\n"
     ]
    }
   ],
   "source": [
    "# Randomly generate a,b,c within asked bounds\n",
    "a = RNGESUS.get_randomnumber()*(2.5-1.1) + 1.1\n",
    "b = RNGESUS.get_randomnumber()*(2.0-0.5) + 0.5\n",
    "c = RNGESUS.get_randomnumber()*(4-1.5) + 1.5\n",
    "\n",
    "print (f'a, b, c = {a,b,c}')"
   ]
  },
  {
   "cell_type": "code",
   "execution_count": 12,
   "metadata": {},
   "outputs": [],
   "source": [
    "def numbdensprofile(x, a, b, c, A=1, Nsat = 100, spherical=False):\n",
    "    \"\"\"\n",
    "    Returns the number density profile from the assignment\n",
    "    \n",
    "    a controls small-scale slope\n",
    "    b contols transition scale\n",
    "    c controls steepness of exponential dropoff\n",
    "    spherical -- True to multiply by x**2 for the spherical integral\n",
    "    \"\"\"\n",
    "    if spherical:\n",
    "        power = 1\n",
    "    else:\n",
    "        power = 3\n",
    "        \n",
    "    return A*Nsat * (x/b)**(a-power) * np.exp(-(x/b)**c)"
   ]
  },
  {
   "cell_type": "code",
   "execution_count": 13,
   "metadata": {},
   "outputs": [],
   "source": [
    "def trapezoid(func,lbound,ubound,N=100,lb_open=False,ub_open=False):\n",
    "    \"\"\"\n",
    "    Calculate the integral of a function using the trapezoid rule\n",
    "    with equal spaced abscissae\n",
    "    \n",
    "    func    -- def   -- function which gives the y values\n",
    "    lbound  -- float -- lower bound of integral\n",
    "    ubound  -- float -- upper bound of integral\n",
    "    N       -- int   -- number of abscissae\n",
    "    lb_open -- bool  -- whether to include lower bound\n",
    "    ub_open -- bool  -- whether to include upper bound\n",
    "    \n",
    "    \"\"\"\n",
    "    xvalues = linspace(lbound,ubound,N)\n",
    "    delta_x = (ubound-lbound)/(N-1)    \n",
    "    \n",
    "    if lb_open: # skip lower bound, start at x1\n",
    "        start_midpoint = 2\n",
    "        integral = func(xvalues[1])*3/2\n",
    "        \n",
    "    else: # dont skip lower bound, start at x0\n",
    "        integral = func(lbound)/2       \n",
    "        start_midpoint = 1\n",
    "    \n",
    "    if ub_open:\n",
    "        end_midpoint = -2\n",
    "    else:\n",
    "        end_midpoint = -1\n",
    "    \n",
    "    # all middle points\n",
    "    for x in xvalues[start_midpoint:end_midpoint]:\n",
    "        integral += func(x)\n",
    "    \n",
    "    if ub_open:\n",
    "        integral += func(xvalues[-2])*(3/2)\n",
    "    else: \n",
    "        integral += func(xvalues[-1])/2\n",
    "        \n",
    "    integral *= delta_x\n",
    "    \n",
    "    return integral\n",
    "    "
   ]
  },
  {
   "cell_type": "code",
   "execution_count": 14,
   "metadata": {},
   "outputs": [],
   "source": [
    "def extended_midpoint(func,lbound,ubound,N=100):\n",
    "    \"\"\"\n",
    "    N is the number of abscissae, thus we have N-1 intervals\n",
    "    \"\"\"\n",
    "    \n",
    "    delta_x = (ubound-lbound)/(N-1)    \n",
    "    # Equally spaces x values at the midpoints\n",
    "    xvalues = np.arange(lbound+delta_x,ubound-delta_x,delta_x)\n",
    "    \n",
    "    # all points\n",
    "    integral = 0\n",
    "    for x in xvalues:\n",
    "        integral += func(x)\n",
    "    \n",
    "    integral *= delta_x\n",
    "    \n",
    "#     Should still add first or last point depending on open/closed\n",
    "    return integral"
   ]
  },
  {
   "cell_type": "code",
   "execution_count": 15,
   "metadata": {},
   "outputs": [],
   "source": [
    "def simpsons(func, lbound, ubound, N=100):\n",
    "    \"\"\"\n",
    "    Calculate the integral of a function using Simpsons rule\n",
    "    with equal spaced abscissae\n",
    "    \n",
    "    func -- function which gives the y values\n",
    "    lbound -- lower bound of integral\n",
    "    ubound -- upper bound of integral\n",
    "    N      -- number of abscissae (N-1 intervals)\n",
    "    \n",
    "    \"\"\"\n",
    "    xvalues = linspace(lbound,ubound,N)\n",
    "    delta_x = (ubound-lbound)/(N-1)\n",
    "    # first point and last point \n",
    "    integral = func(lbound) + func(ubound)\n",
    "    # all other points\n",
    "    for i in range(1,N-1):\n",
    "        # om en om 4 en 2, beginnen bij 4 als i=1\n",
    "        if i % 2 == 0:            \n",
    "            integral += 2*func(xvalues[i])\n",
    "        else:\n",
    "            integral += 4*func(xvalues[i])\n",
    "    integral *= delta_x/3\n",
    "    \n",
    "    return integral\n",
    "    \n",
    "\n",
    "def open_simpsons(func, lbound, ubound, N=100, lb_closed=False, ub_closed=False):\n",
    "    \"\"\"\n",
    "    Implementation of simpsons rule for possibly open intervals\n",
    "    by default calculates open integral for both lower and upper bound\n",
    "    Can close one of the bounds with lb_closed or ub_closed params\n",
    "    \n",
    "    see also def simpsons\n",
    "    \n",
    "    \"\"\"\n",
    "    \n",
    "    # if both bounds are closed, just do normal simpsons\n",
    "    if lb_closed and ub_closed:\n",
    "        return simpsons(func,lbound,ubound,N)\n",
    "    \n",
    "    delta_x = (ubound-lbound)/(N-1)\n",
    "    xvalues = linspace(lbound,ubound,N)\n",
    "    \n",
    "    if not lb_closed: # If lb open, first point is now x1 \n",
    "        xvalues = xvalues[1:]\n",
    "        \n",
    "    if not ub_closed: # last point is N-1\n",
    "        xvalues = xvalues[:-1]\n",
    "        \n",
    "    # coefficients\n",
    "    if lb_closed: # if lb closed use 'normal' coefficients\n",
    "        coefficients = [1,4,2,4] #x0 till x3\n",
    "    else:\n",
    "        coefficients = [27/4,0,13/4] #x1 till x3 \n",
    "    for i in range(4,N-4): # go until N-3\n",
    "        # 4 and 2 alternating\n",
    "        if i % 2 == 0:\n",
    "            coefficients.append(4)\n",
    "        else:\n",
    "            coefficients.append(2)\n",
    "    \n",
    "    if ub_closed: # if ub closed use 'normal' coefficients\n",
    "        coefficients += [4,2,4,1] # N-3 to N\n",
    "    else:\n",
    "        coefficients += [13/4,0,27/4] # N-3 to N-1\n",
    "        \n",
    "    coefficients = np.asarray(coefficients)\n",
    "    integral = delta_x/3 * np.sum(func(xvalues)*coefficients)\n",
    "    \n",
    "    return integral"
   ]
  },
  {
   "cell_type": "code",
   "execution_count": 16,
   "metadata": {},
   "outputs": [],
   "source": [
    "def romberg(func, lbound, ubound, order=6):\n",
    "    \"\"\"\n",
    "    Calculate the integral of a function using Romberg's method\n",
    "    with equal spaced abscissae\n",
    "    \n",
    "    func -- function which gives the y values\n",
    "    lbound -- lower bound of integral\n",
    "    ubound -- upper bound of integral\n",
    "    N      -- number of abscissae\n",
    "    \n",
    "    efficiency:\n",
    "    http://homen.vsb.cz/~lud0016/NM/Lecture_Notes_10-Romberg_Integration.pdf\n",
    "    \n",
    "    \"\"\"\n",
    "    \n",
    "    # for saving S_i,j's\n",
    "    all_S = np.zeros((order,order))\n",
    "    \n",
    "    i = 0\n",
    "    delta_x = (ubound-lbound)\n",
    "    points = linspace(lbound,ubound,2**i+1)\n",
    "    integral = delta_x/2 * np.sum(func(points))\n",
    "    all_S[0,0] = integral\n",
    "    \n",
    "    # Then calculate the first column (S_{i,0})\n",
    "    for i in range(1,order):\n",
    "        delta_x /= 2\n",
    "        # add points in the middle\n",
    "        points = linspace(lbound,ubound,2**i+1)\n",
    "        # add new points to the integral (om en om, starting from 1)\n",
    "        integral = 0.5*integral + delta_x * np.sum(func(points[1::2]))\n",
    "        \n",
    "        all_S[i,0] = integral\n",
    "    \n",
    "    for j in range(1,order): # columns\n",
    "        for i in range(j,order): # rows\n",
    "            #print (i,j)\n",
    "            #print (f'{4**j}*S{i},{j-1} - S{i-1},{j-1} / {4**j} - 1' )\n",
    "            all_S[i,j] = (4**j*all_S[i,j-1] - all_S[i-1,j-1]) / (\n",
    "                           4**j -1)\n",
    "\n",
    "    # compare this for the error function with the slides. \n",
    "    # print (all_S)\n",
    "    \n",
    "    return all_S[order-1,order-1]\n",
    "        \n"
   ]
  },
  {
   "cell_type": "code",
   "execution_count": 19,
   "metadata": {},
   "outputs": [],
   "source": [
    "def extended_romberg(func, lbound, ubound, order=6):\n",
    "    \"\"\"\n",
    "    Calculate the integral of a function using Romberg's method\n",
    "    with extended midpoints\n",
    "    \n",
    "    func -- function which gives the y values\n",
    "    lbound -- lower bound of integral\n",
    "    ubound -- upper bound of integral\n",
    "    N      -- number of abscissae\n",
    "    \n",
    "    \"\"\"\n",
    "    \n",
    "    # for saving S_i,j's\n",
    "    all_S = np.zeros((order,order))\n",
    "    \n",
    "    i = 0\n",
    "    delta_x = (ubound-lbound)/2\n",
    "    # just the first midpoint\n",
    "    points = np.array([ubound+delta_x])\n",
    "    npoints = points\n",
    "    integral = delta_x * func(points)\n",
    "    \n",
    "    all_S[0,0] = integral\n",
    "    \n",
    "    # Then calculate the first column (S_{i,0})\n",
    "    for i in range(1,order):\n",
    "        npoints *= 3\n",
    "        delta_x = (ubound-lbound)/(npoints+1)\n",
    "        # add points in the middle\n",
    "        points = linspace(lbound+delta_x,ubound-delta_x,int(npoints))\n",
    "        # add new points to the integral (om en om, starting from 0)\n",
    "        integral = 0.5*integral + delta_x * np.sum(func(points[0::2]))\n",
    "        \n",
    "        all_S[i,0] = integral\n",
    "    \n",
    "    for j in range(1,order): # columns\n",
    "        for i in range(j,order): # rows\n",
    "            #print (i,j)\n",
    "            #print (f'{4**j}*S{i},{j-1} - S{i-1},{j-1} / {4**j} - 1' )\n",
    "            all_S[i,j] = (9*all_S[i,j-1] - all_S[i-1,j-1]) / (\n",
    "                           8)\n",
    "\n",
    "    # compare this for the error function with the slides. \n",
    "    # print (all_S)\n",
    "    \n",
    "    return all_S[order-1,order-1]"
   ]
  },
  {
   "cell_type": "code",
   "execution_count": 20,
   "metadata": {},
   "outputs": [
    {
     "data": {
      "image/png": "[encoded data removed]",
      "text/plain": [
       "<Figure size 432x288 with 1 Axes>"
      ]
     },
     "metadata": {},
     "output_type": "display_data"
    },
    {
     "name": "stdout",
     "output_type": "stream",
     "text": [
      "Trapezoid:\n",
      "50.77330151645806\n",
      "Romberg:\n",
      "50.77466434102478\n",
      "Extended midpoint:\n",
      "50.77330151645811\n",
      "Extended Romberg:\n",
      "1.5941711616470904e-13\n",
      "Open simpsons\n",
      "50.770691384258505\n",
      "\n"
     ]
    }
   ],
   "source": [
    "# For \n",
    "# a, b, c = (2.4545593364474785, 1.2954526977495828, 2.700255764586844)\n",
    "a = 2.45#45593364474785\n",
    "b = 1.29#54526977495828\n",
    "c = 2.70#0255764586844\n",
    "# 84.4941\n",
    "# integrate quad: 84.4941064059743,\n",
    "\n",
    "# WolframAlpha input:\n",
    "# integrate ( 100 * (x/b)**(a-3) * exp(-(x/b)**c)  ) from 0 to 5 where a = 2.4545593364474785, b = 1.2954526977495828, c = 2.700255764586844\n",
    "\n",
    "xs = linspace(0.001,5,100)\n",
    "plt.plot(xs, numbdensprofile(xs, a, b, c,spherical=True))\n",
    "plt.title('Number density profile * $x^2$')\n",
    "plt.xlabel('x')\n",
    "plt.ylabel('$x^2 n(x)$')\n",
    "plt.show();\n",
    "\n",
    "# integral is only a function of R so add the prefactor manually\n",
    "prefactor = 4*np.pi # integral over theta and phi\n",
    "print (\"Trapezoid:\")\n",
    "print (trapezoid(lambda x:  numbdensprofile(x, a, b, c, spherical=True)\n",
    "                 , 0, 5,N=100))\n",
    "\n",
    "print (\"Romberg:\")\n",
    "print (romberg(lambda x: numbdensprofile(x, a, b, c, spherical=True)\n",
    "               , 0, 5,order=10))\n",
    "\n",
    "print (\"Extended midpoint:\")\n",
    "print (extended_midpoint(lambda x: numbdensprofile(x,a,b,c,spherical=True)\n",
    "                         ,0,5,N=100))\n",
    "\n",
    "print (\"Extended Romberg:\")\n",
    "print (extended_romberg(lambda x: numbdensprofile(x, a, b, c,spherical=True)\n",
    "                        , 0, 5,order=10))\n",
    "\n",
    "print (\"Open simpsons\")\n",
    "print (open_simpsons(lambda x: numbdensprofile(x, a, b, c,spherical=True)\n",
    "                        , 0, 5,N=100,ub_closed=True,lb_closed=False))\n",
    "\n",
    "print ()"
   ]
  },
  {
   "cell_type": "code",
   "execution_count": 21,
   "metadata": {},
   "outputs": [
    {
     "name": "stdout",
     "output_type": "stream",
     "text": [
      "For the following \n",
      "a, b, c = (1.1132884107646899, 1.250296832286201, 1.7885721190002482)\n"
     ]
    }
   ],
   "source": [
    "# Randomly generate a,b,c within asked bounds\n",
    "a = RNGESUS.get_randomnumber()*(2.5-1.1) + 1.1\n",
    "b = RNGESUS.get_randomnumber()*(2.0-0.5) + 0.5\n",
    "c = RNGESUS.get_randomnumber()*(4-1.5) + 1.5\n",
    "\n",
    "print (\"For the following \")\n",
    "print (f'a, b, c = {a,b,c}')\n",
    "\n",
    "# print (\"Extended midpoint rule gives:\")\n",
    "# A = 1 / ( extended_midpoint(lambda x: x**2*numbdensprofile(x,a,b,c)\n",
    "#                          ,0,5,N=100))\n",
    "# print (f\"A = {A}\")"
   ]
  },
  {
   "cell_type": "markdown",
   "metadata": {},
   "source": [
    "### Make a loglog plot of and plot single points for n(1e-4), n(1e-2), n(1e-1), n(1) and n(5)"
   ]
  },
  {
   "cell_type": "code",
   "execution_count": 22,
   "metadata": {},
   "outputs": [
    {
     "data": {
      "image/png": "[encoded data removed]",
      "text/plain": [
       "<Figure size 432x288 with 1 Axes>"
      ]
     },
     "metadata": {},
     "output_type": "display_data"
    },
    {
     "data": {
      "image/png": "[encoded data removed]",
      "text/plain": [
       "<Figure size 432x288 with 1 Axes>"
      ]
     },
     "metadata": {},
     "output_type": "display_data"
    }
   ],
   "source": [
    "points = np.array([1e-4, 1e-2, 1e-1, 1, 5])\n",
    "yvalues = numbdensprofile(points,a,b,c)\n",
    "plt.scatter(points,yvalues)\n",
    "plt.xscale('log')\n",
    "plt.yscale('log')\n",
    "plt.xlim(1e-5,1e1)\n",
    "plt.ylim(1e1,5e9)\n",
    "plt.show();\n",
    "\n",
    "\n",
    "# Testing\n",
    "points = np.logspace(-4,0.7,100)\n",
    "yvalues = numbdensprofile(points,a,b,c)\n",
    "plt.scatter(points,yvalues)\n",
    "plt.xscale('log')\n",
    "plt.yscale('log')\n",
    "plt.xlim(1e-5,1e1)\n",
    "plt.ylim(1e1,5e9)\n",
    "plt.show();\n"
   ]
  },
  {
   "cell_type": "code",
   "execution_count": null,
   "metadata": {},
   "outputs": [],
   "source": []
  },
  {
   "cell_type": "code",
   "execution_count": 23,
   "metadata": {},
   "outputs": [],
   "source": [
    "def add_new_points(points,dx):\n",
    "    \"\"\"\n",
    "    Insert points in the middle of all points using np.insert\n",
    "    \"\"\"\n",
    "    midpoints = points[:-1] + dx\n",
    "    midindices = range(1,len(points))\n",
    "    return np.insert(points,midindices,midpoints)"
   ]
  },
  {
   "cell_type": "code",
   "execution_count": 24,
   "metadata": {},
   "outputs": [],
   "source": [
    "def better_romberg(func, lbound, ubound, order=6):\n",
    "    \"\"\"\n",
    "    Calculate the integral of a function using Romberg's method\n",
    "    with equal spaced abscissae\n",
    "    \n",
    "    func -- function which gives the y values\n",
    "    lbound -- lower bound of integral\n",
    "    ubound -- upper bound of integral\n",
    "    N      -- number of abscissae\n",
    "    \n",
    "    efficiency:\n",
    "    http://homen.vsb.cz/~lud0016/NM/Lecture_Notes_10-Romberg_Integration.pdf\n",
    "    \n",
    "    Returns \n",
    "     Value of the integral\n",
    "     Error estimate\n",
    "     \n",
    "    The error estimate is given as the difference between last 2 orders\n",
    "    \"\"\"\n",
    "    \n",
    "    # for saving S_i,j's\n",
    "    all_S = np.zeros((order,order))\n",
    "    \n",
    "    i = 0\n",
    "    delta_x = (ubound-lbound)\n",
    "    points = np.array([lbound,ubound])\n",
    "    integral = delta_x/2 * np.sum(func(points))\n",
    "    all_S[0,0] = integral\n",
    "    \n",
    "    # Then calculate the first column (S_{i,0})\n",
    "    for i in range(1,order):\n",
    "        delta_x /= 2\n",
    "        # points in the middle\n",
    "        midpoints = points[:-1] + delta_x\n",
    "        midindices = range(1,len(points))\n",
    "        \n",
    "        # add new points to the integral (om en om, starting from 1)\n",
    "        integral = 0.5*integral + delta_x * np.sum(func(midpoints))\n",
    "        \n",
    "        # update array of points\n",
    "        points = np.insert(points,midindices,midpoints)\n",
    "        \n",
    "        all_S[i,0] = integral\n",
    "    \n",
    "    # Finally, build the Romberg table from the first column\n",
    "    for j in range(1,order): # columns\n",
    "        for i in range(j,order): # rows\n",
    "            #print (i,j)\n",
    "            #print (f'{4**j}*S{i},{j-1} - S{i-1},{j-1} / {4**j} - 1' )\n",
    "            all_S[i,j] = (4**j*all_S[i,j-1] - all_S[i-1,j-1]) / (\n",
    "                           4**j - 1)\n",
    "\n",
    "    # compare this for the error function with the slides. \n",
    "    # print (all_S)    \n",
    "    return all_S[order-1,order-1], (all_S[order-1,order-1]-all_S[order-1,order-2])\n",
    "        \n"
   ]
  },
  {
   "cell_type": "code",
   "execution_count": 31,
   "metadata": {},
   "outputs": [
    {
     "name": "stdout",
     "output_type": "stream",
     "text": [
      "Romberg:\n",
      "50.77466434102478, took 0.0008158683776855469 seconds\n",
      " 'Better' romberg:\n",
      "(50.77466434102478, -1.2816769867640687e-10), took 0.0022051334381103516 seconds\n",
      "\n",
      "Difference between this and linspace: 0.0013892650604248047\n",
      "We want to see a negative value so\n",
      "Seems linspace is faster anyhow\n"
     ]
    }
   ],
   "source": [
    "a,b,c = 2.45, 1.29, 2.7\n",
    "\n",
    "import time\n",
    "\n",
    "print (\"Romberg:\")\n",
    "start = time.time()\n",
    "ans = romberg(lambda x: numbdensprofile(x, a, b, c, spherical=True)\n",
    "               , 0., 5.,order=10)\n",
    "total_time = time.time()-start\n",
    "print (f\"{ans}, took {total_time} seconds\")\n",
    "\n",
    "\n",
    "print (\" 'Better' romberg:\")\n",
    "start = time.time()\n",
    "ans = better_romberg(lambda x: numbdensprofile(x, a, b, c, spherical=True)\n",
    "               , 0., 5.,order=10)\n",
    "total_time2 = time.time()-start\n",
    "print (f\"{ans}, took {total_time2} seconds\")\n",
    "\n",
    "print (\"\\nDifference between this and linspace:\", total_time2-total_time)\n",
    "print (\"We want to see a negative value so\")\n",
    "\n",
    "print (\"Seems linspace is faster anyhow\")"
   ]
  },
  {
   "cell_type": "code",
   "execution_count": 29,
   "metadata": {},
   "outputs": [],
   "source": [
    "# Timing test\n",
    "\n",
    "def linspace_multiplications(lower,upper,numpoints):\n",
    "    \"\"\"\n",
    "    Generate 'numpoints' equally spaced between 'lower' and 'upper'\n",
    "    i.e., replacement of np.linspace\n",
    "    \"\"\"\n",
    "    dx = (upper-lower)/(numpoints-1)\n",
    "    ans = [lower]\n",
    "    for i in range(1,numpoints-1):\n",
    "        ans.append(i*dx)\n",
    "    ans.append(upper)\n",
    "    return np.asarray(ans)\n",
    "        \n",
    "def linspace_summing(lower,upper,numpoints):\n",
    "    \"\"\"\n",
    "    Generate 'numpoints' equally spaced between 'lower' and 'upper'\n",
    "    i.e., replacement of np.linspace\n",
    "    \"\"\"\n",
    "    \n",
    "    dx = (upper-lower)/(numpoints-1)\n",
    "    point = lower\n",
    "    ans = [point]\n",
    "    for i in range(1,numpoints-1):\n",
    "        point += dx\n",
    "        ans.append(point)\n",
    "    ans.append(upper)\n",
    "    return np.asarray(ans)\n",
    "    "
   ]
  },
  {
   "cell_type": "code",
   "execution_count": 27,
   "metadata": {},
   "outputs": [
    {
     "name": "stdout",
     "output_type": "stream",
     "text": [
      "160 µs ± 4.35 µs per loop (mean ± std. dev. of 7 runs, 10000 loops each)\n",
      "147 µs ± 2.79 µs per loop (mean ± std. dev. of 7 runs, 10000 loops each)\n"
     ]
    }
   ],
   "source": [
    "% timeit linspace_multiplications(0,5,1000)\n",
    "\n",
    "% timeit linspace_summing(0,5,1000)"
   ]
  },
  {
   "cell_type": "code",
   "execution_count": null,
   "metadata": {},
   "outputs": [],
   "source": []
  },
  {
   "cell_type": "code",
   "execution_count": null,
   "metadata": {},
   "outputs": [],
   "source": []
  },
  {
   "cell_type": "code",
   "execution_count": null,
   "metadata": {},
   "outputs": [],
   "source": []
  },
  {
   "cell_type": "code",
   "execution_count": null,
   "metadata": {},
   "outputs": [],
   "source": []
  }
 ],
 "metadata": {
  "kernelspec": {
   "display_name": "Python 3",
   "language": "python",
   "name": "python3"
  },
  "language_info": {
   "codemirror_mode": {
    "name": "ipython",
    "version": 3
   },
   "file_extension": ".py",
   "mimetype": "text/x-python",
   "name": "python",
   "nbconvert_exporter": "python",
   "pygments_lexer": "ipython3",
   "version": "3.6.5"
  }
 },
 "nbformat": 4,
 "nbformat_minor": 2
}
