{
 "cells": [
  {
   "cell_type": "code",
   "execution_count": 1,
   "metadata": {},
   "outputs": [],
   "source": [
    "import numpy as np"
   ]
  },
  {
   "cell_type": "code",
   "execution_count": 2,
   "metadata": {},
   "outputs": [],
   "source": [
    "def xsquared(x):\n",
    "    return x**2"
   ]
  },
  {
   "cell_type": "code",
   "execution_count": 3,
   "metadata": {},
   "outputs": [],
   "source": [
    "def trapezoid(func,lbound,ubound,N=100):\n",
    "    \"\"\"\n",
    "    Calculate the integral of a function using the trapezoid rule\n",
    "    with equal spaced abscissae\n",
    "    \n",
    "    func -- function which gives the y values\n",
    "    lbound -- lower bound of integral\n",
    "    ubound -- upper bound of integral\n",
    "    N      -- number of abscissae\n",
    "    \n",
    "    \"\"\"\n",
    "    xvalues = np.linspace(lbound,ubound,N)\n",
    "    delta_x = (ubound-lbound)/(N-1)\n",
    "    # first point\n",
    "    integral = func(lbound)/2\n",
    "    # all middle points\n",
    "    for x in xvalues[1:-1]:\n",
    "        integral += func(x)\n",
    "    # endpoint\n",
    "    integral += func(xvalues[-1])/2\n",
    "    integral *= delta_x\n",
    "    \n",
    "    return integral\n",
    "    \n",
    "    \n",
    "    \n",
    "    "
   ]
  },
  {
   "cell_type": "code",
   "execution_count": 4,
   "metadata": {},
   "outputs": [],
   "source": [
    "def simpsons(func, lbound, ubound, N=100):\n",
    "    \"\"\"\n",
    "    Calculate the integral of a function using Simpsons rule\n",
    "    with equal spaced abscissae\n",
    "    \n",
    "    func -- function which gives the y values\n",
    "    lbound -- lower bound of integral\n",
    "    ubound -- upper bound of integral\n",
    "    N      -- number of abscissae\n",
    "    \n",
    "    \"\"\"\n",
    "    xvalues = np.linspace(lbound,ubound,N)\n",
    "    delta_x = (ubound-lbound)/(N-1)\n",
    "    # first point and last point \n",
    "    integral = func(lbound) + func(ubound)\n",
    "    # all other points\n",
    "    for i in range(1,len(xvalues)-1):\n",
    "        # om en om 4 en 2, beginnen bij 4 als i=1\n",
    "        if i % 2 == 0:            \n",
    "            integral += 2*func(xvalues[i])\n",
    "        else:\n",
    "            integral += 4*func(xvalues[i])\n",
    "    integral *= delta_x/3\n",
    "    \n",
    "    return integral\n",
    "    "
   ]
  },
  {
   "cell_type": "code",
   "execution_count": 5,
   "metadata": {},
   "outputs": [],
   "source": [
    "def romberg(func, lbound, ubound, order=6):\n",
    "    \"\"\"\n",
    "    Calculate the integral of a function using Romberg's method\n",
    "    with equal spaced abscissae\n",
    "    \n",
    "    func -- function which gives the y values\n",
    "    lbound -- lower bound of integral\n",
    "    ubound -- upper bound of integral\n",
    "    N      -- number of abscissae\n",
    "    \n",
    "    \"\"\"\n",
    "    \n",
    "    \n",
    "    # for saving S_i,j's\n",
    "    all_S = np.zeros((order,order))\n",
    "    \n",
    "    i = 0\n",
    "    delta_x = (ubound-lbound)\n",
    "    points = np.linspace(lbound,ubound,2**i+1)\n",
    "    integral = delta_x/2 * np.sum(func(points))\n",
    "    all_S[0,0] = integral\n",
    "    \n",
    "    # Then calculate the first column (S_{i,0})\n",
    "    for i in range(1,order):\n",
    "        delta_x /= 2\n",
    "        # add points in the middle\n",
    "        points = np.linspace(lbound,ubound,2**i+1)\n",
    "        # add new points to the integral (om en om, starting from 1)\n",
    "        integral = 0.5*integral + delta_x * np.sum(func(points[1::2]))\n",
    "        \n",
    "        all_S[i,0] = integral\n",
    "    \n",
    "    for j in range(1,order): # columns\n",
    "        for i in range(j,order): # rows\n",
    "            #print (i,j)\n",
    "            #print (f'{4**j}*S{i},{j-1} - S{i-1},{j-1} / {4**j} - 1' )\n",
    "            all_S[i,j] = (4**j*all_S[i,j-1] - all_S[i-1,j-1]) / (\n",
    "                           4**j -1)\n",
    "\n",
    "    # compare this for the error function with the slides. \n",
    "    # print (all_S)\n",
    "    \n",
    "    return all_S[order-1,order-1]\n",
    "        \n",
    "\n",
    "    \n",
    "    \n",
    "    "
   ]
  },
  {
   "cell_type": "code",
   "execution_count": 6,
   "metadata": {},
   "outputs": [
    {
     "name": "stdout",
     "output_type": "stream",
     "text": [
      "\n",
      "\n",
      "Trapezoid\n",
      "Question 1a, x**2:  41.334421657654005\n",
      "Question 1a, sin(x) 1.9998321638939924\n",
      "\n",
      "\n",
      "Simpsons\n",
      "Question 1a, x**2:  40.99935380743462\n",
      "Question 1a, sin(x) 1.9998321638939922\n",
      "\n",
      "\n",
      "Romberg\n",
      "Question 1a, x**2:  41.333333333333336\n",
      "Question 1a, sin(x) 2.000000000001321\n",
      "Error function 0.8427007932686706\n"
     ]
    }
   ],
   "source": [
    "q1a = trapezoid(xsquared,1,5,N=100)\n",
    "q1a2 = trapezoid(lambda x: np.sin(x), 0, np.pi, N=100)\n",
    "\n",
    "print ('\\n')\n",
    "print (\"Trapezoid\")\n",
    "print (\"Question 1a, x**2: \", q1a)\n",
    "print (\"Question 1a, sin(x)\", q1a2)\n",
    "\n",
    "q1a = simpsons(xsquared,1,5,N=100)\n",
    "q1a2 = simpsons(lambda x: np.sin(x), 0, np.pi, N=100)\n",
    "\n",
    "print ('\\n')\n",
    "print (\"Simpsons\")\n",
    "print (\"Question 1a, x**2: \", q1a)\n",
    "print (\"Question 1a, sin(x)\", q1a2)\n",
    "\n",
    "q1a = romberg(xsquared,1,5,order=6)\n",
    "q1a2 = romberg(lambda x: np.sin(x), 0, np.pi, order=6)\n",
    "\n",
    "print ('\\n')\n",
    "print (\"Romberg\")\n",
    "print (\"Question 1a, x**2: \", q1a)\n",
    "print (\"Question 1a, sin(x)\", q1a2)\n",
    "\n",
    "test = romberg(lambda x: 2/np.sqrt(np.pi) * np.exp(-x**2),0,1,order=5)\n",
    "print ('Error function', test)\n"
   ]
  },
  {
   "cell_type": "code",
   "execution_count": null,
   "metadata": {},
   "outputs": [],
   "source": []
  },
  {
   "cell_type": "code",
   "execution_count": null,
   "metadata": {},
   "outputs": [],
   "source": []
  },
  {
   "cell_type": "code",
   "execution_count": null,
   "metadata": {},
   "outputs": [],
   "source": []
  }
 ],
 "metadata": {
  "kernelspec": {
   "display_name": "Python 3",
   "language": "python",
   "name": "python3"
  },
  "language_info": {
   "codemirror_mode": {
    "name": "ipython",
    "version": 3
   },
   "file_extension": ".py",
   "mimetype": "text/x-python",
   "name": "python",
   "nbconvert_exporter": "python",
   "pygments_lexer": "ipython3",
   "version": "3.6.6"
  }
 },
 "nbformat": 4,
 "nbformat_minor": 2
}
